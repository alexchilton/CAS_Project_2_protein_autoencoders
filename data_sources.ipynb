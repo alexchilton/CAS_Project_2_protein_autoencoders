{
 "cells": [
  {
   "cell_type": "markdown",
   "metadata": {},
   "source": [
    "# Protein possible sources"
   ]
  },
  {
   "cell_type": "markdown",
   "metadata": {},
   "source": [
    "### Sources: \n",
    "\n",
    "- Kaggle dataset:\n",
    "link: https://www.kaggle.com/datasets/amerii/cafa-5-pdbs\n",
    "\n",
    "- Protein data bank: free, but we need then to run simulations \n",
    "link: https://files.wwpdb.org/pub/pdb/data/biounit/PDB/divided/\n",
    "\n",
    "- MoDEL: already simulated conditions but under licence\n",
    "link: https://mmb.irbbarcelona.org/MoDEL/\n",
    "\n",
    "- Dynamut: containing more data about the changes upon mutations, results from simulations\n",
    "link: https://biosig.lab.uq.edu.au/dynamut/\n",
    "\n",
    "- MDAnalysis: suite to run simulations in a python env - needs already structures \n",
    "link: https://www.mdanalysis.org/\n",
    "\n",
    "### MD software tools: \n",
    "\n",
    "- GROMACS: to run simulations on custom parameters, see below how - free\n",
    "link: https://www.gromacs.org/\n",
    "\n",
    "- AMBER: also free, born in 1970 and community maintained. \n",
    "link: https://ambermd.org/AmberMD.php\n",
    "\n",
    "- NAMD: advanced tool for MD using Nvidia GPU - under licence \n",
    "link: https://www.ks.uiuc.edu/Research/namd/  \n",
    "link to example use: https://events.prace-ri.eu/event/868/sessions/2631/attachments/972/1604/NAMD_PRACE_2019.pdf\n",
    "\n",
    "- CHARMM: simulation software running on Cuda Nvidia GPU - free for academics and research \n",
    "link: https://brooks.chem.lsa.umich.edu/register/#:~:text=CHARMM%20is%20a%20versatile%20molecular,and%20the%20small%20molecules%20that\n",
    "\n",
    "- openMM: works on python (through pip install), full freedom to create simulations though custome parameters set via python\n",
    "link: https://openmm.org/\n",
    "\n",
    "\n",
    "### Summary\n",
    "\n",
    "Probable solution: use databank to get proteins, run simulations with GROMACS, AMBER or openMM"
   ]
  },
  {
   "cell_type": "markdown",
   "metadata": {},
   "source": []
  },
  {
   "cell_type": "markdown",
   "metadata": {},
   "source": [
    "### PDB Data:\n",
    "\n",
    "The primary information stored in the PDB archive consists of coordinate files for biological molecules. These files list the atoms in each protein, and their 3D location in space. These files are available in several formats (PDB, mmCIF, XML). A typical PDB formatted file includes a large \"header\" section of text that summarizes the protein, citation information, and the details of the structure solution, followed by the sequence and a long list of the atoms and their coordinates. The archive also contains the experimental observations that are used to determine these atomic coordinates."
   ]
  },
  {
   "cell_type": "markdown",
   "metadata": {},
   "source": []
  }
 ],
 "metadata": {
  "language_info": {
   "name": "python"
  }
 },
 "nbformat": 4,
 "nbformat_minor": 2
}
