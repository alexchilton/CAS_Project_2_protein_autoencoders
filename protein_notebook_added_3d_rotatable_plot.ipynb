{
 "cells": [
  {
   "cell_type": "markdown",
   "metadata": {},
   "source": [
    "# Libraries "
   ]
  },
  {
   "cell_type": "code",
   "metadata": {
    "_cell_guid": "b1076dfc-b9ad-4769-8c92-a6c4dae69d19",
    "_uuid": "8f2839f25d086af736a60e9eeb907d3b93b6e0e5",
    "collapsed": true,
    "execution": {
     "iopub.execute_input": "2024-10-13T12:41:18.382131Z",
     "iopub.status.busy": "2024-10-13T12:41:18.381667Z",
     "iopub.status.idle": "2024-10-13T12:44:06.661830Z",
     "shell.execute_reply": "2024-10-13T12:44:06.660454Z",
     "shell.execute_reply.started": "2024-10-13T12:41:18.382086Z"
    },
    "jupyter": {
     "outputs_hidden": true
    },
    "trusted": true,
    "ExecuteTime": {
     "end_time": "2024-11-05T16:58:58.139913Z",
     "start_time": "2024-11-05T16:58:58.123411Z"
    }
   },
   "source": [
    "import os\n",
    "import random\n",
    "import numpy as np \n",
    "import matplotlib.pyplot as plt\n",
    "import pandas as pd\n",
    "import seaborn as sns \n",
    "import glob\n",
    "import Bio\n",
    "\n",
    "from Bio.PDB.PDBParser import PDBParser\n",
    "from Bio.PDB.internal_coords import *\n",
    "from Bio.PDB import NeighborSearch\n",
    "\n",
    "import matplotlib.lines as mlines\n",
    "from mpl_toolkits.mplot3d import Axes3D\n",
    "\n",
    "import protein_parser"
   ],
   "outputs": [],
   "execution_count": 16
  },
  {
   "cell_type": "markdown",
   "metadata": {},
   "source": [
    "## Reading PDB files and protein info"
   ]
  },
  {
   "cell_type": "code",
   "metadata": {
    "execution": {
     "iopub.execute_input": "2024-10-13T14:00:53.612022Z",
     "iopub.status.busy": "2024-10-13T14:00:53.611575Z",
     "iopub.status.idle": "2024-10-13T14:00:53.715551Z",
     "shell.execute_reply": "2024-10-13T14:00:53.714198Z",
     "shell.execute_reply.started": "2024-10-13T14:00:53.611980Z"
    },
    "trusted": true,
    "ExecuteTime": {
     "end_time": "2024-11-05T16:59:02.294694Z",
     "start_time": "2024-11-05T16:59:02.286098Z"
    }
   },
   "source": [
    "parser=PDBParser(PERMISSIVE=1)\n",
    "\n",
    "structure_id='test_protein'\n",
    "#filename='/Users/alexchilton/Downloads/archive/train/AF-A0A0H2UPE1-F1-model_v4.pdb'\n",
    "filename='/Users/alexchilton/Downloads/archive/train/AF-D0ZA02-F1-model_v4.pdb'\n",
    "\n",
    "structure=parser.get_structure(structure_id, filename)"
   ],
   "outputs": [],
   "execution_count": 17
  },
  {
   "cell_type": "code",
   "metadata": {
    "ExecuteTime": {
     "end_time": "2024-11-05T16:59:05.423119Z",
     "start_time": "2024-11-05T16:59:05.407945Z"
    }
   },
   "source": [
    "aa_info=pd.read_csv('aa_mass_letter.csv')\n",
    "aa_info_dict = aa_info.set_index('Abbrev.').to_dict(orient='index')"
   ],
   "outputs": [],
   "execution_count": 18
  },
  {
   "cell_type": "markdown",
   "metadata": {},
   "source": [
    "## Select one example protein"
   ]
  },
  {
   "cell_type": "code",
   "metadata": {
    "execution": {
     "iopub.execute_input": "2024-10-13T14:16:27.351529Z",
     "iopub.status.busy": "2024-10-13T14:16:27.351054Z",
     "iopub.status.idle": "2024-10-13T14:16:27.362198Z",
     "shell.execute_reply": "2024-10-13T14:16:27.360817Z",
     "shell.execute_reply.started": "2024-10-13T14:16:27.351483Z"
    },
    "trusted": true,
    "ExecuteTime": {
     "end_time": "2024-11-05T16:59:06.867501Z",
     "start_time": "2024-11-05T16:59:06.864168Z"
    }
   },
   "source": [
    "# to get the whole dict with the header in one shot\n",
    "from Bio.PDB import parse_pdb_header\n",
    "with open(filename, \"r\") as handle:\n",
    "    header_dict = parse_pdb_header(handle)"
   ],
   "outputs": [],
   "execution_count": 19
  },
  {
   "cell_type": "code",
   "metadata": {
    "execution": {
     "iopub.execute_input": "2024-10-13T14:15:28.218111Z",
     "iopub.status.busy": "2024-10-13T14:15:28.217675Z",
     "iopub.status.idle": "2024-10-13T14:15:28.228517Z",
     "shell.execute_reply": "2024-10-13T14:15:28.227138Z",
     "shell.execute_reply.started": "2024-10-13T14:15:28.218069Z"
    },
    "trusted": true,
    "ExecuteTime": {
     "end_time": "2024-11-05T16:59:08.576568Z",
     "start_time": "2024-11-05T16:59:08.572035Z"
    }
   },
   "source": [
    "header_dict"
   ],
   "outputs": [
    {
     "data": {
      "text/plain": [
       "{'name': 'alphafold monomer v2.0 prediction for antimicrobial peptide gp-19 (b3a0l2)',\n",
       " 'head': '01-jun-22',\n",
       " 'idcode': '',\n",
       " 'deposition_date': '2022-06-01',\n",
       " 'release_date': '1909-01-08',\n",
       " 'structure_method': 'unknown',\n",
       " 'resolution': None,\n",
       " 'structure_reference': ['john jumper, richard evans, alexander pritzel, tim grmichael figurnov, olaf ronneberger, kathryn tunyasuvuruss bates, augustin zidek, anna potapenko, alex bridclemens meyer, simon a a kohl, andrew j ballard, andrew cowie, bernardino romera-paredes, stanislav nirishub jain, jonas adler, trevor back, stig petersen,david reiman, ellen clancy, michal zielinski, martin steinegger, michalina pacholska, tamas berghamdavid silver, oriol vinyals, andrew w senior, koray kavukcuoglu, pushmeet kohli, demis hassabis highly accurate protein structure prediction with alpnature v. 596 583 2021 issn 0028-0836 34265844 10.1038/s41586-021-03819-2 ers d data, copyright (2021) deepmind technologies limiteion provided is theoretical modelling only and cautioised in its use. it is provided \"as-is\" without any wind, whether expressed or implied. no warranty is givhe information shall not infringe the rights of any the information is not intended to be a substitute foronal medical advice, diagnosis, or treatment, and doete medical or other professional advice. it is availa and commercial purposes, under cc-by 4.0 licence. '],\n",
       " 'journal_reference': '',\n",
       " 'author': '',\n",
       " 'compound': {'1': {'misc': '',\n",
       "   'molecule': 'antimicrobial peptide gp-19',\n",
       "   'chain': 'a'}},\n",
       " 'source': {'1': {'misc': '',\n",
       "   'organism_scientific': 'xenorhabdus budapestensis',\n",
       "   'organism_taxid': '290110'}},\n",
       " 'has_missing_residues': False,\n",
       " 'missing_residues': []}"
      ]
     },
     "execution_count": 20,
     "metadata": {},
     "output_type": "execute_result"
    }
   ],
   "execution_count": 20
  },
  {
   "cell_type": "markdown",
   "metadata": {},
   "source": [
    "## Sequence"
   ]
  },
  {
   "cell_type": "code",
   "metadata": {
    "execution": {
     "iopub.execute_input": "2024-10-13T15:20:33.638975Z",
     "iopub.status.busy": "2024-10-13T15:20:33.638537Z",
     "iopub.status.idle": "2024-10-13T15:20:33.649506Z",
     "shell.execute_reply": "2024-10-13T15:20:33.648036Z",
     "shell.execute_reply.started": "2024-10-13T15:20:33.638935Z"
    },
    "trusted": true,
    "ExecuteTime": {
     "end_time": "2024-11-05T16:59:11.633956Z",
     "start_time": "2024-11-05T16:59:11.628690Z"
    }
   },
   "source": [
    "# Using C-N\n",
    "from Bio.PDB.Polypeptide import PPBuilder\n",
    "\n",
    "ppb = PPBuilder()\n",
    "for pp in ppb.build_peptides(structure):\n",
    "    print(pp.get_sequence())"
   ],
   "outputs": [
    {
     "name": "stdout",
     "output_type": "stream",
     "text": [
      "GPVGLLSSPGSLPPVGGAP\n"
     ]
    }
   ],
   "execution_count": 21
  },
  {
   "cell_type": "markdown",
   "metadata": {},
   "source": [
    "# Reconstructing a 3D structure from the PDB file"
   ]
  },
  {
   "cell_type": "markdown",
   "metadata": {},
   "source": "## C-alpha matrix with aa info"
  },
  {
   "cell_type": "code",
   "metadata": {
    "ExecuteTime": {
     "end_time": "2024-11-05T16:59:19.724396Z",
     "start_time": "2024-11-05T16:59:19.712625Z"
    }
   },
   "source": [
    "# Initialize list to store data for the C-alpha matrix\n",
    "c_alpha_matrix = []\n",
    "\n",
    "# Loop through each residue in the structure\n",
    "for model in structure:\n",
    "    for chain in model:\n",
    "        for residue in chain:\n",
    "            res_name = residue.get_resname().title()\n",
    "            # Check if residue name is in aa_info dictionary\n",
    "            if res_name in aa_info_dict:\n",
    "                aa_letter = aa_info_dict[res_name]['Short']\n",
    "                # Check if residue has a C-alpha atom\n",
    "                if 'CA' in residue:\n",
    "                    # Get C-alpha coordinates\n",
    "                    ca_atom = residue['CA']\n",
    "                    x, y, z = ca_atom.get_coord()\n",
    "                    \n",
    "                    # Append to the matrix\n",
    "                    c_alpha_matrix.append([\n",
    "                        x, y, z,                         # 3D coordinates\n",
    "                        aa_letter,                       # Amino acid letter\n",
    "                        aa_info_dict[res_name]['Avg. mass (Da)']  # Mass info\n",
    "                    ])\n",
    "                else:\n",
    "                    print(f\"No C-alpha atom found for residue {res_name} in chain {chain.id}\")\n",
    "            else:\n",
    "                print(f\"Residue {res_name} not in amino acid info dictionary.\")\n",
    "\n",
    "# Convert to DataFrame\n",
    "c_alpha_df = pd.DataFrame(c_alpha_matrix, columns=[\"X\", \"Y\", \"Z\", \"AA\", \"Mass\"])\n",
    "\n",
    "# Show DataFrame or debug message\n",
    "if c_alpha_df.empty:\n",
    "    print(\"C-alpha DataFrame is empty. Check residue names or PDB file.\")\n",
    "else:\n",
    "    print(c_alpha_df)\n"
   ],
   "outputs": [
    {
     "name": "stdout",
     "output_type": "stream",
     "text": [
      "         X      Y       Z AA       Mass\n",
      "0  -12.419 -1.418  15.521  G   75.06714\n",
      "1  -10.350  0.721  13.091  P  115.13194\n",
      "2  -12.642  0.206  10.062  V  117.14784\n",
      "3  -11.276  3.392   8.477  G   75.06714\n",
      "4   -8.779  3.155   5.539  L  131.17464\n",
      "5  -11.191  3.019   2.578  L  131.17464\n",
      "6   -8.647  3.814  -0.164  S  105.09344\n",
      "7  -10.362  5.774  -2.943  S  105.09344\n",
      "8   -9.953  3.978  -6.324  P  115.13194\n",
      "9   -6.637  5.594  -7.454  G   75.06714\n",
      "10  -5.227  6.664  -4.001  S  105.09344\n",
      "11  -2.555  3.972  -3.621  L  131.17464\n",
      "12   0.453  5.384  -1.708  P  115.13194\n",
      "13   3.592  4.904  -3.885  P  115.13194\n",
      "14   4.646  1.358  -2.924  V  117.14784\n",
      "15   8.342  2.205  -3.048  G   75.06714\n",
      "16  10.566  2.584  -6.088  G   75.06714\n",
      "17  10.538  2.940  -9.854  A   89.09404\n",
      "18  12.853  4.784 -10.972  P  115.13194\n"
     ]
    }
   ],
   "execution_count": 24
  },
  {
   "cell_type": "markdown",
   "metadata": {},
   "source": [
    "### c-alpha pairwise distance heatmap"
   ]
  },
  {
   "cell_type": "code",
   "metadata": {
    "ExecuteTime": {
     "end_time": "2024-11-05T16:59:23.185736Z",
     "start_time": "2024-11-05T16:59:22.891077Z"
    }
   },
   "source": [
    "# Check if DataFrame has required data\n",
    "if c_alpha_df.empty:\n",
    "    print(\"C-alpha DataFrame is empty. Please ensure it contains data before plotting.\")\n",
    "else:\n",
    "    # Extract C-alpha coordinates\n",
    "    coordinates = c_alpha_df[['X', 'Y', 'Z']].values\n",
    "    num_residues = len(coordinates)\n",
    "\n",
    "    # Calculate pairwise distances\n",
    "    distance_matrix = np.zeros((num_residues, num_residues))\n",
    "    for i in range(num_residues):\n",
    "        for j in range(i, num_residues):\n",
    "            dist = np.linalg.norm(coordinates[i] - coordinates[j])\n",
    "            distance_matrix[i, j] = dist\n",
    "            distance_matrix[j, i] = dist  # Symmetric matrix\n",
    "\n",
    "    # Plotting the heatmap\n",
    "    plt.figure(figsize=(6, 6))\n",
    "    sns.heatmap(distance_matrix, cmap=\"viridis\", square=True)\n",
    "    plt.title(\"C-alpha Pairwise Distance Heatmap\")\n",
    "    plt.xlabel(\"Residue Index\")\n",
    "    plt.ylabel(\"Residue Index\")\n",
    "    plt.show()\n"
   ],
   "outputs": [
    {
     "data": {
      "text/plain": [
       "<Figure size 600x600 with 2 Axes>"
      ],
      "image/png": "[encoded data removed]"
     },
     "metadata": {},
     "output_type": "display_data"
    }
   ],
   "execution_count": 25
  },
  {
   "cell_type": "markdown",
   "metadata": {},
   "source": [
    "### c-alpha 3d-structure with aa information"
   ]
  },
  {
   "cell_type": "code",
   "metadata": {
    "ExecuteTime": {
     "end_time": "2024-11-05T16:59:28.216771Z",
     "start_time": "2024-11-05T16:59:27.328967Z"
    }
   },
   "source": [
    "# Define color mapping for amino acids\n",
    "color_map = {\n",
    "    'A': 'blue', 'C': 'cyan', 'D': 'purple', 'E': 'pink', 'F': 'orange',\n",
    "    'G': 'green', 'H': 'red', 'I': 'yellow', 'K': 'violet', 'L': 'brown',\n",
    "    'M': 'grey', 'N': 'lightblue', 'O': 'lightgreen', 'P': 'coral', 'Q': 'olive',\n",
    "    'R': 'gold', 'S': 'navy', 'T': 'teal', 'U': 'maroon', 'V': 'lime',\n",
    "    'W': 'magenta', 'Y': 'darkorange'\n",
    "}\n",
    "\n",
    "# Map single-letter amino acid codes to their abbreviations from aa_info_dict\n",
    "aa_name_map = aa_info.set_index('Short')['Abbrev.'].to_dict()\n",
    "\n",
    "# Check if DataFrame has required data\n",
    "if c_alpha_df.empty:\n",
    "    print(\"C-alpha DataFrame is empty. Please ensure it contains data before plotting.\")\n",
    "else:\n",
    "    # Extract coordinates and additional info\n",
    "    coords = c_alpha_df[['X', 'Y', 'Z']].values\n",
    "    aa_letters = c_alpha_df['AA']\n",
    "    masses = c_alpha_df['Mass']\n",
    "    \n",
    "    # Normalize masses for sphere sizes, increase scaling for larger spheres\n",
    "    normalized_sizes = (masses - masses.min()) / (masses.max() - masses.min()) * 200 + 20\n",
    "\n",
    "    # Plot in 3D\n",
    "    fig = plt.figure(figsize=(8, 6))\n",
    "    ax = fig.add_subplot(111, projection='3d')\n",
    "\n",
    "    # Plot each C-alpha as a sphere\n",
    "    for i, (x, y, z, aa, mass) in enumerate(zip(coords[:, 0], coords[:, 1], coords[:, 2], aa_letters, normalized_sizes)):\n",
    "        ax.scatter(x, y, z, s=mass, c=color_map.get(aa, 'black'))\n",
    "\n",
    "    # Add a legend with full amino acid names using dummy points\n",
    "    for aa, color in color_map.items():\n",
    "        full_name = aa_name_map.get(aa, 'Unknown')\n",
    "        ax.scatter([], [], [], color=color, label=full_name)  # Dummy points for legend\n",
    "\n",
    "    # Customize plot appearance\n",
    "    ax.set_title(\"3D Protein Structure with C-alpha Spheres\")\n",
    "    ax.set_xlabel(\"X\")\n",
    "    ax.set_ylabel(\"Y\")\n",
    "    ax.set_zlabel(\"Z\")\n",
    "    plt.legend(title=\"Amino Acids\", loc=\"upper left\", bbox_to_anchor=(1, 1), markerscale=1.2)\n",
    "    plt.show()\n"
   ],
   "outputs": [
    {
     "data": {
      "text/plain": [
       "<Figure size 800x600 with 1 Axes>"
      ],
      "image/png": "[encoded data removed]"
     },
     "metadata": {},
     "output_type": "display_data"
    }
   ],
   "execution_count": 26
  },
  {
   "metadata": {
    "ExecuteTime": {
     "end_time": "2024-11-05T17:06:19.748712Z",
     "start_time": "2024-11-05T17:06:19.507358Z"
    }
   },
   "cell_type": "code",
   "source": [
    "import plotly.graph_objects as go\n",
    "\n",
    "# Define color mapping for amino acids\n",
    "color_map = {\n",
    "    'A': 'blue', 'C': 'cyan', 'D': 'purple', 'E': 'pink', 'F': 'orange',\n",
    "    'G': 'green', 'H': 'red', 'I': 'yellow', 'K': 'violet', 'L': 'brown',\n",
    "    'M': 'grey', 'N': 'lightblue', 'O': 'lightgreen', 'P': 'coral', 'Q': 'olive',\n",
    "    'R': 'gold', 'S': 'navy', 'T': 'teal', 'U': 'maroon', 'V': 'lime',\n",
    "    'W': 'magenta', 'Y': 'darkorange'\n",
    "}\n",
    "\n",
    "# Map single-letter amino acid codes to their abbreviations from aa_info_dict\n",
    "aa_name_map = aa_info.set_index('Short')['Abbrev.'].to_dict()\n",
    "\n",
    "# Check if DataFrame has required data\n",
    "if c_alpha_df.empty:\n",
    "    print(\"C-alpha DataFrame is empty. Please ensure it contains data before plotting.\")\n",
    "else:\n",
    "    # Extract coordinates and additional info\n",
    "    coords = c_alpha_df[['X', 'Y', 'Z']].values\n",
    "    aa_letters = c_alpha_df['AA']\n",
    "    masses = c_alpha_df['Mass']\n",
    "\n",
    "    # Normalize masses for sphere sizes, increase scaling for larger spheres\n",
    "    normalized_sizes = (masses - masses.min()) / (masses.max() - masses.min()) * 200 + 20\n",
    "\n",
    "    # Create a scatter plot for C-alpha atoms\n",
    "    scatter = go.Scatter3d(\n",
    "        x=coords[:, 0],\n",
    "        y=coords[:, 1],\n",
    "        z=coords[:, 2],\n",
    "        mode='markers',\n",
    "        marker=dict(\n",
    "            size=normalized_sizes,\n",
    "            color=[color_map.get(aa, 'black') for aa in aa_letters],\n",
    "            opacity=0.8\n",
    "        ),\n",
    "        text=[aa_name_map.get(aa, 'Unknown') for aa in aa_letters],\n",
    "        hoverinfo='text'\n",
    "    )\n",
    "\n",
    "    # Create lines for backbone connections\n",
    "    backbone_lines = []\n",
    "    for start, end in backbone_connections:\n",
    "        backbone_lines.append(go.Scatter3d(\n",
    "            x=[start[0], end[0]],\n",
    "            y=[start[1], end[1]],\n",
    "            z=[start[2], end[2]],\n",
    "            mode='lines',\n",
    "            line=dict(color='darkgrey', width=2),\n",
    "            hoverinfo='none'\n",
    "        ))\n",
    "\n",
    "    # Create lines for non-covalent interactions\n",
    "    interaction_lines = []\n",
    "    for start, end in non_covalent_interactions:\n",
    "        interaction_lines.append(go.Scatter3d(\n",
    "            x=[start[0], end[0]],\n",
    "            y=[start[1], end[1]],\n",
    "            z=[start[2], end[2]],\n",
    "            mode='lines',\n",
    "            line=dict(color='lightcoral', width=0.5, dash='dash'),\n",
    "            hoverinfo='none'\n",
    "        ))\n",
    "\n",
    "    # Combine all traces\n",
    "    data = [scatter] + backbone_lines + interaction_lines\n",
    "\n",
    "    # Create layout\n",
    "    layout = go.Layout(\n",
    "        title=\"3D Protein Structure with Backbone and Interactions\",\n",
    "        scene=dict(\n",
    "            xaxis_title='X',\n",
    "            yaxis_title='Y',\n",
    "            zaxis_title='Z'\n",
    "        ),\n",
    "        legend=dict(title=\"Amino Acids & Connections\"),\n",
    "        width=1200,  # Increase the width\n",
    "        height=900   # Increase the height\n",
    "    )\n",
    "\n",
    "    # Create figure\n",
    "    fig = go.Figure(data=data, layout=layout)\n",
    "\n",
    "    # Show plot\n",
    "    fig.show()"
   ],
   "outputs": [
    {
     "data": {
      "application/vnd.plotly.v1+json": {
       "data": [
        {
         "hoverinfo": "text",
         "marker": {
          "color": [
           "green",
           "coral",
           "lime",
           "green",
           "brown",
           "brown",
           "navy",
           "navy",
           "coral",
           "green",
           "navy",
           "brown",
           "coral",
           "coral",
           "lime",
           "green",
           "green",
           "blue",
           "coral"
          ],
          "opacity": 0.8,
          "size": [
           20.0,
           162.81441874972148,
           170.00026734393796,
           20.0,
           220.0,
           220.0,
           127.03132379806621,
           127.03132379806621,
           162.81441874972148,
           20.0,
           127.03132379806621,
           220.0,
           162.81441874972148,
           162.81441874972148,
           170.00026734393796,
           20.0,
           20.0,
           70.00008911464602,
           162.81441874972148
          ]
         },
         "mode": "markers",
         "text": [
          "Gly",
          "Pro",
          "Val",
          "Gly",
          "Leu",
          "Leu",
          "Ser",
          "Ser",
          "Pro",
          "Gly",
          "Ser",
          "Leu",
          "Pro",
          "Pro",
          "Val",
          "Gly",
          "Gly",
          "Ala",
          "Pro"
         ],
         "x": [
          -12.418999671936035,
          -10.350000381469727,
          -12.642000198364258,
          -11.276000022888184,
          -8.779000282287598,
          -11.190999984741211,
          -8.647000312805176,
          -10.362000465393066,
          -9.95300006866455,
          -6.63700008392334,
          -5.2270002365112305,
          -2.555000066757202,
          0.453000009059906,
          3.5920000076293945,
          4.645999908447266,
          8.342000007629395,
          10.565999984741211,
          10.538000106811523,
          12.852999687194824
         ],
         "y": [
          -1.4179999828338623,
          0.7210000157356262,
          0.20600000023841858,
          3.3919999599456787,
          3.1549999713897705,
          3.0190000534057617,
          3.813999891281128,
          5.77400016784668,
          3.9779999256134033,
          5.593999862670898,
          6.664000034332275,
          3.9719998836517334,
          5.383999824523926,
          4.9039998054504395,
          1.3580000400543213,
          2.2049999237060547,
          2.5840001106262207,
          2.940000057220459,
          4.783999919891357
         ],
         "z": [
          15.520999908447266,
          13.090999603271484,
          10.062000274658203,
          8.47700023651123,
          5.539000034332275,
          2.578000068664551,
          -0.164000004529953,
          -2.943000078201294,
          -6.323999881744385,
          -7.453999996185303,
          -4.000999927520752,
          -3.621000051498413,
          -1.7079999446868896,
          -3.884999990463257,
          -2.9240000247955322,
          -3.0480000972747803,
          -6.0879998207092285,
          -9.854000091552734,
          -10.972000122070312
         ],
         "type": "scatter3d"
        },
        {
         "hoverinfo": "none",
         "line": {
          "color": "darkgrey",
          "width": 2
         },
         "mode": "lines",
         "x": [
          -12.418999671936035,
          -10.350000381469727
         ],
         "y": [
          -1.4179999828338623,
          0.7210000157356262
         ],
         "z": [
          15.520999908447266,
          13.090999603271484
         ],
         "type": "scatter3d"
        },
        {
         "hoverinfo": "none",
         "line": {
          "color": "darkgrey",
          "width": 2
         },
         "mode": "lines",
         "x": [
          -10.350000381469727,
          -12.642000198364258
         ],
         "y": [
          0.7210000157356262,
          0.20600000023841858
         ],
         "z": [
          13.090999603271484,
          10.062000274658203
         ],
         "type": "scatter3d"
        },
        {
         "hoverinfo": "none",
         "line": {
          "color": "darkgrey",
          "width": 2
         },
         "mode": "lines",
         "x": [
          -12.642000198364258,
          -11.276000022888184
         ],
         "y": [
          0.20600000023841858,
          3.3919999599456787
         ],
         "z": [
          10.062000274658203,
          8.47700023651123
         ],
         "type": "scatter3d"
        },
        {
         "hoverinfo": "none",
         "line": {
          "color": "darkgrey",
          "width": 2
         },
         "mode": "lines",
         "x": [
          -11.276000022888184,
          -8.779000282287598
         ],
         "y": [
          3.3919999599456787,
          3.1549999713897705
         ],
         "z": [
          8.47700023651123,
          5.539000034332275
         ],
         "type": "scatter3d"
        },
        {
         "hoverinfo": "none",
         "line": {
          "color": "darkgrey",
          "width": 2
         },
         "mode": "lines",
         "x": [
          -8.779000282287598,
          -11.190999984741211
         ],
         "y": [
          3.1549999713897705,
          3.0190000534057617
         ],
         "z": [
          5.539000034332275,
          2.578000068664551
         ],
         "type": "scatter3d"
        },
        {
         "hoverinfo": "none",
         "line": {
          "color": "darkgrey",
          "width": 2
         },
         "mode": "lines",
         "x": [
          -11.190999984741211,
          -8.647000312805176
         ],
         "y": [
          3.0190000534057617,
          3.813999891281128
         ],
         "z": [
          2.578000068664551,
          -0.164000004529953
         ],
         "type": "scatter3d"
        },
        {
         "hoverinfo": "none",
         "line": {
          "color": "darkgrey",
          "width": 2
         },
         "mode": "lines",
         "x": [
          -8.647000312805176,
          -10.362000465393066
         ],
         "y": [
          3.813999891281128,
          5.77400016784668
         ],
         "z": [
          -0.164000004529953,
          -2.943000078201294
         ],
         "type": "scatter3d"
        },
        {
         "hoverinfo": "none",
         "line": {
          "color": "darkgrey",
          "width": 2
         },
         "mode": "lines",
         "x": [
          -10.362000465393066,
          -9.95300006866455
         ],
         "y": [
          5.77400016784668,
          3.9779999256134033
         ],
         "z": [
          -2.943000078201294,
          -6.323999881744385
         ],
         "type": "scatter3d"
        },
        {
         "hoverinfo": "none",
         "line": {
          "color": "darkgrey",
          "width": 2
         },
         "mode": "lines",
         "x": [
          -9.95300006866455,
          -6.63700008392334
         ],
         "y": [
          3.9779999256134033,
          5.593999862670898
         ],
         "z": [
          -6.323999881744385,
          -7.453999996185303
         ],
         "type": "scatter3d"
        },
        {
         "hoverinfo": "none",
         "line": {
          "color": "darkgrey",
          "width": 2
         },
         "mode": "lines",
         "x": [
          -6.63700008392334,
          -5.2270002365112305
         ],
         "y": [
          5.593999862670898,
          6.664000034332275
         ],
         "z": [
          -7.453999996185303,
          -4.000999927520752
         ],
         "type": "scatter3d"
        },
        {
         "hoverinfo": "none",
         "line": {
          "color": "darkgrey",
          "width": 2
         },
         "mode": "lines",
         "x": [
          -5.2270002365112305,
          -2.555000066757202
         ],
         "y": [
          6.664000034332275,
          3.9719998836517334
         ],
         "z": [
          -4.000999927520752,
          -3.621000051498413
         ],
         "type": "scatter3d"
        },
        {
         "hoverinfo": "none",
         "line": {
          "color": "darkgrey",
          "width": 2
         },
         "mode": "lines",
         "x": [
          -2.555000066757202,
          0.453000009059906
         ],
         "y": [
          3.9719998836517334,
          5.383999824523926
         ],
         "z": [
          -3.621000051498413,
          -1.7079999446868896
         ],
         "type": "scatter3d"
        },
        {
         "hoverinfo": "none",
         "line": {
          "color": "darkgrey",
          "width": 2
         },
         "mode": "lines",
         "x": [
          0.453000009059906,
          3.5920000076293945
         ],
         "y": [
          5.383999824523926,
          4.9039998054504395
         ],
         "z": [
          -1.7079999446868896,
          -3.884999990463257
         ],
         "type": "scatter3d"
        },
        {
         "hoverinfo": "none",
         "line": {
          "color": "darkgrey",
          "width": 2
         },
         "mode": "lines",
         "x": [
          3.5920000076293945,
          4.645999908447266
         ],
         "y": [
          4.9039998054504395,
          1.3580000400543213
         ],
         "z": [
          -3.884999990463257,
          -2.9240000247955322
         ],
         "type": "scatter3d"
        },
        {
         "hoverinfo": "none",
         "line": {
          "color": "darkgrey",
          "width": 2
         },
         "mode": "lines",
         "x": [
          4.645999908447266,
          8.342000007629395
         ],
         "y": [
          1.3580000400543213,
          2.2049999237060547
         ],
         "z": [
          -2.9240000247955322,
          -3.0480000972747803
         ],
         "type": "scatter3d"
        },
        {
         "hoverinfo": "none",
         "line": {
          "color": "darkgrey",
          "width": 2
         },
         "mode": "lines",
         "x": [
          8.342000007629395,
          10.565999984741211
         ],
         "y": [
          2.2049999237060547,
          2.5840001106262207
         ],
         "z": [
          -3.0480000972747803,
          -6.0879998207092285
         ],
         "type": "scatter3d"
        },
        {
         "hoverinfo": "none",
         "line": {
          "color": "darkgrey",
          "width": 2
         },
         "mode": "lines",
         "x": [
          10.565999984741211,
          10.538000106811523
         ],
         "y": [
          2.5840001106262207,
          2.940000057220459
         ],
         "z": [
          -6.0879998207092285,
          -9.854000091552734
         ],
         "type": "scatter3d"
        },
        {
         "hoverinfo": "none",
         "line": {
          "color": "darkgrey",
          "width": 2
         },
         "mode": "lines",
         "x": [
          10.538000106811523,
          12.852999687194824
         ],
         "y": [
          2.940000057220459,
          4.783999919891357
         ],
         "z": [
          -9.854000091552734,
          -10.972000122070312
         ],
         "type": "scatter3d"
        },
        {
         "hoverinfo": "none",
         "line": {
          "color": "lightcoral",
          "dash": "dash",
          "width": 0.5
         },
         "mode": "lines",
         "x": [
          -12.418999671936035,
          -12.085000038146973
         ],
         "y": [
          -1.4179999828338623,
          0.3370000123977661
         ],
         "z": [
          15.520999908447266,
          11.41100025177002
         ],
         "type": "scatter3d"
        },
        {
         "hoverinfo": "none",
         "line": {
          "color": "lightcoral",
          "dash": "dash",
          "width": 0.5
         },
         "mode": "lines",
         "x": [
          -12.418999671936035,
          -10.784000396728516
         ],
         "y": [
          -1.4179999828338623,
          0.26600000262260437
         ],
         "z": [
          15.520999908447266,
          11.687999725341797
         ],
         "type": "scatter3d"
        },
        {
         "hoverinfo": "none",
         "line": {
          "color": "lightcoral",
          "dash": "dash",
          "width": 0.5
         },
         "mode": "lines",
         "x": [
          -12.418999671936035,
          -10.744000434875488
         ],
         "y": [
          -1.4179999828338623,
          -0.2800000011920929
         ],
         "z": [
          15.520999908447266,
          14.076000213623047
         ],
         "type": "scatter3d"
        },
        {
         "hoverinfo": "none",
         "line": {
          "color": "lightcoral",
          "dash": "dash",
          "width": 0.5
         },
         "mode": "lines",
         "x": [
          -12.418999671936035,
          -10.350000381469727
         ],
         "y": [
          -1.4179999828338623,
          0.7210000157356262
         ],
         "z": [
          15.520999908447266,
          13.090999603271484
         ],
         "type": "scatter3d"
        },
        {
         "hoverinfo": "none",
         "line": {
          "color": "lightcoral",
          "dash": "dash",
          "width": 0.5
         },
         "mode": "lines",
         "x": [
          -12.418999671936035,
          -9.581000328063965
         ],
         "y": [
          -1.4179999828338623,
          -1.059000015258789
         ],
         "z": [
          15.520999908447266,
          14.493000030517578
         ],
         "type": "scatter3d"
        },
        {
         "hoverinfo": "none",
         "line": {
          "color": "lightcoral",
          "dash": "dash",
          "width": 0.5
         },
         "mode": "lines",
         "x": [
          -12.418999671936035,
          -8.840999603271484
         ],
         "y": [
          -1.4179999828338623,
          0.8870000243186951
         ],
         "z": [
          15.520999908447266,
          13.277000427246094
         ],
         "type": "scatter3d"
        },
        {
         "hoverinfo": "none",
         "line": {
          "color": "lightcoral",
          "dash": "dash",
          "width": 0.5
         },
         "mode": "lines",
         "x": [
          -12.418999671936035,
          -8.394000053405762
         ],
         "y": [
          -1.4179999828338623,
          -0.5180000066757202
         ],
         "z": [
          15.520999908447266,
          13.682000160217285
         ],
         "type": "scatter3d"
        },
        {
         "hoverinfo": "none",
         "line": {
          "color": "lightcoral",
          "dash": "dash",
          "width": 0.5
         },
         "mode": "lines",
         "x": [
          -10.350000381469727,
          -13.484000205993652
         ],
         "y": [
          0.7210000157356262,
          2.4019999504089355
         ],
         "z": [
          13.090999603271484,
          9.692999839782715
         ],
         "type": "scatter3d"
        },
        {
         "hoverinfo": "none",
         "line": {
          "color": "lightcoral",
          "dash": "dash",
          "width": 0.5
         },
         "mode": "lines",
         "x": [
          -10.350000381469727,
          -12.579000473022461
         ],
         "y": [
          0.7210000157356262,
          1.6069999933242798
         ],
         "z": [
          13.090999603271484,
          9.463000297546387
         ],
         "type": "scatter3d"
        },
        {
         "hoverinfo": "none",
         "line": {
          "color": "lightcoral",
          "dash": "dash",
          "width": 0.5
         },
         "mode": "lines",
         "x": [
          -10.350000381469727,
          -11.46500015258789
         ],
         "y": [
          0.7210000157356262,
          1.9780000448226929
         ],
         "z": [
          13.090999603271484,
          8.824000358581543
         ],
         "type": "scatter3d"
        },
        {
         "hoverinfo": "none",
         "line": {
          "color": "lightcoral",
          "dash": "dash",
          "width": 0.5
         },
         "mode": "lines",
         "x": [
          -10.350000381469727,
          -14.085000038146973
         ],
         "y": [
          0.7210000157356262,
          -0.34700000286102295
         ],
         "z": [
          13.090999603271484,
          10.104000091552734
         ],
         "type": "scatter3d"
        },
        {
         "hoverinfo": "none",
         "line": {
          "color": "lightcoral",
          "dash": "dash",
          "width": 0.5
         },
         "mode": "lines",
         "x": [
          -10.350000381469727,
          -13.668999671936035
         ],
         "y": [
          0.7210000157356262,
          -0.9779999852180481
         ],
         "z": [
          13.090999603271484,
          16.180999755859375
         ],
         "type": "scatter3d"
        },
        {
         "hoverinfo": "none",
         "line": {
          "color": "lightcoral",
          "dash": "dash",
          "width": 0.5
         },
         "mode": "lines",
         "x": [
          -10.350000381469727,
          -12.895999908447266
         ],
         "y": [
          0.7210000157356262,
          0.38100001215934753
         ],
         "z": [
          13.090999603271484,
          14.104000091552734
         ],
         "type": "scatter3d"
        },
        {
         "hoverinfo": "none",
         "line": {
          "color": "lightcoral",
          "dash": "dash",
          "width": 0.5
         },
         "mode": "lines",
         "x": [
          -10.350000381469727,
          -12.642000198364258
         ],
         "y": [
          0.7210000157356262,
          0.20600000023841858
         ],
         "z": [
          13.090999603271484,
          10.062000274658203
         ],
         "type": "scatter3d"
        },
        {
         "hoverinfo": "none",
         "line": {
          "color": "lightcoral",
          "dash": "dash",
          "width": 0.5
         },
         "mode": "lines",
         "x": [
          -10.350000381469727,
          -12.418999671936035
         ],
         "y": [
          0.7210000157356262,
          -1.4179999828338623
         ],
         "z": [
          13.090999603271484,
          15.520999908447266
         ],
         "type": "scatter3d"
        },
        {
         "hoverinfo": "none",
         "line": {
          "color": "lightcoral",
          "dash": "dash",
          "width": 0.5
         },
         "mode": "lines",
         "x": [
          -10.350000381469727,
          -12.085000038146973
         ],
         "y": [
          0.7210000157356262,
          0.3370000123977661
         ],
         "z": [
          13.090999603271484,
          11.41100025177002
         ],
         "type": "scatter3d"
        },
        {
         "hoverinfo": "none",
         "line": {
          "color": "lightcoral",
          "dash": "dash",
          "width": 0.5
         },
         "mode": "lines",
         "x": [
          -10.350000381469727,
          -12.015000343322754
         ],
         "y": [
          0.7210000157356262,
          -0.3779999911785126
         ],
         "z": [
          13.090999603271484,
          14.496000289916992
         ],
         "type": "scatter3d"
        },
        {
         "hoverinfo": "none",
         "line": {
          "color": "lightcoral",
          "dash": "dash",
          "width": 0.5
         },
         "mode": "lines",
         "x": [
          -12.642000198364258,
          -11.46500015258789
         ],
         "y": [
          0.20600000023841858,
          1.9780000448226929
         ],
         "z": [
          10.062000274658203,
          8.824000358581543
         ],
         "type": "scatter3d"
        },
        {
         "hoverinfo": "none",
         "line": {
          "color": "lightcoral",
          "dash": "dash",
          "width": 0.5
         },
         "mode": "lines",
         "x": [
          -12.642000198364258,
          -12.895999908447266
         ],
         "y": [
          0.20600000023841858,
          0.38100001215934753
         ],
         "z": [
          10.062000274658203,
          14.104000091552734
         ],
         "type": "scatter3d"
        },
        {
         "hoverinfo": "none",
         "line": {
          "color": "lightcoral",
          "dash": "dash",
          "width": 0.5
         },
         "mode": "lines",
         "x": [
          -12.642000198364258,
          -12.015000343322754
         ],
         "y": [
          0.20600000023841858,
          -0.3779999911785126
         ],
         "z": [
          10.062000274658203,
          14.496000289916992
         ],
         "type": "scatter3d"
        },
        {
         "hoverinfo": "none",
         "line": {
          "color": "lightcoral",
          "dash": "dash",
          "width": 0.5
         },
         "mode": "lines",
         "x": [
          -12.642000198364258,
          -10.784000396728516
         ],
         "y": [
          0.20600000023841858,
          0.26600000262260437
         ],
         "z": [
          10.062000274658203,
          11.687999725341797
         ],
         "type": "scatter3d"
        },
        {
         "hoverinfo": "none",
         "line": {
          "color": "lightcoral",
          "dash": "dash",
          "width": 0.5
         },
         "mode": "lines",
         "x": [
          -12.642000198364258,
          -10.744000434875488
         ],
         "y": [
          0.20600000023841858,
          -0.2800000011920929
         ],
         "z": [
          10.062000274658203,
          14.076000213623047
         ],
         "type": "scatter3d"
        },
        {
         "hoverinfo": "none",
         "line": {
          "color": "lightcoral",
          "dash": "dash",
          "width": 0.5
         },
         "mode": "lines",
         "x": [
          -12.642000198364258,
          -10.350000381469727
         ],
         "y": [
          0.20600000023841858,
          0.7210000157356262
         ],
         "z": [
          10.062000274658203,
          13.090999603271484
         ],
         "type": "scatter3d"
        },
        {
         "hoverinfo": "none",
         "line": {
          "color": "lightcoral",
          "dash": "dash",
          "width": 0.5
         },
         "mode": "lines",
         "x": [
          -12.642000198364258,
          -9.982999801635742
         ],
         "y": [
          0.20600000023841858,
          -0.18299999833106995
         ],
         "z": [
          10.062000274658203,
          10.878000259399414
         ],
         "type": "scatter3d"
        },
        {
         "hoverinfo": "none",
         "line": {
          "color": "lightcoral",
          "dash": "dash",
          "width": 0.5
         },
         "mode": "lines",
         "x": [
          -12.642000198364258,
          -11.276000022888184
         ],
         "y": [
          0.20600000023841858,
          3.3919999599456787
         ],
         "z": [
          10.062000274658203,
          8.47700023651123
         ],
         "type": "scatter3d"
        },
        {
         "hoverinfo": "none",
         "line": {
          "color": "lightcoral",
          "dash": "dash",
          "width": 0.5
         },
         "mode": "lines",
         "x": [
          -11.276000022888184,
          -13.484000205993652
         ],
         "y": [
          3.3919999599456787,
          2.4019999504089355
         ],
         "z": [
          8.47700023651123,
          9.692999839782715
         ],
         "type": "scatter3d"
        },
        {
         "hoverinfo": "none",
         "line": {
          "color": "lightcoral",
          "dash": "dash",
          "width": 0.5
         },
         "mode": "lines",
         "x": [
          -11.276000022888184,
          -12.579000473022461
         ],
         "y": [
          3.3919999599456787,
          1.6069999933242798
         ],
         "z": [
          8.47700023651123,
          9.463000297546387
         ],
         "type": "scatter3d"
        },
        {
         "hoverinfo": "none",
         "line": {
          "color": "lightcoral",
          "dash": "dash",
          "width": 0.5
         },
         "mode": "lines",
         "x": [
          -11.276000022888184,
          -9.668999671936035
         ],
         "y": [
          3.3919999599456787,
          2.8269999027252197
         ],
         "z": [
          8.47700023651123,
          6.664999961853027
         ],
         "type": "scatter3d"
        },
        {
         "hoverinfo": "none",
         "line": {
          "color": "lightcoral",
          "dash": "dash",
          "width": 0.5
         },
         "mode": "lines",
         "x": [
          -11.276000022888184,
          -9.397000312805176
         ],
         "y": [
          3.3919999599456787,
          2.696000099182129
         ],
         "z": [
          8.47700023651123,
          4.214000225067139
         ],
         "type": "scatter3d"
        },
        {
         "hoverinfo": "none",
         "line": {
          "color": "lightcoral",
          "dash": "dash",
          "width": 0.5
         },
         "mode": "lines",
         "x": [
          -11.276000022888184,
          -8.779000282287598
         ],
         "y": [
          3.3919999599456787,
          3.1549999713897705
         ],
         "z": [
          8.47700023651123,
          5.539000034332275
         ],
         "type": "scatter3d"
        },
        {
         "hoverinfo": "none",
         "line": {
          "color": "lightcoral",
          "dash": "dash",
          "width": 0.5
         },
         "mode": "lines",
         "x": [
          -11.276000022888184,
          -7.35699987411499
         ],
         "y": [
          3.3919999599456787,
          2.61299991607666
         ],
         "z": [
          8.47700023651123,
          5.7820000648498535
         ],
         "type": "scatter3d"
        },
        {
         "hoverinfo": "none",
         "line": {
          "color": "lightcoral",
          "dash": "dash",
          "width": 0.5
         },
         "mode": "lines",
         "x": [
          -11.276000022888184,
          -14.085000038146973
         ],
         "y": [
          3.3919999599456787,
          -0.34700000286102295
         ],
         "z": [
          8.47700023651123,
          10.104000091552734
         ],
         "type": "scatter3d"
        },
        {
         "hoverinfo": "none",
         "line": {
          "color": "lightcoral",
          "dash": "dash",
          "width": 0.5
         },
         "mode": "lines",
         "x": [
          -11.276000022888184,
          -12.642000198364258
         ],
         "y": [
          3.3919999599456787,
          0.20600000023841858
         ],
         "z": [
          8.47700023651123,
          10.062000274658203
         ],
         "type": "scatter3d"
        },
        {
         "hoverinfo": "none",
         "line": {
          "color": "lightcoral",
          "dash": "dash",
          "width": 0.5
         },
         "mode": "lines",
         "x": [
          -11.276000022888184,
          -12.085000038146973
         ],
         "y": [
          3.3919999599456787,
          0.3370000123977661
         ],
         "z": [
          8.47700023651123,
          11.41100025177002
         ],
         "type": "scatter3d"
        },
        {
         "hoverinfo": "none",
         "line": {
          "color": "lightcoral",
          "dash": "dash",
          "width": 0.5
         },
         "mode": "lines",
         "x": [
          -11.276000022888184,
          -10.784000396728516
         ],
         "y": [
          3.3919999599456787,
          0.26600000262260437
         ],
         "z": [
          8.47700023651123,
          11.687999725341797
         ],
         "type": "scatter3d"
        },
        {
         "hoverinfo": "none",
         "line": {
          "color": "lightcoral",
          "dash": "dash",
          "width": 0.5
         },
         "mode": "lines",
         "x": [
          -11.276000022888184,
          -9.982999801635742
         ],
         "y": [
          3.3919999599456787,
          -0.18299999833106995
         ],
         "z": [
          8.47700023651123,
          10.878000259399414
         ],
         "type": "scatter3d"
        },
        {
         "hoverinfo": "none",
         "line": {
          "color": "lightcoral",
          "dash": "dash",
          "width": 0.5
         },
         "mode": "lines",
         "x": [
          -11.276000022888184,
          -10.614999771118164
         ],
         "y": [
          3.3919999599456787,
          3.1600000858306885
         ],
         "z": [
          8.47700023651123,
          3.9159998893737793
         ],
         "type": "scatter3d"
        },
        {
         "hoverinfo": "none",
         "line": {
          "color": "lightcoral",
          "dash": "dash",
          "width": 0.5
         },
         "mode": "lines",
         "x": [
          -11.276000022888184,
          -6.625
         ],
         "y": [
          3.3919999599456787,
          3.197000026702881
         ],
         "z": [
          8.47700023651123,
          7.005000114440918
         ],
         "type": "scatter3d"
        },
        {
         "hoverinfo": "none",
         "line": {
          "color": "lightcoral",
          "dash": "dash",
          "width": 0.5
         },
         "mode": "lines",
         "x": [
          -8.779000282287598,
          -11.46500015258789
         ],
         "y": [
          3.1549999713897705,
          1.9780000448226929
         ],
         "z": [
          5.539000034332275,
          8.824000358581543
         ],
         "type": "scatter3d"
        },
        {
         "hoverinfo": "none",
         "line": {
          "color": "lightcoral",
          "dash": "dash",
          "width": 0.5
         },
         "mode": "lines",
         "x": [
          -8.779000282287598,
          -11.190999984741211
         ],
         "y": [
          3.1549999713897705,
          3.0190000534057617
         ],
         "z": [
          5.539000034332275,
          2.578000068664551
         ],
         "type": "scatter3d"
        },
        {
         "hoverinfo": "none",
         "line": {
          "color": "lightcoral",
          "dash": "dash",
          "width": 0.5
         },
         "mode": "lines",
         "x": [
          -8.779000282287598,
          -12.675000190734863
         ],
         "y": [
          3.1549999713897705,
          3.437000036239624
         ],
         "z": [
          5.539000034332275,
          2.5880000591278076
         ],
         "type": "scatter3d"
        },
        {
         "hoverinfo": "none",
         "line": {
          "color": "lightcoral",
          "dash": "dash",
          "width": 0.5
         },
         "mode": "lines",
         "x": [
          -8.779000282287598,
          -11.276000022888184
         ],
         "y": [
          3.1549999713897705,
          3.3919999599456787
         ],
         "z": [
          5.539000034332275,
          8.47700023651123
         ],
         "type": "scatter3d"
        },
        {
         "hoverinfo": "none",
         "line": {
          "color": "lightcoral",
          "dash": "dash",
          "width": 0.5
         },
         "mode": "lines",
         "x": [
          -8.779000282287598,
          -10.614999771118164
         ],
         "y": [
          3.1549999713897705,
          3.1600000858306885
         ],
         "z": [
          5.539000034332275,
          3.9159998893737793
         ],
         "type": "scatter3d"
        },
        {
         "hoverinfo": "none",
         "line": {
          "color": "lightcoral",
          "dash": "dash",
          "width": 0.5
         },
         "mode": "lines",
         "x": [
          -8.779000282287598,
          -10.517000198364258
         ],
         "y": [
          3.1549999713897705,
          5.078000068664551
         ],
         "z": [
          5.539000034332275,
          1.5269999504089355
         ],
         "type": "scatter3d"
        },
        {
         "hoverinfo": "none",
         "line": {
          "color": "lightcoral",
          "dash": "dash",
          "width": 0.5
         },
         "mode": "lines",
         "x": [
          -8.779000282287598,
          -10.35200023651123
         ],
         "y": [
          3.1549999713897705,
          3.86299991607666
         ],
         "z": [
          5.539000034332275,
          1.6109999418258667
         ],
         "type": "scatter3d"
        },
        {
         "hoverinfo": "none",
         "line": {
          "color": "lightcoral",
          "dash": "dash",
          "width": 0.5
         },
         "mode": "lines",
         "x": [
          -8.779000282287598,
          -10.243000030517578
         ],
         "y": [
          3.1549999713897705,
          3.7669999599456787
         ],
         "z": [
          5.539000034332275,
          7.420000076293945
         ],
         "type": "scatter3d"
        },
        {
         "hoverinfo": "none",
         "line": {
          "color": "lightcoral",
          "dash": "dash",
          "width": 0.5
         },
         "mode": "lines",
         "x": [
          -8.779000282287598,
          -9.980999946594238
         ],
         "y": [
          3.1549999713897705,
          4.953000068664551
         ],
         "z": [
          5.539000034332275,
          7.2820000648498535
         ],
         "type": "scatter3d"
        },
        {
         "hoverinfo": "none",
         "line": {
          "color": "lightcoral",
          "dash": "dash",
          "width": 0.5
         },
         "mode": "lines",
         "x": [
          -8.779000282287598,
          -9.409000396728516
         ],
         "y": [
          3.1549999713897705,
          3.2179999351501465
         ],
         "z": [
          5.539000034332275,
          0.9279999732971191
         ],
         "type": "scatter3d"
        },
        {
         "hoverinfo": "none",
         "line": {
          "color": "lightcoral",
          "dash": "dash",
          "width": 0.5
         },
         "mode": "lines",
         "x": [
          -11.190999984741211,
          -9.668999671936035
         ],
         "y": [
          3.0190000534057617,
          2.8269999027252197
         ],
         "z": [
          2.578000068664551,
          6.664999961853027
         ],
         "type": "scatter3d"
        },
        {
         "hoverinfo": "none",
         "line": {
          "color": "lightcoral",
          "dash": "dash",
          "width": 0.5
         },
         "mode": "lines",
         "x": [
          -11.190999984741211,
          -9.397000312805176
         ],
         "y": [
          3.0190000534057617,
          2.696000099182129
         ],
         "z": [
          2.578000068664551,
          4.214000225067139
         ],
         "type": "scatter3d"
        },
        {
         "hoverinfo": "none",
         "line": {
          "color": "lightcoral",
          "dash": "dash",
          "width": 0.5
         },
         "mode": "lines",
         "x": [
          -11.190999984741211,
          -8.807999610900879
         ],
         "y": [
          3.0190000534057617,
          1.9040000438690186
         ],
         "z": [
          2.578000068664551,
          3.484999895095825
         ],
         "type": "scatter3d"
        },
        {
         "hoverinfo": "none",
         "line": {
          "color": "lightcoral",
          "dash": "dash",
          "width": 0.5
         },
         "mode": "lines",
         "x": [
          -11.190999984741211,
          -8.779000282287598
         ],
         "y": [
          3.0190000534057617,
          3.1549999713897705
         ],
         "z": [
          2.578000068664551,
          5.539000034332275
         ],
         "type": "scatter3d"
        },
        {
         "hoverinfo": "none",
         "line": {
          "color": "lightcoral",
          "dash": "dash",
          "width": 0.5
         },
         "mode": "lines",
         "x": [
          -11.190999984741211,
          -7.543000221252441
         ],
         "y": [
          3.0190000534057617,
          2.8570001125335693
         ],
         "z": [
          2.578000068664551,
          -0.6359999775886536
         ],
         "type": "scatter3d"
        },
        {
         "hoverinfo": "none",
         "line": {
          "color": "lightcoral",
          "dash": "dash",
          "width": 0.5
         },
         "mode": "lines",
         "x": [
          -11.190999984741211,
          -6.807000160217285
         ],
         "y": [
          3.0190000534057617,
          2.3540000915527344
         ],
         "z": [
          2.578000068664551,
          0.4659999907016754
         ],
         "type": "scatter3d"
        },
        {
         "hoverinfo": "none",
         "line": {
          "color": "lightcoral",
          "dash": "dash",
          "width": 0.5
         },
         "mode": "lines",
         "x": [
          -11.190999984741211,
          -10.272000312805176
         ],
         "y": [
          3.0190000534057617,
          3.2260000705718994
         ],
         "z": [
          2.578000068664551,
          -1.8279999494552612
         ],
         "type": "scatter3d"
        },
        {
         "hoverinfo": "none",
         "line": {
          "color": "lightcoral",
          "dash": "dash",
          "width": 0.5
         },
         "mode": "lines",
         "x": [
          -11.190999984741211,
          -10.243000030517578
         ],
         "y": [
          3.0190000534057617,
          3.7669999599456787
         ],
         "z": [
          2.578000068664551,
          7.420000076293945
         ],
         "type": "scatter3d"
        },
        {
         "hoverinfo": "none",
         "line": {
          "color": "lightcoral",
          "dash": "dash",
          "width": 0.5
         },
         "mode": "lines",
         "x": [
          -11.190999984741211,
          -9.604999542236328
         ],
         "y": [
          3.0190000534057617,
          4.124000072479248
         ],
         "z": [
          2.578000068664551,
          -1.309999942779541
         ],
         "type": "scatter3d"
        },
        {
         "hoverinfo": "none",
         "line": {
          "color": "lightcoral",
          "dash": "dash",
          "width": 0.5
         },
         "mode": "lines",
         "x": [
          -11.190999984741211,
          -9.409000396728516
         ],
         "y": [
          3.0190000534057617,
          3.2179999351501465
         ],
         "z": [
          2.578000068664551,
          0.9279999732971191
         ],
         "type": "scatter3d"
        },
        {
         "hoverinfo": "none",
         "line": {
          "color": "lightcoral",
          "dash": "dash",
          "width": 0.5
         },
         "mode": "lines",
         "x": [
          -11.190999984741211,
          -8.647000312805176
         ],
         "y": [
          3.0190000534057617,
          3.813999891281128
         ],
         "z": [
          2.578000068664551,
          -0.164000004529953
         ],
         "type": "scatter3d"
        },
        {
         "hoverinfo": "none",
         "line": {
          "color": "lightcoral",
          "dash": "dash",
          "width": 0.5
         },
         "mode": "lines",
         "x": [
          -8.647000312805176,
          -11.190999984741211
         ],
         "y": [
          3.813999891281128,
          3.0190000534057617
         ],
         "z": [
          -0.164000004529953,
          2.578000068664551
         ],
         "type": "scatter3d"
        },
        {
         "hoverinfo": "none",
         "line": {
          "color": "lightcoral",
          "dash": "dash",
          "width": 0.5
         },
         "mode": "lines",
         "x": [
          -8.647000312805176,
          -9.397000312805176
         ],
         "y": [
          3.813999891281128,
          2.696000099182129
         ],
         "z": [
          -0.164000004529953,
          4.214000225067139
         ],
         "type": "scatter3d"
        },
        {
         "hoverinfo": "none",
         "line": {
          "color": "lightcoral",
          "dash": "dash",
          "width": 0.5
         },
         "mode": "lines",
         "x": [
          -8.647000312805176,
          -8.807999610900879
         ],
         "y": [
          3.813999891281128,
          1.9040000438690186
         ],
         "z": [
          -0.164000004529953,
          3.484999895095825
         ],
         "type": "scatter3d"
        },
        {
         "hoverinfo": "none",
         "line": {
          "color": "lightcoral",
          "dash": "dash",
          "width": 0.5
         },
         "mode": "lines",
         "x": [
          -8.647000312805176,
          -10.362000465393066
         ],
         "y": [
          3.813999891281128,
          5.77400016784668
         ],
         "z": [
          -0.164000004529953,
          -2.943000078201294
         ],
         "type": "scatter3d"
        },
        {
         "hoverinfo": "none",
         "line": {
          "color": "lightcoral",
          "dash": "dash",
          "width": 0.5
         },
         "mode": "lines",
         "x": [
          -8.647000312805176,
          -10.227999687194824
         ],
         "y": [
          3.813999891281128,
          7.2779998779296875
         ],
         "z": [
          -0.164000004529953,
          -3.181999921798706
         ],
         "type": "scatter3d"
        },
        {
         "hoverinfo": "none",
         "line": {
          "color": "lightcoral",
          "dash": "dash",
          "width": 0.5
         },
         "mode": "lines",
         "x": [
          -8.647000312805176,
          -9.72700023651123
         ],
         "y": [
          3.813999891281128,
          5.008999824523926
         ],
         "z": [
          -0.164000004529953,
          -4.111000061035156
         ],
         "type": "scatter3d"
        },
        {
         "hoverinfo": "none",
         "line": {
          "color": "lightcoral",
          "dash": "dash",
          "width": 0.5
         },
         "mode": "lines",
         "x": [
          -8.647000312805176,
          -8.496999740600586
         ],
         "y": [
          3.813999891281128,
          4.88700008392334
         ],
         "z": [
          -0.164000004529953,
          -4.1479997634887695
         ],
         "type": "scatter3d"
        },
        {
         "hoverinfo": "none",
         "line": {
          "color": "lightcoral",
          "dash": "dash",
          "width": 0.5
         },
         "mode": "lines",
         "x": [
          -8.647000312805176,
          -6.7769999504089355
         ],
         "y": [
          3.813999891281128,
          6.627999782562256
         ],
         "z": [
          -0.164000004529953,
          -2.1059999465942383
         ],
         "type": "scatter3d"
        },
        {
         "hoverinfo": "none",
         "line": {
          "color": "lightcoral",
          "dash": "dash",
          "width": 0.5
         },
         "mode": "lines",
         "x": [
          -8.647000312805176,
          -12.675000190734863
         ],
         "y": [
          3.813999891281128,
          3.437000036239624
         ],
         "z": [
          -0.164000004529953,
          2.5880000591278076
         ],
         "type": "scatter3d"
        },
        {
         "hoverinfo": "none",
         "line": {
          "color": "lightcoral",
          "dash": "dash",
          "width": 0.5
         },
         "mode": "lines",
         "x": [
          -8.647000312805176,
          -10.614999771118164
         ],
         "y": [
          3.813999891281128,
          3.1600000858306885
         ],
         "z": [
          -0.164000004529953,
          3.9159998893737793
         ],
         "type": "scatter3d"
        },
        {
         "hoverinfo": "none",
         "line": {
          "color": "lightcoral",
          "dash": "dash",
          "width": 0.5
         },
         "mode": "lines",
         "x": [
          -8.647000312805176,
          -10.517000198364258
         ],
         "y": [
          3.813999891281128,
          5.078000068664551
         ],
         "z": [
          -0.164000004529953,
          1.5269999504089355
         ],
         "type": "scatter3d"
        },
        {
         "hoverinfo": "none",
         "line": {
          "color": "lightcoral",
          "dash": "dash",
          "width": 0.5
         },
         "mode": "lines",
         "x": [
          -8.647000312805176,
          -10.35200023651123
         ],
         "y": [
          3.813999891281128,
          3.86299991607666
         ],
         "z": [
          -0.164000004529953,
          1.6109999418258667
         ],
         "type": "scatter3d"
        },
        {
         "hoverinfo": "none",
         "line": {
          "color": "lightcoral",
          "dash": "dash",
          "width": 0.5
         },
         "mode": "lines",
         "x": [
          -8.647000312805176,
          -9.6850004196167
         ],
         "y": [
          3.813999891281128,
          5.390999794006348
         ],
         "z": [
          -0.164000004529953,
          -1.7079999446868896
         ],
         "type": "scatter3d"
        },
        {
         "hoverinfo": "none",
         "line": {
          "color": "lightcoral",
          "dash": "dash",
          "width": 0.5
         },
         "mode": "lines",
         "x": [
          -8.647000312805176,
          -4.553999900817871
         ],
         "y": [
          3.813999891281128,
          5.198999881744385
         ],
         "z": [
          -0.164000004529953,
          -2.2049999237060547
         ],
         "type": "scatter3d"
        },
        {
         "hoverinfo": "none",
         "line": {
          "color": "lightcoral",
          "dash": "dash",
          "width": 0.5
         },
         "mode": "lines",
         "x": [
          -10.362000465393066,
          -7.543000221252441
         ],
         "y": [
          5.77400016784668,
          2.8570001125335693
         ],
         "z": [
          -2.943000078201294,
          -0.6359999775886536
         ],
         "type": "scatter3d"
        },
        {
         "hoverinfo": "none",
         "line": {
          "color": "lightcoral",
          "dash": "dash",
          "width": 0.5
         },
         "mode": "lines",
         "x": [
          -10.362000465393066,
          -12.317000389099121
         ],
         "y": [
          5.77400016784668,
          3.494999885559082
         ],
         "z": [
          -2.943000078201294,
          -6.23199987411499
         ],
         "type": "scatter3d"
        },
        {
         "hoverinfo": "none",
         "line": {
          "color": "lightcoral",
          "dash": "dash",
          "width": 0.5
         },
         "mode": "lines",
         "x": [
          -10.362000465393066,
          -11.958999633789062
         ],
         "y": [
          5.77400016784668,
          4.440999984741211
         ],
         "z": [
          -2.943000078201294,
          -5.090000152587891
         ],
         "type": "scatter3d"
        },
        {
         "hoverinfo": "none",
         "line": {
          "color": "lightcoral",
          "dash": "dash",
          "width": 0.5
         },
         "mode": "lines",
         "x": [
          -10.362000465393066,
          -11.164999961853027
         ],
         "y": [
          5.77400016784668,
          3.680000066757202
         ],
         "z": [
          -2.943000078201294,
          -7.21999979019165
         ],
         "type": "scatter3d"
        },
        {
         "hoverinfo": "none",
         "line": {
          "color": "lightcoral",
          "dash": "dash",
          "width": 0.5
         },
         "mode": "lines",
         "x": [
          -10.362000465393066,
          -10.508999824523926
         ],
         "y": [
          5.77400016784668,
          4.506999969482422
         ],
         "z": [
          -2.943000078201294,
          -5.083000183105469
         ],
         "type": "scatter3d"
        },
        {
         "hoverinfo": "none",
         "line": {
          "color": "lightcoral",
          "dash": "dash",
          "width": 0.5
         },
         "mode": "lines",
         "x": [
          -10.362000465393066,
          -9.95300006866455
         ],
         "y": [
          5.77400016784668,
          3.9779999256134033
         ],
         "z": [
          -2.943000078201294,
          -6.323999881744385
         ],
         "type": "scatter3d"
        },
        {
         "hoverinfo": "none",
         "line": {
          "color": "lightcoral",
          "dash": "dash",
          "width": 0.5
         },
         "mode": "lines",
         "x": [
          -10.362000465393066,
          -9.409000396728516
         ],
         "y": [
          5.77400016784668,
          6.114999771118164
         ],
         "z": [
          -2.943000078201294,
          -7.2769999504089355
         ],
         "type": "scatter3d"
        },
        {
         "hoverinfo": "none",
         "line": {
          "color": "lightcoral",
          "dash": "dash",
          "width": 0.5
         },
         "mode": "lines",
         "x": [
          -10.362000465393066,
          -8.993000030517578
         ],
         "y": [
          5.77400016784668,
          5.014999866485596
         ],
         "z": [
          -2.943000078201294,
          -6.928999900817871
         ],
         "type": "scatter3d"
        },
        {
         "hoverinfo": "none",
         "line": {
          "color": "lightcoral",
          "dash": "dash",
          "width": 0.5
         },
         "mode": "lines",
         "x": [
          -10.362000465393066,
          -7.695000171661377
         ],
         "y": [
          5.77400016784668,
          4.697000026702881
         ],
         "z": [
          -2.943000078201294,
          -6.966000080108643
         ],
         "type": "scatter3d"
        },
        {
         "hoverinfo": "none",
         "line": {
          "color": "lightcoral",
          "dash": "dash",
          "width": 0.5
         },
         "mode": "lines",
         "x": [
          -10.362000465393066,
          -6.7769999504089355
         ],
         "y": [
          5.77400016784668,
          6.627999782562256
         ],
         "z": [
          -2.943000078201294,
          -2.1059999465942383
         ],
         "type": "scatter3d"
        },
        {
         "hoverinfo": "none",
         "line": {
          "color": "lightcoral",
          "dash": "dash",
          "width": 0.5
         },
         "mode": "lines",
         "x": [
          -10.362000465393066,
          -10.517000198364258
         ],
         "y": [
          5.77400016784668,
          5.078000068664551
         ],
         "z": [
          -2.943000078201294,
          1.5269999504089355
         ],
         "type": "scatter3d"
        },
        {
         "hoverinfo": "none",
         "line": {
          "color": "lightcoral",
          "dash": "dash",
          "width": 0.5
         },
         "mode": "lines",
         "x": [
          -10.362000465393066,
          -10.35200023651123
         ],
         "y": [
          5.77400016784668,
          3.86299991607666
         ],
         "z": [
          -2.943000078201294,
          1.6109999418258667
         ],
         "type": "scatter3d"
        },
        {
         "hoverinfo": "none",
         "line": {
          "color": "lightcoral",
          "dash": "dash",
          "width": 0.5
         },
         "mode": "lines",
         "x": [
          -10.362000465393066,
          -10.272000312805176
         ],
         "y": [
          5.77400016784668,
          3.2260000705718994
         ],
         "z": [
          -2.943000078201294,
          -1.8279999494552612
         ],
         "type": "scatter3d"
        },
        {
         "hoverinfo": "none",
         "line": {
          "color": "lightcoral",
          "dash": "dash",
          "width": 0.5
         },
         "mode": "lines",
         "x": [
          -10.362000465393066,
          -9.604999542236328
         ],
         "y": [
          5.77400016784668,
          4.124000072479248
         ],
         "z": [
          -2.943000078201294,
          -1.309999942779541
         ],
         "type": "scatter3d"
        },
        {
         "hoverinfo": "none",
         "line": {
          "color": "lightcoral",
          "dash": "dash",
          "width": 0.5
         },
         "mode": "lines",
         "x": [
          -10.362000465393066,
          -9.409000396728516
         ],
         "y": [
          5.77400016784668,
          3.2179999351501465
         ],
         "z": [
          -2.943000078201294,
          0.9279999732971191
         ],
         "type": "scatter3d"
        },
        {
         "hoverinfo": "none",
         "line": {
          "color": "lightcoral",
          "dash": "dash",
          "width": 0.5
         },
         "mode": "lines",
         "x": [
          -10.362000465393066,
          -8.647000312805176
         ],
         "y": [
          5.77400016784668,
          3.813999891281128
         ],
         "z": [
          -2.943000078201294,
          -0.164000004529953
         ],
         "type": "scatter3d"
        },
        {
         "hoverinfo": "none",
         "line": {
          "color": "lightcoral",
          "dash": "dash",
          "width": 0.5
         },
         "mode": "lines",
         "x": [
          -10.362000465393066,
          -6.0879998207092285
         ],
         "y": [
          5.77400016784668,
          6.175000190734863
         ],
         "z": [
          -2.943000078201294,
          -5.091000080108643
         ],
         "type": "scatter3d"
        },
        {
         "hoverinfo": "none",
         "line": {
          "color": "lightcoral",
          "dash": "dash",
          "width": 0.5
         },
         "mode": "lines",
         "x": [
          -10.362000465393066,
          -6.031000137329102
         ],
         "y": [
          5.77400016784668,
          7.4679999351501465
         ],
         "z": [
          -2.943000078201294,
          -2.9639999866485596
         ],
         "type": "scatter3d"
        },
        {
         "hoverinfo": "none",
         "line": {
          "color": "lightcoral",
          "dash": "dash",
          "width": 0.5
         },
         "mode": "lines",
         "x": [
          -9.95300006866455,
          -10.362000465393066
         ],
         "y": [
          3.9779999256134033,
          5.77400016784668
         ],
         "z": [
          -6.323999881744385,
          -2.943000078201294
         ],
         "type": "scatter3d"
        },
        {
         "hoverinfo": "none",
         "line": {
          "color": "lightcoral",
          "dash": "dash",
          "width": 0.5
         },
         "mode": "lines",
         "x": [
          -9.95300006866455,
          -10.227999687194824
         ],
         "y": [
          3.9779999256134033,
          7.2779998779296875
         ],
         "z": [
          -6.323999881744385,
          -3.181999921798706
         ],
         "type": "scatter3d"
        },
        {
         "hoverinfo": "none",
         "line": {
          "color": "lightcoral",
          "dash": "dash",
          "width": 0.5
         },
         "mode": "lines",
         "x": [
          -9.95300006866455,
          -9.72700023651123
         ],
         "y": [
          3.9779999256134033,
          5.008999824523926
         ],
         "z": [
          -6.323999881744385,
          -4.111000061035156
         ],
         "type": "scatter3d"
        },
        {
         "hoverinfo": "none",
         "line": {
          "color": "lightcoral",
          "dash": "dash",
          "width": 0.5
         },
         "mode": "lines",
         "x": [
          -9.95300006866455,
          -8.496999740600586
         ],
         "y": [
          3.9779999256134033,
          4.88700008392334
         ],
         "z": [
          -6.323999881744385,
          -4.1479997634887695
         ],
         "type": "scatter3d"
        },
        {
         "hoverinfo": "none",
         "line": {
          "color": "lightcoral",
          "dash": "dash",
          "width": 0.5
         },
         "mode": "lines",
         "x": [
          -9.95300006866455,
          -7.695000171661377
         ],
         "y": [
          3.9779999256134033,
          4.697000026702881
         ],
         "z": [
          -6.323999881744385,
          -6.966000080108643
         ],
         "type": "scatter3d"
        },
        {
         "hoverinfo": "none",
         "line": {
          "color": "lightcoral",
          "dash": "dash",
          "width": 0.5
         },
         "mode": "lines",
         "x": [
          -9.95300006866455,
          -6.63700008392334
         ],
         "y": [
          3.9779999256134033,
          5.593999862670898
         ],
         "z": [
          -6.323999881744385,
          -7.453999996185303
         ],
         "type": "scatter3d"
        },
        {
         "hoverinfo": "none",
         "line": {
          "color": "lightcoral",
          "dash": "dash",
          "width": 0.5
         },
         "mode": "lines",
         "x": [
          -9.95300006866455,
          -10.272000312805176
         ],
         "y": [
          3.9779999256134033,
          3.2260000705718994
         ],
         "z": [
          -6.323999881744385,
          -1.8279999494552612
         ],
         "type": "scatter3d"
        },
        {
         "hoverinfo": "none",
         "line": {
          "color": "lightcoral",
          "dash": "dash",
          "width": 0.5
         },
         "mode": "lines",
         "x": [
          -9.95300006866455,
          -9.6850004196167
         ],
         "y": [
          3.9779999256134033,
          5.390999794006348
         ],
         "z": [
          -6.323999881744385,
          -1.7079999446868896
         ],
         "type": "scatter3d"
        },
        {
         "hoverinfo": "none",
         "line": {
          "color": "lightcoral",
          "dash": "dash",
          "width": 0.5
         },
         "mode": "lines",
         "x": [
          -9.95300006866455,
          -6.0879998207092285
         ],
         "y": [
          3.9779999256134033,
          6.175000190734863
         ],
         "z": [
          -6.323999881744385,
          -5.091000080108643
         ],
         "type": "scatter3d"
        },
        {
         "hoverinfo": "none",
         "line": {
          "color": "lightcoral",
          "dash": "dash",
          "width": 0.5
         },
         "mode": "lines",
         "x": [
          -9.95300006866455,
          -5.770999908447266
         ],
         "y": [
          3.9779999256134033,
          6.2789998054504395
         ],
         "z": [
          -6.323999881744385,
          -6.386000156402588
         ],
         "type": "scatter3d"
        },
        {
         "hoverinfo": "none",
         "line": {
          "color": "lightcoral",
          "dash": "dash",
          "width": 0.5
         },
         "mode": "lines",
         "x": [
          -6.63700008392334,
          -11.164999961853027
         ],
         "y": [
          5.593999862670898,
          3.680000066757202
         ],
         "z": [
          -7.453999996185303,
          -7.21999979019165
         ],
         "type": "scatter3d"
        },
        {
         "hoverinfo": "none",
         "line": {
          "color": "lightcoral",
          "dash": "dash",
          "width": 0.5
         },
         "mode": "lines",
         "x": [
          -6.63700008392334,
          -10.508999824523926
         ],
         "y": [
          5.593999862670898,
          4.506999969482422
         ],
         "z": [
          -7.453999996185303,
          -5.083000183105469
         ],
         "type": "scatter3d"
        },
        {
         "hoverinfo": "none",
         "line": {
          "color": "lightcoral",
          "dash": "dash",
          "width": 0.5
         },
         "mode": "lines",
         "x": [
          -6.63700008392334,
          -9.95300006866455
         ],
         "y": [
          5.593999862670898,
          3.9779999256134033
         ],
         "z": [
          -7.453999996185303,
          -6.323999881744385
         ],
         "type": "scatter3d"
        },
        {
         "hoverinfo": "none",
         "line": {
          "color": "lightcoral",
          "dash": "dash",
          "width": 0.5
         },
         "mode": "lines",
         "x": [
          -6.63700008392334,
          -9.72700023651123
         ],
         "y": [
          5.593999862670898,
          5.008999824523926
         ],
         "z": [
          -7.453999996185303,
          -4.111000061035156
         ],
         "type": "scatter3d"
        },
        {
         "hoverinfo": "none",
         "line": {
          "color": "lightcoral",
          "dash": "dash",
          "width": 0.5
         },
         "mode": "lines",
         "x": [
          -6.63700008392334,
          -9.409000396728516
         ],
         "y": [
          5.593999862670898,
          6.114999771118164
         ],
         "z": [
          -7.453999996185303,
          -7.2769999504089355
         ],
         "type": "scatter3d"
        },
        {
         "hoverinfo": "none",
         "line": {
          "color": "lightcoral",
          "dash": "dash",
          "width": 0.5
         },
         "mode": "lines",
         "x": [
          -6.63700008392334,
          -8.993000030517578
         ],
         "y": [
          5.593999862670898,
          5.014999866485596
         ],
         "z": [
          -7.453999996185303,
          -6.928999900817871
         ],
         "type": "scatter3d"
        },
        {
         "hoverinfo": "none",
         "line": {
          "color": "lightcoral",
          "dash": "dash",
          "width": 0.5
         },
         "mode": "lines",
         "x": [
          -6.63700008392334,
          -8.496999740600586
         ],
         "y": [
          5.593999862670898,
          4.88700008392334
         ],
         "z": [
          -7.453999996185303,
          -4.1479997634887695
         ],
         "type": "scatter3d"
        },
        {
         "hoverinfo": "none",
         "line": {
          "color": "lightcoral",
          "dash": "dash",
          "width": 0.5
         },
         "mode": "lines",
         "x": [
          -6.63700008392334,
          -6.0879998207092285
         ],
         "y": [
          5.593999862670898,
          6.175000190734863
         ],
         "z": [
          -7.453999996185303,
          -5.091000080108643
         ],
         "type": "scatter3d"
        },
        {
         "hoverinfo": "none",
         "line": {
          "color": "lightcoral",
          "dash": "dash",
          "width": 0.5
         },
         "mode": "lines",
         "x": [
          -6.63700008392334,
          -3.5840001106262207
         ],
         "y": [
          5.593999862670898,
          4.84499979019165
         ],
         "z": [
          -7.453999996185303,
          -4.185999870300293
         ],
         "type": "scatter3d"
        },
        {
         "hoverinfo": "none",
         "line": {
          "color": "lightcoral",
          "dash": "dash",
          "width": 0.5
         },
         "mode": "lines",
         "x": [
          -6.63700008392334,
          -6.031000137329102
         ],
         "y": [
          5.593999862670898,
          7.4679999351501465
         ],
         "z": [
          -7.453999996185303,
          -2.9639999866485596
         ],
         "type": "scatter3d"
        },
        {
         "hoverinfo": "none",
         "line": {
          "color": "lightcoral",
          "dash": "dash",
          "width": 0.5
         },
         "mode": "lines",
         "x": [
          -6.63700008392334,
          -5.2270002365112305
         ],
         "y": [
          5.593999862670898,
          6.664000034332275
         ],
         "z": [
          -7.453999996185303,
          -4.000999927520752
         ],
         "type": "scatter3d"
        },
        {
         "hoverinfo": "none",
         "line": {
          "color": "lightcoral",
          "dash": "dash",
          "width": 0.5
         },
         "mode": "lines",
         "x": [
          -6.63700008392334,
          -4.408999919891357
         ],
         "y": [
          5.593999862670898,
          5.520999908447266
         ],
         "z": [
          -7.453999996185303,
          -3.385999917984009
         ],
         "type": "scatter3d"
        },
        {
         "hoverinfo": "none",
         "line": {
          "color": "lightcoral",
          "dash": "dash",
          "width": 0.5
         },
         "mode": "lines",
         "x": [
          -5.2270002365112305,
          -9.72700023651123
         ],
         "y": [
          6.664000034332275,
          5.008999824523926
         ],
         "z": [
          -4.000999927520752,
          -4.111000061035156
         ],
         "type": "scatter3d"
        },
        {
         "hoverinfo": "none",
         "line": {
          "color": "lightcoral",
          "dash": "dash",
          "width": 0.5
         },
         "mode": "lines",
         "x": [
          -5.2270002365112305,
          -8.496999740600586
         ],
         "y": [
          6.664000034332275,
          4.88700008392334
         ],
         "z": [
          -4.000999927520752,
          -4.1479997634887695
         ],
         "type": "scatter3d"
        },
        {
         "hoverinfo": "none",
         "line": {
          "color": "lightcoral",
          "dash": "dash",
          "width": 0.5
         },
         "mode": "lines",
         "x": [
          -5.2270002365112305,
          -7.695000171661377
         ],
         "y": [
          6.664000034332275,
          4.697000026702881
         ],
         "z": [
          -4.000999927520752,
          -6.966000080108643
         ],
         "type": "scatter3d"
        },
        {
         "hoverinfo": "none",
         "line": {
          "color": "lightcoral",
          "dash": "dash",
          "width": 0.5
         },
         "mode": "lines",
         "x": [
          -5.2270002365112305,
          -6.63700008392334
         ],
         "y": [
          6.664000034332275,
          5.593999862670898
         ],
         "z": [
          -4.000999927520752,
          -7.453999996185303
         ],
         "type": "scatter3d"
        },
        {
         "hoverinfo": "none",
         "line": {
          "color": "lightcoral",
          "dash": "dash",
          "width": 0.5
         },
         "mode": "lines",
         "x": [
          -5.2270002365112305,
          -2.555000066757202
         ],
         "y": [
          6.664000034332275,
          3.9719998836517334
         ],
         "z": [
          -4.000999927520752,
          -3.621000051498413
         ],
         "type": "scatter3d"
        },
        {
         "hoverinfo": "none",
         "line": {
          "color": "lightcoral",
          "dash": "dash",
          "width": 0.5
         },
         "mode": "lines",
         "x": [
          -5.2270002365112305,
          -2.184000015258789
         ],
         "y": [
          6.664000034332275,
          2.8369998931884766
         ],
         "z": [
          -4.000999927520752,
          -4.590000152587891
         ],
         "type": "scatter3d"
        },
        {
         "hoverinfo": "none",
         "line": {
          "color": "lightcoral",
          "dash": "dash",
          "width": 0.5
         },
         "mode": "lines",
         "x": [
          -5.2270002365112305,
          -5.770999908447266
         ],
         "y": [
          6.664000034332275,
          6.2789998054504395
         ],
         "z": [
          -4.000999927520752,
          -6.386000156402588
         ],
         "type": "scatter3d"
        },
        {
         "hoverinfo": "none",
         "line": {
          "color": "lightcoral",
          "dash": "dash",
          "width": 0.5
         },
         "mode": "lines",
         "x": [
          -5.2270002365112305,
          -4.752999782562256
         ],
         "y": [
          6.664000034332275,
          6.861000061035156
         ],
         "z": [
          -4.000999927520752,
          -6.744999885559082
         ],
         "type": "scatter3d"
        },
        {
         "hoverinfo": "none",
         "line": {
          "color": "lightcoral",
          "dash": "dash",
          "width": 0.5
         },
         "mode": "lines",
         "x": [
          -5.2270002365112305,
          -3.5840001106262207
         ],
         "y": [
          6.664000034332275,
          4.84499979019165
         ],
         "z": [
          -4.000999927520752,
          -4.185999870300293
         ],
         "type": "scatter3d"
        },
        {
         "hoverinfo": "none",
         "line": {
          "color": "lightcoral",
          "dash": "dash",
          "width": 0.5
         },
         "mode": "lines",
         "x": [
          -5.2270002365112305,
          -1.3509999513626099
         ],
         "y": [
          6.664000034332275,
          4.84499979019165
         ],
         "z": [
          -4.000999927520752,
          -3.244999885559082
         ],
         "type": "scatter3d"
        },
        {
         "hoverinfo": "none",
         "line": {
          "color": "lightcoral",
          "dash": "dash",
          "width": 0.5
         },
         "mode": "lines",
         "x": [
          -5.2270002365112305,
          -0.8949999809265137
         ],
         "y": [
          6.664000034332275,
          5.617000102996826
         ],
         "z": [
          -4.000999927520752,
          -4.0920000076293945
         ],
         "type": "scatter3d"
        },
        {
         "hoverinfo": "none",
         "line": {
          "color": "lightcoral",
          "dash": "dash",
          "width": 0.5
         },
         "mode": "lines",
         "x": [
          -2.555000066757202,
          -1.25
         ],
         "y": [
          3.9719998836517334,
          3.9070000648498535
         ],
         "z": [
          -3.621000051498413,
          -0.9039999842643738
         ],
         "type": "scatter3d"
        },
        {
         "hoverinfo": "none",
         "line": {
          "color": "lightcoral",
          "dash": "dash",
          "width": 0.5
         },
         "mode": "lines",
         "x": [
          -2.555000066757202,
          -0.050999999046325684
         ],
         "y": [
          3.9719998836517334,
          3.819999933242798
         ],
         "z": [
          -3.621000051498413,
          0.04100000113248825
         ],
         "type": "scatter3d"
        },
        {
         "hoverinfo": "none",
         "line": {
          "color": "lightcoral",
          "dash": "dash",
          "width": 0.5
         },
         "mode": "lines",
         "x": [
          -2.555000066757202,
          1.3769999742507935
         ],
         "y": [
          3.9719998836517334,
          3.552000045776367
         ],
         "z": [
          -3.621000051498413,
          -2.930999994277954
         ],
         "type": "scatter3d"
        },
        {
         "hoverinfo": "none",
         "line": {
          "color": "lightcoral",
          "dash": "dash",
          "width": 0.5
         },
         "mode": "lines",
         "x": [
          -2.555000066757202,
          -6.0879998207092285
         ],
         "y": [
          3.9719998836517334,
          6.175000190734863
         ],
         "z": [
          -3.621000051498413,
          -5.091000080108643
         ],
         "type": "scatter3d"
        },
        {
         "hoverinfo": "none",
         "line": {
          "color": "lightcoral",
          "dash": "dash",
          "width": 0.5
         },
         "mode": "lines",
         "x": [
          -2.555000066757202,
          -5.770999908447266
         ],
         "y": [
          3.9719998836517334,
          6.2789998054504395
         ],
         "z": [
          -3.621000051498413,
          -6.386000156402588
         ],
         "type": "scatter3d"
        },
        {
         "hoverinfo": "none",
         "line": {
          "color": "lightcoral",
          "dash": "dash",
          "width": 0.5
         },
         "mode": "lines",
         "x": [
          -2.555000066757202,
          -4.752999782562256
         ],
         "y": [
          3.9719998836517334,
          6.861000061035156
         ],
         "z": [
          -3.621000051498413,
          -6.744999885559082
         ],
         "type": "scatter3d"
        },
        {
         "hoverinfo": "none",
         "line": {
          "color": "lightcoral",
          "dash": "dash",
          "width": 0.5
         },
         "mode": "lines",
         "x": [
          -2.555000066757202,
          -6.031000137329102
         ],
         "y": [
          3.9719998836517334,
          7.4679999351501465
         ],
         "z": [
          -3.621000051498413,
          -2.9639999866485596
         ],
         "type": "scatter3d"
        },
        {
         "hoverinfo": "none",
         "line": {
          "color": "lightcoral",
          "dash": "dash",
          "width": 0.5
         },
         "mode": "lines",
         "x": [
          -2.555000066757202,
          -5.2270002365112305
         ],
         "y": [
          3.9719998836517334,
          6.664000034332275
         ],
         "z": [
          -3.621000051498413,
          -4.000999927520752
         ],
         "type": "scatter3d"
        },
        {
         "hoverinfo": "none",
         "line": {
          "color": "lightcoral",
          "dash": "dash",
          "width": 0.5
         },
         "mode": "lines",
         "x": [
          -2.555000066757202,
          -4.553999900817871
         ],
         "y": [
          3.9719998836517334,
          5.198999881744385
         ],
         "z": [
          -3.621000051498413,
          -2.2049999237060547
         ],
         "type": "scatter3d"
        },
        {
         "hoverinfo": "none",
         "line": {
          "color": "lightcoral",
          "dash": "dash",
          "width": 0.5
         },
         "mode": "lines",
         "x": [
          -2.555000066757202,
          -4.408999919891357
         ],
         "y": [
          3.9719998836517334,
          5.520999908447266
         ],
         "z": [
          -3.621000051498413,
          -3.385999917984009
         ],
         "type": "scatter3d"
        },
        {
         "hoverinfo": "none",
         "line": {
          "color": "lightcoral",
          "dash": "dash",
          "width": 0.5
         },
         "mode": "lines",
         "x": [
          -2.555000066757202,
          -0.8309999704360962
         ],
         "y": [
          3.9719998836517334,
          4.767000198364258
         ],
         "z": [
          -3.621000051498413,
          -2.003999948501587
         ],
         "type": "scatter3d"
        },
        {
         "hoverinfo": "none",
         "line": {
          "color": "lightcoral",
          "dash": "dash",
          "width": 0.5
         },
         "mode": "lines",
         "x": [
          -2.555000066757202,
          0.453000009059906
         ],
         "y": [
          3.9719998836517334,
          5.383999824523926
         ],
         "z": [
          -3.621000051498413,
          -1.7079999446868896
         ],
         "type": "scatter3d"
        },
        {
         "hoverinfo": "none",
         "line": {
          "color": "lightcoral",
          "dash": "dash",
          "width": 0.5
         },
         "mode": "lines",
         "x": [
          -2.555000066757202,
          0.7099999785423279
         ],
         "y": [
          3.9719998836517334,
          5.119999885559082
         ],
         "z": [
          -3.621000051498413,
          -0.22300000488758087
         ],
         "type": "scatter3d"
        },
        {
         "hoverinfo": "none",
         "line": {
          "color": "lightcoral",
          "dash": "dash",
          "width": 0.5
         },
         "mode": "lines",
         "x": [
          -2.555000066757202,
          1.5069999694824219
         ],
         "y": [
          3.9719998836517334,
          4.741000175476074
         ],
         "z": [
          -3.621000051498413,
          -2.621000051498413
         ],
         "type": "scatter3d"
        },
        {
         "hoverinfo": "none",
         "line": {
          "color": "lightcoral",
          "dash": "dash",
          "width": 0.5
         },
         "mode": "lines",
         "x": [
          0.453000009059906,
          -2.555000066757202
         ],
         "y": [
          5.383999824523926,
          3.9719998836517334
         ],
         "z": [
          -1.7079999446868896,
          -3.621000051498413
         ],
         "type": "scatter3d"
        },
        {
         "hoverinfo": "none",
         "line": {
          "color": "lightcoral",
          "dash": "dash",
          "width": 0.5
         },
         "mode": "lines",
         "x": [
          0.453000009059906,
          -2.184000015258789
         ],
         "y": [
          5.383999824523926,
          2.8369998931884766
         ],
         "z": [
          -1.7079999446868896,
          -4.590000152587891
         ],
         "type": "scatter3d"
        },
        {
         "hoverinfo": "none",
         "line": {
          "color": "lightcoral",
          "dash": "dash",
          "width": 0.5
         },
         "mode": "lines",
         "x": [
          0.453000009059906,
          3.930000066757202
         ],
         "y": [
          5.383999824523926,
          2.5299999713897705
         ],
         "z": [
          -1.7079999446868896,
          -3.4240000247955322
         ],
         "type": "scatter3d"
        },
        {
         "hoverinfo": "none",
         "line": {
          "color": "lightcoral",
          "dash": "dash",
          "width": 0.5
         },
         "mode": "lines",
         "x": [
          0.453000009059906,
          4.25600004196167
         ],
         "y": [
          5.383999824523926,
          3.7790000438690186
         ],
         "z": [
          -1.7079999446868896,
          -3.0840001106262207
         ],
         "type": "scatter3d"
        },
        {
         "hoverinfo": "none",
         "line": {
          "color": "lightcoral",
          "dash": "dash",
          "width": 0.5
         },
         "mode": "lines",
         "x": [
          0.453000009059906,
          5.005000114440918
         ],
         "y": [
          5.383999824523926,
          4.025000095367432
         ],
         "z": [
          -1.7079999446868896,
          -2.1389999389648438
         ],
         "type": "scatter3d"
        },
        {
         "hoverinfo": "none",
         "line": {
          "color": "lightcoral",
          "dash": "dash",
          "width": 0.5
         },
         "mode": "lines",
         "x": [
          0.453000009059906,
          -3.5840001106262207
         ],
         "y": [
          5.383999824523926,
          4.84499979019165
         ],
         "z": [
          -1.7079999446868896,
          -4.185999870300293
         ],
         "type": "scatter3d"
        },
        {
         "hoverinfo": "none",
         "line": {
          "color": "lightcoral",
          "dash": "dash",
          "width": 0.5
         },
         "mode": "lines",
         "x": [
          0.453000009059906,
          4.531000137329102
         ],
         "y": [
          5.383999824523926,
          6.066999912261963
         ],
         "z": [
          -1.7079999446868896,
          -4.224999904632568
         ],
         "type": "scatter3d"
        },
        {
         "hoverinfo": "none",
         "line": {
          "color": "lightcoral",
          "dash": "dash",
          "width": 0.5
         },
         "mode": "lines",
         "x": [
          0.453000009059906,
          -1.3509999513626099
         ],
         "y": [
          5.383999824523926,
          4.84499979019165
         ],
         "z": [
          -1.7079999446868896,
          -3.244999885559082
         ],
         "type": "scatter3d"
        },
        {
         "hoverinfo": "none",
         "line": {
          "color": "lightcoral",
          "dash": "dash",
          "width": 0.5
         },
         "mode": "lines",
         "x": [
          0.453000009059906,
          -0.8949999809265137
         ],
         "y": [
          5.383999824523926,
          5.617000102996826
         ],
         "z": [
          -1.7079999446868896,
          -4.0920000076293945
         ],
         "type": "scatter3d"
        },
        {
         "hoverinfo": "none",
         "line": {
          "color": "lightcoral",
          "dash": "dash",
          "width": 0.5
         },
         "mode": "lines",
         "x": [
          0.453000009059906,
          2.5309998989105225
         ],
         "y": [
          5.383999824523926,
          5.482999801635742
         ],
         "z": [
          -1.7079999446868896,
          -3.072999954223633
         ],
         "type": "scatter3d"
        },
        {
         "hoverinfo": "none",
         "line": {
          "color": "lightcoral",
          "dash": "dash",
          "width": 0.5
         },
         "mode": "lines",
         "x": [
          0.453000009059906,
          2.816999912261963
         ],
         "y": [
          5.383999824523926,
          6.870999813079834
         ],
         "z": [
          -1.7079999446868896,
          -2.753999948501587
         ],
         "type": "scatter3d"
        },
        {
         "hoverinfo": "none",
         "line": {
          "color": "lightcoral",
          "dash": "dash",
          "width": 0.5
         },
         "mode": "lines",
         "x": [
          0.453000009059906,
          3.5920000076293945
         ],
         "y": [
          5.383999824523926,
          4.9039998054504395
         ],
         "z": [
          -1.7079999446868896,
          -3.884999990463257
         ],
         "type": "scatter3d"
        },
        {
         "hoverinfo": "none",
         "line": {
          "color": "lightcoral",
          "dash": "dash",
          "width": 0.5
         },
         "mode": "lines",
         "x": [
          0.453000009059906,
          4.289000034332275
         ],
         "y": [
          5.383999824523926,
          7.076000213623047
         ],
         "z": [
          -1.7079999446868896,
          -3.1019999980926514
         ],
         "type": "scatter3d"
        },
        {
         "hoverinfo": "none",
         "line": {
          "color": "lightcoral",
          "dash": "dash",
          "width": 0.5
         },
         "mode": "lines",
         "x": [
          3.5920000076293945,
          6.1519999504089355
         ],
         "y": [
          4.9039998054504395,
          1.597000002861023
         ],
         "z": [
          -3.884999990463257,
          -4.75
         ],
         "type": "scatter3d"
        },
        {
         "hoverinfo": "none",
         "line": {
          "color": "lightcoral",
          "dash": "dash",
          "width": 0.5
         },
         "mode": "lines",
         "x": [
          3.5920000076293945,
          1.3769999742507935
         ],
         "y": [
          4.9039998054504395,
          3.552000045776367
         ],
         "z": [
          -3.884999990463257,
          -2.930999994277954
         ],
         "type": "scatter3d"
        },
        {
         "hoverinfo": "none",
         "line": {
          "color": "lightcoral",
          "dash": "dash",
          "width": 0.5
         },
         "mode": "lines",
         "x": [
          3.5920000076293945,
          3.930000066757202
         ],
         "y": [
          4.9039998054504395,
          2.5299999713897705
         ],
         "z": [
          -3.884999990463257,
          -3.4240000247955322
         ],
         "type": "scatter3d"
        },
        {
         "hoverinfo": "none",
         "line": {
          "color": "lightcoral",
          "dash": "dash",
          "width": 0.5
         },
         "mode": "lines",
         "x": [
          3.5920000076293945,
          3.944000005722046
         ],
         "y": [
          4.9039998054504395,
          0.03500000014901161
         ],
         "z": [
          -3.884999990463257,
          -3.2939999103546143
         ],
         "type": "scatter3d"
        },
        {
         "hoverinfo": "none",
         "line": {
          "color": "lightcoral",
          "dash": "dash",
          "width": 0.5
         },
         "mode": "lines",
         "x": [
          3.5920000076293945,
          4.645999908447266
         ],
         "y": [
          4.9039998054504395,
          1.3580000400543213
         ],
         "z": [
          -3.884999990463257,
          -2.9240000247955322
         ],
         "type": "scatter3d"
        },
        {
         "hoverinfo": "none",
         "line": {
          "color": "lightcoral",
          "dash": "dash",
          "width": 0.5
         },
         "mode": "lines",
         "x": [
          3.5920000076293945,
          6.0370001792907715
         ],
         "y": [
          4.9039998054504395,
          1.4780000448226929
         ],
         "z": [
          -3.884999990463257,
          -3.5360000133514404
         ],
         "type": "scatter3d"
        },
        {
         "hoverinfo": "none",
         "line": {
          "color": "lightcoral",
          "dash": "dash",
          "width": 0.5
         },
         "mode": "lines",
         "x": [
          3.5920000076293945,
          7.052000045776367
         ],
         "y": [
          4.9039998054504395,
          1.61899995803833
         ],
         "z": [
          -3.884999990463257,
          -2.686000108718872
         ],
         "type": "scatter3d"
        },
        {
         "hoverinfo": "none",
         "line": {
          "color": "lightcoral",
          "dash": "dash",
          "width": 0.5
         },
         "mode": "lines",
         "x": [
          3.5920000076293945,
          -1.3509999513626099
         ],
         "y": [
          4.9039998054504395,
          4.84499979019165
         ],
         "z": [
          -3.884999990463257,
          -3.244999885559082
         ],
         "type": "scatter3d"
        },
        {
         "hoverinfo": "none",
         "line": {
          "color": "lightcoral",
          "dash": "dash",
          "width": 0.5
         },
         "mode": "lines",
         "x": [
          3.5920000076293945,
          -0.8949999809265137
         ],
         "y": [
          4.9039998054504395,
          5.617000102996826
         ],
         "z": [
          -3.884999990463257,
          -4.0920000076293945
         ],
         "type": "scatter3d"
        },
        {
         "hoverinfo": "none",
         "line": {
          "color": "lightcoral",
          "dash": "dash",
          "width": 0.5
         },
         "mode": "lines",
         "x": [
          3.5920000076293945,
          -0.8309999704360962
         ],
         "y": [
          4.9039998054504395,
          4.767000198364258
         ],
         "z": [
          -3.884999990463257,
          -2.003999948501587
         ],
         "type": "scatter3d"
        },
        {
         "hoverinfo": "none",
         "line": {
          "color": "lightcoral",
          "dash": "dash",
          "width": 0.5
         },
         "mode": "lines",
         "x": [
          3.5920000076293945,
          0.453000009059906
         ],
         "y": [
          4.9039998054504395,
          5.383999824523926
         ],
         "z": [
          -3.884999990463257,
          -1.7079999446868896
         ],
         "type": "scatter3d"
        },
        {
         "hoverinfo": "none",
         "line": {
          "color": "lightcoral",
          "dash": "dash",
          "width": 0.5
         },
         "mode": "lines",
         "x": [
          3.5920000076293945,
          0.7099999785423279
         ],
         "y": [
          4.9039998054504395,
          5.119999885559082
         ],
         "z": [
          -3.884999990463257,
          -0.22300000488758087
         ],
         "type": "scatter3d"
        },
        {
         "hoverinfo": "none",
         "line": {
          "color": "lightcoral",
          "dash": "dash",
          "width": 0.5
         },
         "mode": "lines",
         "x": [
          3.5920000076293945,
          1.5069999694824219
         ],
         "y": [
          4.9039998054504395,
          4.741000175476074
         ],
         "z": [
          -3.884999990463257,
          -2.621000051498413
         ],
         "type": "scatter3d"
        },
        {
         "hoverinfo": "none",
         "line": {
          "color": "lightcoral",
          "dash": "dash",
          "width": 0.5
         },
         "mode": "lines",
         "x": [
          4.645999908447266,
          8.95300006866455
         ],
         "y": [
          1.3580000400543213,
          1.746000051498413
         ],
         "z": [
          -2.9240000247955322,
          -4.380000114440918
         ],
         "type": "scatter3d"
        },
        {
         "hoverinfo": "none",
         "line": {
          "color": "lightcoral",
          "dash": "dash",
          "width": 0.5
         },
         "mode": "lines",
         "x": [
          4.645999908447266,
          9.032999992370605
         ],
         "y": [
          1.3580000400543213,
          0.5550000071525574
         ],
         "z": [
          -2.9240000247955322,
          -4.6529998779296875
         ],
         "type": "scatter3d"
        },
        {
         "hoverinfo": "none",
         "line": {
          "color": "lightcoral",
          "dash": "dash",
          "width": 0.5
         },
         "mode": "lines",
         "x": [
          4.645999908447266,
          1.3769999742507935
         ],
         "y": [
          1.3580000400543213,
          3.552000045776367
         ],
         "z": [
          -2.9240000247955322,
          -2.930999994277954
         ],
         "type": "scatter3d"
        },
        {
         "hoverinfo": "none",
         "line": {
          "color": "lightcoral",
          "dash": "dash",
          "width": 0.5
         },
         "mode": "lines",
         "x": [
          4.645999908447266,
          4.25600004196167
         ],
         "y": [
          1.3580000400543213,
          3.7790000438690186
         ],
         "z": [
          -2.9240000247955322,
          -3.0840001106262207
         ],
         "type": "scatter3d"
        },
        {
         "hoverinfo": "none",
         "line": {
          "color": "lightcoral",
          "dash": "dash",
          "width": 0.5
         },
         "mode": "lines",
         "x": [
          4.645999908447266,
          5.005000114440918
         ],
         "y": [
          1.3580000400543213,
          4.025000095367432
         ],
         "z": [
          -2.9240000247955322,
          -2.1389999389648438
         ],
         "type": "scatter3d"
        },
        {
         "hoverinfo": "none",
         "line": {
          "color": "lightcoral",
          "dash": "dash",
          "width": 0.5
         },
         "mode": "lines",
         "x": [
          4.645999908447266,
          7.052000045776367
         ],
         "y": [
          1.3580000400543213,
          1.61899995803833
         ],
         "z": [
          -2.9240000247955322,
          -2.686000108718872
         ],
         "type": "scatter3d"
        },
        {
         "hoverinfo": "none",
         "line": {
          "color": "lightcoral",
          "dash": "dash",
          "width": 0.5
         },
         "mode": "lines",
         "x": [
          4.645999908447266,
          8.342000007629395
         ],
         "y": [
          1.3580000400543213,
          2.2049999237060547
         ],
         "z": [
          -2.9240000247955322,
          -3.0480000972747803
         ],
         "type": "scatter3d"
        },
        {
         "hoverinfo": "none",
         "line": {
          "color": "lightcoral",
          "dash": "dash",
          "width": 0.5
         },
         "mode": "lines",
         "x": [
          4.645999908447266,
          4.531000137329102
         ],
         "y": [
          1.3580000400543213,
          6.066999912261963
         ],
         "z": [
          -2.9240000247955322,
          -4.224999904632568
         ],
         "type": "scatter3d"
        },
        {
         "hoverinfo": "none",
         "line": {
          "color": "lightcoral",
          "dash": "dash",
          "width": 0.5
         },
         "mode": "lines",
         "x": [
          4.645999908447266,
          1.5069999694824219
         ],
         "y": [
          1.3580000400543213,
          4.741000175476074
         ],
         "z": [
          -2.9240000247955322,
          -2.621000051498413
         ],
         "type": "scatter3d"
        },
        {
         "hoverinfo": "none",
         "line": {
          "color": "lightcoral",
          "dash": "dash",
          "width": 0.5
         },
         "mode": "lines",
         "x": [
          4.645999908447266,
          2.5309998989105225
         ],
         "y": [
          1.3580000400543213,
          5.482999801635742
         ],
         "z": [
          -2.9240000247955322,
          -3.072999954223633
         ],
         "type": "scatter3d"
        },
        {
         "hoverinfo": "none",
         "line": {
          "color": "lightcoral",
          "dash": "dash",
          "width": 0.5
         },
         "mode": "lines",
         "x": [
          4.645999908447266,
          3.5920000076293945
         ],
         "y": [
          1.3580000400543213,
          4.9039998054504395
         ],
         "z": [
          -2.9240000247955322,
          -3.884999990463257
         ],
         "type": "scatter3d"
        },
        {
         "hoverinfo": "none",
         "line": {
          "color": "lightcoral",
          "dash": "dash",
          "width": 0.5
         },
         "mode": "lines",
         "x": [
          8.342000007629395,
          6.1519999504089355
         ],
         "y": [
          2.2049999237060547,
          1.597000002861023
         ],
         "z": [
          -3.0480000972747803,
          -4.75
         ],
         "type": "scatter3d"
        },
        {
         "hoverinfo": "none",
         "line": {
          "color": "lightcoral",
          "dash": "dash",
          "width": 0.5
         },
         "mode": "lines",
         "x": [
          8.342000007629395,
          9.463000297546387
         ],
         "y": [
          2.2049999237060547,
          2.7300000190734863
         ],
         "z": [
          -3.0480000972747803,
          -5.13100004196167
         ],
         "type": "scatter3d"
        },
        {
         "hoverinfo": "none",
         "line": {
          "color": "lightcoral",
          "dash": "dash",
          "width": 0.5
         },
         "mode": "lines",
         "x": [
          8.342000007629395,
          10.20300006866455
         ],
         "y": [
          2.2049999237060547,
          2.132999897003174
         ],
         "z": [
          -3.0480000972747803,
          -7.505000114440918
         ],
         "type": "scatter3d"
        },
        {
         "hoverinfo": "none",
         "line": {
          "color": "lightcoral",
          "dash": "dash",
          "width": 0.5
         },
         "mode": "lines",
         "x": [
          8.342000007629395,
          10.565999984741211
         ],
         "y": [
          2.2049999237060547,
          2.5840001106262207
         ],
         "z": [
          -3.0480000972747803,
          -6.0879998207092285
         ],
         "type": "scatter3d"
        },
        {
         "hoverinfo": "none",
         "line": {
          "color": "lightcoral",
          "dash": "dash",
          "width": 0.5
         },
         "mode": "lines",
         "x": [
          8.342000007629395,
          3.930000066757202
         ],
         "y": [
          2.2049999237060547,
          2.5299999713897705
         ],
         "z": [
          -3.0480000972747803,
          -3.4240000247955322
         ],
         "type": "scatter3d"
        },
        {
         "hoverinfo": "none",
         "line": {
          "color": "lightcoral",
          "dash": "dash",
          "width": 0.5
         },
         "mode": "lines",
         "x": [
          8.342000007629395,
          3.944000005722046
         ],
         "y": [
          2.2049999237060547,
          0.03500000014901161
         ],
         "z": [
          -3.0480000972747803,
          -3.2939999103546143
         ],
         "type": "scatter3d"
        },
        {
         "hoverinfo": "none",
         "line": {
          "color": "lightcoral",
          "dash": "dash",
          "width": 0.5
         },
         "mode": "lines",
         "x": [
          8.342000007629395,
          4.25600004196167
         ],
         "y": [
          2.2049999237060547,
          3.7790000438690186
         ],
         "z": [
          -3.0480000972747803,
          -3.0840001106262207
         ],
         "type": "scatter3d"
        },
        {
         "hoverinfo": "none",
         "line": {
          "color": "lightcoral",
          "dash": "dash",
          "width": 0.5
         },
         "mode": "lines",
         "x": [
          8.342000007629395,
          4.645999908447266
         ],
         "y": [
          2.2049999237060547,
          1.3580000400543213
         ],
         "z": [
          -3.0480000972747803,
          -2.9240000247955322
         ],
         "type": "scatter3d"
        },
        {
         "hoverinfo": "none",
         "line": {
          "color": "lightcoral",
          "dash": "dash",
          "width": 0.5
         },
         "mode": "lines",
         "x": [
          8.342000007629395,
          5.005000114440918
         ],
         "y": [
          2.2049999237060547,
          4.025000095367432
         ],
         "z": [
          -3.0480000972747803,
          -2.1389999389648438
         ],
         "type": "scatter3d"
        },
        {
         "hoverinfo": "none",
         "line": {
          "color": "lightcoral",
          "dash": "dash",
          "width": 0.5
         },
         "mode": "lines",
         "x": [
          8.342000007629395,
          6.0370001792907715
         ],
         "y": [
          2.2049999237060547,
          1.4780000448226929
         ],
         "z": [
          -3.0480000972747803,
          -3.5360000133514404
         ],
         "type": "scatter3d"
        },
        {
         "hoverinfo": "none",
         "line": {
          "color": "lightcoral",
          "dash": "dash",
          "width": 0.5
         },
         "mode": "lines",
         "x": [
          10.565999984741211,
          6.1519999504089355
         ],
         "y": [
          2.5840001106262207,
          1.597000002861023
         ],
         "z": [
          -6.0879998207092285,
          -4.75
         ],
         "type": "scatter3d"
        },
        {
         "hoverinfo": "none",
         "line": {
          "color": "lightcoral",
          "dash": "dash",
          "width": 0.5
         },
         "mode": "lines",
         "x": [
          10.565999984741211,
          8.95300006866455
         ],
         "y": [
          2.5840001106262207,
          1.746000051498413
         ],
         "z": [
          -6.0879998207092285,
          -4.380000114440918
         ],
         "type": "scatter3d"
        },
        {
         "hoverinfo": "none",
         "line": {
          "color": "lightcoral",
          "dash": "dash",
          "width": 0.5
         },
         "mode": "lines",
         "x": [
          10.565999984741211,
          9.032999992370605
         ],
         "y": [
          2.5840001106262207,
          0.5550000071525574
         ],
         "z": [
          -6.0879998207092285,
          -4.6529998779296875
         ],
         "type": "scatter3d"
        },
        {
         "hoverinfo": "none",
         "line": {
          "color": "lightcoral",
          "dash": "dash",
          "width": 0.5
         },
         "mode": "lines",
         "x": [
          10.565999984741211,
          9.640000343322754
         ],
         "y": [
          2.5840001106262207,
          1.899999976158142
         ],
         "z": [
          -6.0879998207092285,
          -10.557000160217285
         ],
         "type": "scatter3d"
        },
        {
         "hoverinfo": "none",
         "line": {
          "color": "lightcoral",
          "dash": "dash",
          "width": 0.5
         },
         "mode": "lines",
         "x": [
          10.565999984741211,
          10.17300033569336
         ],
         "y": [
          2.5840001106262207,
          3.0910000801086426
         ],
         "z": [
          -6.0879998207092285,
          -8.437000274658203
         ],
         "type": "scatter3d"
        },
        {
         "hoverinfo": "none",
         "line": {
          "color": "lightcoral",
          "dash": "dash",
          "width": 0.5
         },
         "mode": "lines",
         "x": [
          10.565999984741211,
          10.538000106811523
         ],
         "y": [
          2.5840001106262207,
          2.940000057220459
         ],
         "z": [
          -6.0879998207092285,
          -9.854000091552734
         ],
         "type": "scatter3d"
        },
        {
         "hoverinfo": "none",
         "line": {
          "color": "lightcoral",
          "dash": "dash",
          "width": 0.5
         },
         "mode": "lines",
         "x": [
          10.565999984741211,
          7.052000045776367
         ],
         "y": [
          2.5840001106262207,
          1.61899995803833
         ],
         "z": [
          -6.0879998207092285,
          -2.686000108718872
         ],
         "type": "scatter3d"
        },
        {
         "hoverinfo": "none",
         "line": {
          "color": "lightcoral",
          "dash": "dash",
          "width": 0.5
         },
         "mode": "lines",
         "x": [
          10.565999984741211,
          8.342000007629395
         ],
         "y": [
          2.5840001106262207,
          2.2049999237060547
         ],
         "z": [
          -6.0879998207092285,
          -3.0480000972747803
         ],
         "type": "scatter3d"
        },
        {
         "hoverinfo": "none",
         "line": {
          "color": "lightcoral",
          "dash": "dash",
          "width": 0.5
         },
         "mode": "lines",
         "x": [
          10.565999984741211,
          10.357999801635742
         ],
         "y": [
          2.5840001106262207,
          4.315000057220459
         ],
         "z": [
          -6.0879998207092285,
          -10.538000106811523
         ],
         "type": "scatter3d"
        },
        {
         "hoverinfo": "none",
         "line": {
          "color": "lightcoral",
          "dash": "dash",
          "width": 0.5
         },
         "mode": "lines",
         "x": [
          10.565999984741211,
          12.940999984741211
         ],
         "y": [
          2.5840001106262207,
          5.677000045776367
         ],
         "z": [
          -6.0879998207092285,
          -8.744000434875488
         ],
         "type": "scatter3d"
        },
        {
         "hoverinfo": "none",
         "line": {
          "color": "lightcoral",
          "dash": "dash",
          "width": 0.5
         },
         "mode": "lines",
         "x": [
          10.538000106811523,
          9.463000297546387
         ],
         "y": [
          2.940000057220459,
          2.7300000190734863
         ],
         "z": [
          -9.854000091552734,
          -5.13100004196167
         ],
         "type": "scatter3d"
        },
        {
         "hoverinfo": "none",
         "line": {
          "color": "lightcoral",
          "dash": "dash",
          "width": 0.5
         },
         "mode": "lines",
         "x": [
          10.538000106811523,
          10.041999816894531
         ],
         "y": [
          2.940000057220459,
          0.9430000185966492
         ],
         "z": [
          -9.854000091552734,
          -7.749000072479248
         ],
         "type": "scatter3d"
        },
        {
         "hoverinfo": "none",
         "line": {
          "color": "lightcoral",
          "dash": "dash",
          "width": 0.5
         },
         "mode": "lines",
         "x": [
          10.538000106811523,
          10.20300006866455
         ],
         "y": [
          2.940000057220459,
          2.132999897003174
         ],
         "z": [
          -9.854000091552734,
          -7.505000114440918
         ],
         "type": "scatter3d"
        },
        {
         "hoverinfo": "none",
         "line": {
          "color": "lightcoral",
          "dash": "dash",
          "width": 0.5
         },
         "mode": "lines",
         "x": [
          10.538000106811523,
          10.565999984741211
         ],
         "y": [
          2.940000057220459,
          2.5840001106262207
         ],
         "z": [
          -9.854000091552734,
          -6.0879998207092285
         ],
         "type": "scatter3d"
        },
        {
         "hoverinfo": "none",
         "line": {
          "color": "lightcoral",
          "dash": "dash",
          "width": 0.5
         },
         "mode": "lines",
         "x": [
          10.538000106811523,
          11.185999870300293
         ],
         "y": [
          2.940000057220459,
          6.309000015258789
         ],
         "z": [
          -9.854000091552734,
          -11.66100025177002
         ],
         "type": "scatter3d"
        },
        {
         "hoverinfo": "none",
         "line": {
          "color": "lightcoral",
          "dash": "dash",
          "width": 0.5
         },
         "mode": "lines",
         "x": [
          10.538000106811523,
          11.402999877929688
         ],
         "y": [
          2.940000057220459,
          5.048999786376953
         ],
         "z": [
          -9.854000091552734,
          -10.979000091552734
         ],
         "type": "scatter3d"
        },
        {
         "hoverinfo": "none",
         "line": {
          "color": "lightcoral",
          "dash": "dash",
          "width": 0.5
         },
         "mode": "lines",
         "x": [
          10.538000106811523,
          12.251999855041504
         ],
         "y": [
          2.940000057220459,
          6.353000164031982
         ],
         "z": [
          -9.854000091552734,
          -12.73900032043457
         ],
         "type": "scatter3d"
        },
        {
         "hoverinfo": "none",
         "line": {
          "color": "lightcoral",
          "dash": "dash",
          "width": 0.5
         },
         "mode": "lines",
         "x": [
          10.538000106811523,
          12.852999687194824
         ],
         "y": [
          2.940000057220459,
          4.783999919891357
         ],
         "z": [
          -9.854000091552734,
          -10.972000122070312
         ],
         "type": "scatter3d"
        },
        {
         "hoverinfo": "none",
         "line": {
          "color": "lightcoral",
          "dash": "dash",
          "width": 0.5
         },
         "mode": "lines",
         "x": [
          10.538000106811523,
          12.940999984741211
         ],
         "y": [
          2.940000057220459,
          5.677000045776367
         ],
         "z": [
          -9.854000091552734,
          -8.744000434875488
         ],
         "type": "scatter3d"
        },
        {
         "hoverinfo": "none",
         "line": {
          "color": "lightcoral",
          "dash": "dash",
          "width": 0.5
         },
         "mode": "lines",
         "x": [
          10.538000106811523,
          13.451000213623047
         ],
         "y": [
          2.940000057220459,
          5.710000038146973
         ],
         "z": [
          -9.854000091552734,
          -12.048999786376953
         ],
         "type": "scatter3d"
        },
        {
         "hoverinfo": "none",
         "line": {
          "color": "lightcoral",
          "dash": "dash",
          "width": 0.5
         },
         "mode": "lines",
         "x": [
          10.538000106811523,
          13.557999610900879
         ],
         "y": [
          2.940000057220459,
          5.047999858856201
         ],
         "z": [
          -9.854000091552734,
          -9.633000373840332
         ],
         "type": "scatter3d"
        },
        {
         "hoverinfo": "none",
         "line": {
          "color": "lightcoral",
          "dash": "dash",
          "width": 0.5
         },
         "mode": "lines",
         "x": [
          10.538000106811523,
          14.72599983215332
         ],
         "y": [
          2.940000057220459,
          4.617000102996826
         ],
         "z": [
          -9.854000091552734,
          -9.553000450134277
         ],
         "type": "scatter3d"
        },
        {
         "hoverinfo": "none",
         "line": {
          "color": "lightcoral",
          "dash": "dash",
          "width": 0.5
         },
         "mode": "lines",
         "x": [
          12.852999687194824,
          9.640000343322754
         ],
         "y": [
          4.783999919891357,
          1.899999976158142
         ],
         "z": [
          -10.972000122070312,
          -10.557000160217285
         ],
         "type": "scatter3d"
        },
        {
         "hoverinfo": "none",
         "line": {
          "color": "lightcoral",
          "dash": "dash",
          "width": 0.5
         },
         "mode": "lines",
         "x": [
          12.852999687194824,
          10.17300033569336
         ],
         "y": [
          4.783999919891357,
          3.0910000801086426
         ],
         "z": [
          -10.972000122070312,
          -8.437000274658203
         ],
         "type": "scatter3d"
        },
        {
         "hoverinfo": "none",
         "line": {
          "color": "lightcoral",
          "dash": "dash",
          "width": 0.5
         },
         "mode": "lines",
         "x": [
          12.852999687194824,
          10.538000106811523
         ],
         "y": [
          4.783999919891357,
          2.940000057220459
         ],
         "z": [
          -10.972000122070312,
          -9.854000091552734
         ],
         "type": "scatter3d"
        },
        {
         "hoverinfo": "none",
         "line": {
          "color": "lightcoral",
          "dash": "dash",
          "width": 0.5
         },
         "mode": "lines",
         "x": [
          12.852999687194824,
          9.20199966430664
         ],
         "y": [
          4.783999919891357,
          4.729000091552734
         ],
         "z": [
          -10.972000122070312,
          -10.6850004196167
         ],
         "type": "scatter3d"
        },
        {
         "hoverinfo": "none",
         "line": {
          "color": "lightcoral",
          "dash": "dash",
          "width": 0.5
         },
         "mode": "lines",
         "x": [
          12.852999687194824,
          10.357999801635742
         ],
         "y": [
          4.783999919891357,
          4.315000057220459
         ],
         "z": [
          -10.972000122070312,
          -10.538000106811523
         ],
         "type": "scatter3d"
        }
       ],
       "layout": {
        "height": 900,
        "legend": {
         "title": {
          "text": "Amino Acids & Connections"
         }
        },
        "scene": {
         "xaxis": {
          "title": {
           "text": "X"
          }
         },
         "yaxis": {
          "title": {
           "text": "Y"
          }
         },
         "zaxis": {
          "title": {
           "text": "Z"
          }
         }
        },
        "title": {
         "text": "3D Protein Structure with Backbone and Interactions"
        },
        "width": 1200,
        "template": {
         "data": {
          "histogram2dcontour": [
           {
            "type": "histogram2dcontour",
            "colorbar": {
             "outlinewidth": 0,
             "ticks": ""
            },
            "colorscale": [
             [
              0.0,
              "#0d0887"
             ],
             [
              0.1111111111111111,
              "#46039f"
             ],
             [
              0.2222222222222222,
              "#7201a8"
             ],
             [
              0.3333333333333333,
              "#9c179e"
             ],
             [
              0.4444444444444444,
              "#bd3786"
             ],
             [
              0.5555555555555556,
              "#d8576b"
             ],
             [
              0.6666666666666666,
              "#ed7953"
             ],
             [
              0.7777777777777778,
              "#fb9f3a"
             ],
             [
              0.8888888888888888,
              "#fdca26"
             ],
             [
              1.0,
              "#f0f921"
             ]
            ]
           }
          ],
          "choropleth": [
           {
            "type": "choropleth",
            "colorbar": {
             "outlinewidth": 0,
             "ticks": ""
            }
           }
          ],
          "histogram2d": [
           {
            "type": "histogram2d",
            "colorbar": {
             "outlinewidth": 0,
             "ticks": ""
            },
            "colorscale": [
             [
              0.0,
              "#0d0887"
             ],
             [
              0.1111111111111111,
              "#46039f"
             ],
             [
              0.2222222222222222,
              "#7201a8"
             ],
             [
              0.3333333333333333,
              "#9c179e"
             ],
             [
              0.4444444444444444,
              "#bd3786"
             ],
             [
              0.5555555555555556,
              "#d8576b"
             ],
             [
              0.6666666666666666,
              "#ed7953"
             ],
             [
              0.7777777777777778,
              "#fb9f3a"
             ],
             [
              0.8888888888888888,
              "#fdca26"
             ],
             [
              1.0,
              "#f0f921"
             ]
            ]
           }
          ],
          "heatmap": [
           {
            "type": "heatmap",
            "colorbar": {
             "outlinewidth": 0,
             "ticks": ""
            },
            "colorscale": [
             [
              0.0,
              "#0d0887"
             ],
             [
              0.1111111111111111,
              "#46039f"
             ],
             [
              0.2222222222222222,
              "#7201a8"
             ],
             [
              0.3333333333333333,
              "#9c179e"
             ],
             [
              0.4444444444444444,
              "#bd3786"
             ],
             [
              0.5555555555555556,
              "#d8576b"
             ],
             [
              0.6666666666666666,
              "#ed7953"
             ],
             [
              0.7777777777777778,
              "#fb9f3a"
             ],
             [
              0.8888888888888888,
              "#fdca26"
             ],
             [
              1.0,
              "#f0f921"
             ]
            ]
           }
          ],
          "heatmapgl": [
           {
            "type": "heatmapgl",
            "colorbar": {
             "outlinewidth": 0,
             "ticks": ""
            },
            "colorscale": [
             [
              0.0,
              "#0d0887"
             ],
             [
              0.1111111111111111,
              "#46039f"
             ],
             [
              0.2222222222222222,
              "#7201a8"
             ],
             [
              0.3333333333333333,
              "#9c179e"
             ],
             [
              0.4444444444444444,
              "#bd3786"
             ],
             [
              0.5555555555555556,
              "#d8576b"
             ],
             [
              0.6666666666666666,
              "#ed7953"
             ],
             [
              0.7777777777777778,
              "#fb9f3a"
             ],
             [
              0.8888888888888888,
              "#fdca26"
             ],
             [
              1.0,
              "#f0f921"
             ]
            ]
           }
          ],
          "contourcarpet": [
           {
            "type": "contourcarpet",
            "colorbar": {
             "outlinewidth": 0,
             "ticks": ""
            }
           }
          ],
          "contour": [
           {
            "type": "contour",
            "colorbar": {
             "outlinewidth": 0,
             "ticks": ""
            },
            "colorscale": [
             [
              0.0,
              "#0d0887"
             ],
             [
              0.1111111111111111,
              "#46039f"
             ],
             [
              0.2222222222222222,
              "#7201a8"
             ],
             [
              0.3333333333333333,
              "#9c179e"
             ],
             [
              0.4444444444444444,
              "#bd3786"
             ],
             [
              0.5555555555555556,
              "#d8576b"
             ],
             [
              0.6666666666666666,
              "#ed7953"
             ],
             [
              0.7777777777777778,
              "#fb9f3a"
             ],
             [
              0.8888888888888888,
              "#fdca26"
             ],
             [
              1.0,
              "#f0f921"
             ]
            ]
           }
          ],
          "surface": [
           {
            "type": "surface",
            "colorbar": {
             "outlinewidth": 0,
             "ticks": ""
            },
            "colorscale": [
             [
              0.0,
              "#0d0887"
             ],
             [
              0.1111111111111111,
              "#46039f"
             ],
             [
              0.2222222222222222,
              "#7201a8"
             ],
             [
              0.3333333333333333,
              "#9c179e"
             ],
             [
              0.4444444444444444,
              "#bd3786"
             ],
             [
              0.5555555555555556,
              "#d8576b"
             ],
             [
              0.6666666666666666,
              "#ed7953"
             ],
             [
              0.7777777777777778,
              "#fb9f3a"
             ],
             [
              0.8888888888888888,
              "#fdca26"
             ],
             [
              1.0,
              "#f0f921"
             ]
            ]
           }
          ],
          "mesh3d": [
           {
            "type": "mesh3d",
            "colorbar": {
             "outlinewidth": 0,
             "ticks": ""
            }
           }
          ],
          "scatter": [
           {
            "fillpattern": {
             "fillmode": "overlay",
             "size": 10,
             "solidity": 0.2
            },
            "type": "scatter"
           }
          ],
          "parcoords": [
           {
            "type": "parcoords",
            "line": {
             "colorbar": {
              "outlinewidth": 0,
              "ticks": ""
             }
            }
           }
          ],
          "scatterpolargl": [
           {
            "type": "scatterpolargl",
            "marker": {
             "colorbar": {
              "outlinewidth": 0,
              "ticks": ""
             }
            }
           }
          ],
          "bar": [
           {
            "error_x": {
             "color": "#2a3f5f"
            },
            "error_y": {
             "color": "#2a3f5f"
            },
            "marker": {
             "line": {
              "color": "#E5ECF6",
              "width": 0.5
             },
             "pattern": {
              "fillmode": "overlay",
              "size": 10,
              "solidity": 0.2
             }
            },
            "type": "bar"
           }
          ],
          "scattergeo": [
           {
            "type": "scattergeo",
            "marker": {
             "colorbar": {
              "outlinewidth": 0,
              "ticks": ""
             }
            }
           }
          ],
          "scatterpolar": [
           {
            "type": "scatterpolar",
            "marker": {
             "colorbar": {
              "outlinewidth": 0,
              "ticks": ""
             }
            }
           }
          ],
          "histogram": [
           {
            "marker": {
             "pattern": {
              "fillmode": "overlay",
              "size": 10,
              "solidity": 0.2
             }
            },
            "type": "histogram"
           }
          ],
          "scattergl": [
           {
            "type": "scattergl",
            "marker": {
             "colorbar": {
              "outlinewidth": 0,
              "ticks": ""
             }
            }
           }
          ],
          "scatter3d": [
           {
            "type": "scatter3d",
            "line": {
             "colorbar": {
              "outlinewidth": 0,
              "ticks": ""
             }
            },
            "marker": {
             "colorbar": {
              "outlinewidth": 0,
              "ticks": ""
             }
            }
           }
          ],
          "scattermapbox": [
           {
            "type": "scattermapbox",
            "marker": {
             "colorbar": {
              "outlinewidth": 0,
              "ticks": ""
             }
            }
           }
          ],
          "scatterternary": [
           {
            "type": "scatterternary",
            "marker": {
             "colorbar": {
              "outlinewidth": 0,
              "ticks": ""
             }
            }
           }
          ],
          "scattercarpet": [
           {
            "type": "scattercarpet",
            "marker": {
             "colorbar": {
              "outlinewidth": 0,
              "ticks": ""
             }
            }
           }
          ],
          "carpet": [
           {
            "aaxis": {
             "endlinecolor": "#2a3f5f",
             "gridcolor": "white",
             "linecolor": "white",
             "minorgridcolor": "white",
             "startlinecolor": "#2a3f5f"
            },
            "baxis": {
             "endlinecolor": "#2a3f5f",
             "gridcolor": "white",
             "linecolor": "white",
             "minorgridcolor": "white",
             "startlinecolor": "#2a3f5f"
            },
            "type": "carpet"
           }
          ],
          "table": [
           {
            "cells": {
             "fill": {
              "color": "#EBF0F8"
             },
             "line": {
              "color": "white"
             }
            },
            "header": {
             "fill": {
              "color": "#C8D4E3"
             },
             "line": {
              "color": "white"
             }
            },
            "type": "table"
           }
          ],
          "barpolar": [
           {
            "marker": {
             "line": {
              "color": "#E5ECF6",
              "width": 0.5
             },
             "pattern": {
              "fillmode": "overlay",
              "size": 10,
              "solidity": 0.2
             }
            },
            "type": "barpolar"
           }
          ],
          "pie": [
           {
            "automargin": true,
            "type": "pie"
           }
          ]
         },
         "layout": {
          "autotypenumbers": "strict",
          "colorway": [
           "#636efa",
           "#EF553B",
           "#00cc96",
           "#ab63fa",
           "#FFA15A",
           "#19d3f3",
           "#FF6692",
           "#B6E880",
           "#FF97FF",
           "#FECB52"
          ],
          "font": {
           "color": "#2a3f5f"
          },
          "hovermode": "closest",
          "hoverlabel": {
           "align": "left"
          },
          "paper_bgcolor": "white",
          "plot_bgcolor": "#E5ECF6",
          "polar": {
           "bgcolor": "#E5ECF6",
           "angularaxis": {
            "gridcolor": "white",
            "linecolor": "white",
            "ticks": ""
           },
           "radialaxis": {
            "gridcolor": "white",
            "linecolor": "white",
            "ticks": ""
           }
          },
          "ternary": {
           "bgcolor": "#E5ECF6",
           "aaxis": {
            "gridcolor": "white",
            "linecolor": "white",
            "ticks": ""
           },
           "baxis": {
            "gridcolor": "white",
            "linecolor": "white",
            "ticks": ""
           },
           "caxis": {
            "gridcolor": "white",
            "linecolor": "white",
            "ticks": ""
           }
          },
          "coloraxis": {
           "colorbar": {
            "outlinewidth": 0,
            "ticks": ""
           }
          },
          "colorscale": {
           "sequential": [
            [
             0.0,
             "#0d0887"
            ],
            [
             0.1111111111111111,
             "#46039f"
            ],
            [
             0.2222222222222222,
             "#7201a8"
            ],
            [
             0.3333333333333333,
             "#9c179e"
            ],
            [
             0.4444444444444444,
             "#bd3786"
            ],
            [
             0.5555555555555556,
             "#d8576b"
            ],
            [
             0.6666666666666666,
             "#ed7953"
            ],
            [
             0.7777777777777778,
             "#fb9f3a"
            ],
            [
             0.8888888888888888,
             "#fdca26"
            ],
            [
             1.0,
             "#f0f921"
            ]
           ],
           "sequentialminus": [
            [
             0.0,
             "#0d0887"
            ],
            [
             0.1111111111111111,
             "#46039f"
            ],
            [
             0.2222222222222222,
             "#7201a8"
            ],
            [
             0.3333333333333333,
             "#9c179e"
            ],
            [
             0.4444444444444444,
             "#bd3786"
            ],
            [
             0.5555555555555556,
             "#d8576b"
            ],
            [
             0.6666666666666666,
             "#ed7953"
            ],
            [
             0.7777777777777778,
             "#fb9f3a"
            ],
            [
             0.8888888888888888,
             "#fdca26"
            ],
            [
             1.0,
             "#f0f921"
            ]
           ],
           "diverging": [
            [
             0,
             "#8e0152"
            ],
            [
             0.1,
             "#c51b7d"
            ],
            [
             0.2,
             "#de77ae"
            ],
            [
             0.3,
             "#f1b6da"
            ],
            [
             0.4,
             "#fde0ef"
            ],
            [
             0.5,
             "#f7f7f7"
            ],
            [
             0.6,
             "#e6f5d0"
            ],
            [
             0.7,
             "#b8e186"
            ],
            [
             0.8,
             "#7fbc41"
            ],
            [
             0.9,
             "#4d9221"
            ],
            [
             1,
             "#276419"
            ]
           ]
          },
          "xaxis": {
           "gridcolor": "white",
           "linecolor": "white",
           "ticks": "",
           "title": {
            "standoff": 15
           },
           "zerolinecolor": "white",
           "automargin": true,
           "zerolinewidth": 2
          },
          "yaxis": {
           "gridcolor": "white",
           "linecolor": "white",
           "ticks": "",
           "title": {
            "standoff": 15
           },
           "zerolinecolor": "white",
           "automargin": true,
           "zerolinewidth": 2
          },
          "scene": {
           "xaxis": {
            "backgroundcolor": "#E5ECF6",
            "gridcolor": "white",
            "linecolor": "white",
            "showbackground": true,
            "ticks": "",
            "zerolinecolor": "white",
            "gridwidth": 2
           },
           "yaxis": {
            "backgroundcolor": "#E5ECF6",
            "gridcolor": "white",
            "linecolor": "white",
            "showbackground": true,
            "ticks": "",
            "zerolinecolor": "white",
            "gridwidth": 2
           },
           "zaxis": {
            "backgroundcolor": "#E5ECF6",
            "gridcolor": "white",
            "linecolor": "white",
            "showbackground": true,
            "ticks": "",
            "zerolinecolor": "white",
            "gridwidth": 2
           }
          },
          "shapedefaults": {
           "line": {
            "color": "#2a3f5f"
           }
          },
          "annotationdefaults": {
           "arrowcolor": "#2a3f5f",
           "arrowhead": 0,
           "arrowwidth": 1
          },
          "geo": {
           "bgcolor": "white",
           "landcolor": "#E5ECF6",
           "subunitcolor": "white",
           "showland": true,
           "showlakes": true,
           "lakecolor": "white"
          },
          "title": {
           "x": 0.05
          },
          "mapbox": {
           "style": "light"
          }
         }
        }
       },
       "config": {
        "plotlyServerURL": "https://plot.ly"
       }
      },
      "text/html": [
       "<div>                            <div id=\"a9e08e87-9b3a-44ef-9cee-36b109f9c8cf\" class=\"plotly-graph-div\" style=\"height:900px; width:1200px;\"></div>            <script type=\"text/javascript\">                require([\"plotly\"], function(Plotly) {                    window.PLOTLYENV=window.PLOTLYENV || {};                                    if (document.getElementById(\"a9e08e87-9b3a-44ef-9cee-36b109f9c8cf\")) {                    Plotly.newPlot(                        \"a9e08e87-9b3a-44ef-9cee-36b109f9c8cf\",                        [{\"hoverinfo\":\"text\",\"marker\":{\"color\":[\"green\",\"coral\",\"lime\",\"green\",\"brown\",\"brown\",\"navy\",\"navy\",\"coral\",\"green\",\"navy\",\"brown\",\"coral\",\"coral\",\"lime\",\"green\",\"green\",\"blue\",\"coral\"],\"opacity\":0.8,\"size\":[20.0,162.81441874972148,170.00026734393796,20.0,220.0,220.0,127.03132379806621,127.03132379806621,162.81441874972148,20.0,127.03132379806621,220.0,162.81441874972148,162.81441874972148,170.00026734393796,20.0,20.0,70.00008911464602,162.81441874972148]},\"mode\":\"markers\",\"text\":[\"Gly\",\"Pro\",\"Val\",\"Gly\",\"Leu\",\"Leu\",\"Ser\",\"Ser\",\"Pro\",\"Gly\",\"Ser\",\"Leu\",\"Pro\",\"Pro\",\"Val\",\"Gly\",\"Gly\",\"Ala\",\"Pro\"],\"x\":[-12.418999671936035,-10.350000381469727,-12.642000198364258,-11.276000022888184,-8.779000282287598,-11.190999984741211,-8.647000312805176,-10.362000465393066,-9.95300006866455,-6.63700008392334,-5.2270002365112305,-2.555000066757202,0.453000009059906,3.5920000076293945,4.645999908447266,8.342000007629395,10.565999984741211,10.538000106811523,12.852999687194824],\"y\":[-1.4179999828338623,0.7210000157356262,0.20600000023841858,3.3919999599456787,3.1549999713897705,3.0190000534057617,3.813999891281128,5.77400016784668,3.9779999256134033,5.593999862670898,6.664000034332275,3.9719998836517334,5.383999824523926,4.9039998054504395,1.3580000400543213,2.2049999237060547,2.5840001106262207,2.940000057220459,4.783999919891357],\"z\":[15.520999908447266,13.090999603271484,10.062000274658203,8.47700023651123,5.539000034332275,2.578000068664551,-0.164000004529953,-2.943000078201294,-6.323999881744385,-7.453999996185303,-4.000999927520752,-3.621000051498413,-1.7079999446868896,-3.884999990463257,-2.9240000247955322,-3.0480000972747803,-6.0879998207092285,-9.854000091552734,-10.972000122070312],\"type\":\"scatter3d\"},{\"hoverinfo\":\"none\",\"line\":{\"color\":\"darkgrey\",\"width\":2},\"mode\":\"lines\",\"x\":[-12.418999671936035,-10.350000381469727],\"y\":[-1.4179999828338623,0.7210000157356262],\"z\":[15.520999908447266,13.090999603271484],\"type\":\"scatter3d\"},{\"hoverinfo\":\"none\",\"line\":{\"color\":\"darkgrey\",\"width\":2},\"mode\":\"lines\",\"x\":[-10.350000381469727,-12.642000198364258],\"y\":[0.7210000157356262,0.20600000023841858],\"z\":[13.090999603271484,10.062000274658203],\"type\":\"scatter3d\"},{\"hoverinfo\":\"none\",\"line\":{\"color\":\"darkgrey\",\"width\":2},\"mode\":\"lines\",\"x\":[-12.642000198364258,-11.276000022888184],\"y\":[0.20600000023841858,3.3919999599456787],\"z\":[10.062000274658203,8.47700023651123],\"type\":\"scatter3d\"},{\"hoverinfo\":\"none\",\"line\":{\"color\":\"darkgrey\",\"width\":2},\"mode\":\"lines\",\"x\":[-11.276000022888184,-8.779000282287598],\"y\":[3.3919999599456787,3.1549999713897705],\"z\":[8.47700023651123,5.539000034332275],\"type\":\"scatter3d\"},{\"hoverinfo\":\"none\",\"line\":{\"color\":\"darkgrey\",\"width\":2},\"mode\":\"lines\",\"x\":[-8.779000282287598,-11.190999984741211],\"y\":[3.1549999713897705,3.0190000534057617],\"z\":[5.539000034332275,2.578000068664551],\"type\":\"scatter3d\"},{\"hoverinfo\":\"none\",\"line\":{\"color\":\"darkgrey\",\"width\":2},\"mode\":\"lines\",\"x\":[-11.190999984741211,-8.647000312805176],\"y\":[3.0190000534057617,3.813999891281128],\"z\":[2.578000068664551,-0.164000004529953],\"type\":\"scatter3d\"},{\"hoverinfo\":\"none\",\"line\":{\"color\":\"darkgrey\",\"width\":2},\"mode\":\"lines\",\"x\":[-8.647000312805176,-10.362000465393066],\"y\":[3.813999891281128,5.77400016784668],\"z\":[-0.164000004529953,-2.943000078201294],\"type\":\"scatter3d\"},{\"hoverinfo\":\"none\",\"line\":{\"color\":\"darkgrey\",\"width\":2},\"mode\":\"lines\",\"x\":[-10.362000465393066,-9.95300006866455],\"y\":[5.77400016784668,3.9779999256134033],\"z\":[-2.943000078201294,-6.323999881744385],\"type\":\"scatter3d\"},{\"hoverinfo\":\"none\",\"line\":{\"color\":\"darkgrey\",\"width\":2},\"mode\":\"lines\",\"x\":[-9.95300006866455,-6.63700008392334],\"y\":[3.9779999256134033,5.593999862670898],\"z\":[-6.323999881744385,-7.453999996185303],\"type\":\"scatter3d\"},{\"hoverinfo\":\"none\",\"line\":{\"color\":\"darkgrey\",\"width\":2},\"mode\":\"lines\",\"x\":[-6.63700008392334,-5.2270002365112305],\"y\":[5.593999862670898,6.664000034332275],\"z\":[-7.453999996185303,-4.000999927520752],\"type\":\"scatter3d\"},{\"hoverinfo\":\"none\",\"line\":{\"color\":\"darkgrey\",\"width\":2},\"mode\":\"lines\",\"x\":[-5.2270002365112305,-2.555000066757202],\"y\":[6.664000034332275,3.9719998836517334],\"z\":[-4.000999927520752,-3.621000051498413],\"type\":\"scatter3d\"},{\"hoverinfo\":\"none\",\"line\":{\"color\":\"darkgrey\",\"width\":2},\"mode\":\"lines\",\"x\":[-2.555000066757202,0.453000009059906],\"y\":[3.9719998836517334,5.383999824523926],\"z\":[-3.621000051498413,-1.7079999446868896],\"type\":\"scatter3d\"},{\"hoverinfo\":\"none\",\"line\":{\"color\":\"darkgrey\",\"width\":2},\"mode\":\"lines\",\"x\":[0.453000009059906,3.5920000076293945],\"y\":[5.383999824523926,4.9039998054504395],\"z\":[-1.7079999446868896,-3.884999990463257],\"type\":\"scatter3d\"},{\"hoverinfo\":\"none\",\"line\":{\"color\":\"darkgrey\",\"width\":2},\"mode\":\"lines\",\"x\":[3.5920000076293945,4.645999908447266],\"y\":[4.9039998054504395,1.3580000400543213],\"z\":[-3.884999990463257,-2.9240000247955322],\"type\":\"scatter3d\"},{\"hoverinfo\":\"none\",\"line\":{\"color\":\"darkgrey\",\"width\":2},\"mode\":\"lines\",\"x\":[4.645999908447266,8.342000007629395],\"y\":[1.3580000400543213,2.2049999237060547],\"z\":[-2.9240000247955322,-3.0480000972747803],\"type\":\"scatter3d\"},{\"hoverinfo\":\"none\",\"line\":{\"color\":\"darkgrey\",\"width\":2},\"mode\":\"lines\",\"x\":[8.342000007629395,10.565999984741211],\"y\":[2.2049999237060547,2.5840001106262207],\"z\":[-3.0480000972747803,-6.0879998207092285],\"type\":\"scatter3d\"},{\"hoverinfo\":\"none\",\"line\":{\"color\":\"darkgrey\",\"width\":2},\"mode\":\"lines\",\"x\":[10.565999984741211,10.538000106811523],\"y\":[2.5840001106262207,2.940000057220459],\"z\":[-6.0879998207092285,-9.854000091552734],\"type\":\"scatter3d\"},{\"hoverinfo\":\"none\",\"line\":{\"color\":\"darkgrey\",\"width\":2},\"mode\":\"lines\",\"x\":[10.538000106811523,12.852999687194824],\"y\":[2.940000057220459,4.783999919891357],\"z\":[-9.854000091552734,-10.972000122070312],\"type\":\"scatter3d\"},{\"hoverinfo\":\"none\",\"line\":{\"color\":\"lightcoral\",\"dash\":\"dash\",\"width\":0.5},\"mode\":\"lines\",\"x\":[-12.418999671936035,-12.085000038146973],\"y\":[-1.4179999828338623,0.3370000123977661],\"z\":[15.520999908447266,11.41100025177002],\"type\":\"scatter3d\"},{\"hoverinfo\":\"none\",\"line\":{\"color\":\"lightcoral\",\"dash\":\"dash\",\"width\":0.5},\"mode\":\"lines\",\"x\":[-12.418999671936035,-10.784000396728516],\"y\":[-1.4179999828338623,0.26600000262260437],\"z\":[15.520999908447266,11.687999725341797],\"type\":\"scatter3d\"},{\"hoverinfo\":\"none\",\"line\":{\"color\":\"lightcoral\",\"dash\":\"dash\",\"width\":0.5},\"mode\":\"lines\",\"x\":[-12.418999671936035,-10.744000434875488],\"y\":[-1.4179999828338623,-0.2800000011920929],\"z\":[15.520999908447266,14.076000213623047],\"type\":\"scatter3d\"},{\"hoverinfo\":\"none\",\"line\":{\"color\":\"lightcoral\",\"dash\":\"dash\",\"width\":0.5},\"mode\":\"lines\",\"x\":[-12.418999671936035,-10.350000381469727],\"y\":[-1.4179999828338623,0.7210000157356262],\"z\":[15.520999908447266,13.090999603271484],\"type\":\"scatter3d\"},{\"hoverinfo\":\"none\",\"line\":{\"color\":\"lightcoral\",\"dash\":\"dash\",\"width\":0.5},\"mode\":\"lines\",\"x\":[-12.418999671936035,-9.581000328063965],\"y\":[-1.4179999828338623,-1.059000015258789],\"z\":[15.520999908447266,14.493000030517578],\"type\":\"scatter3d\"},{\"hoverinfo\":\"none\",\"line\":{\"color\":\"lightcoral\",\"dash\":\"dash\",\"width\":0.5},\"mode\":\"lines\",\"x\":[-12.418999671936035,-8.840999603271484],\"y\":[-1.4179999828338623,0.8870000243186951],\"z\":[15.520999908447266,13.277000427246094],\"type\":\"scatter3d\"},{\"hoverinfo\":\"none\",\"line\":{\"color\":\"lightcoral\",\"dash\":\"dash\",\"width\":0.5},\"mode\":\"lines\",\"x\":[-12.418999671936035,-8.394000053405762],\"y\":[-1.4179999828338623,-0.5180000066757202],\"z\":[15.520999908447266,13.682000160217285],\"type\":\"scatter3d\"},{\"hoverinfo\":\"none\",\"line\":{\"color\":\"lightcoral\",\"dash\":\"dash\",\"width\":0.5},\"mode\":\"lines\",\"x\":[-10.350000381469727,-13.484000205993652],\"y\":[0.7210000157356262,2.4019999504089355],\"z\":[13.090999603271484,9.692999839782715],\"type\":\"scatter3d\"},{\"hoverinfo\":\"none\",\"line\":{\"color\":\"lightcoral\",\"dash\":\"dash\",\"width\":0.5},\"mode\":\"lines\",\"x\":[-10.350000381469727,-12.579000473022461],\"y\":[0.7210000157356262,1.6069999933242798],\"z\":[13.090999603271484,9.463000297546387],\"type\":\"scatter3d\"},{\"hoverinfo\":\"none\",\"line\":{\"color\":\"lightcoral\",\"dash\":\"dash\",\"width\":0.5},\"mode\":\"lines\",\"x\":[-10.350000381469727,-11.46500015258789],\"y\":[0.7210000157356262,1.9780000448226929],\"z\":[13.090999603271484,8.824000358581543],\"type\":\"scatter3d\"},{\"hoverinfo\":\"none\",\"line\":{\"color\":\"lightcoral\",\"dash\":\"dash\",\"width\":0.5},\"mode\":\"lines\",\"x\":[-10.350000381469727,-14.085000038146973],\"y\":[0.7210000157356262,-0.34700000286102295],\"z\":[13.090999603271484,10.104000091552734],\"type\":\"scatter3d\"},{\"hoverinfo\":\"none\",\"line\":{\"color\":\"lightcoral\",\"dash\":\"dash\",\"width\":0.5},\"mode\":\"lines\",\"x\":[-10.350000381469727,-13.668999671936035],\"y\":[0.7210000157356262,-0.9779999852180481],\"z\":[13.090999603271484,16.180999755859375],\"type\":\"scatter3d\"},{\"hoverinfo\":\"none\",\"line\":{\"color\":\"lightcoral\",\"dash\":\"dash\",\"width\":0.5},\"mode\":\"lines\",\"x\":[-10.350000381469727,-12.895999908447266],\"y\":[0.7210000157356262,0.38100001215934753],\"z\":[13.090999603271484,14.104000091552734],\"type\":\"scatter3d\"},{\"hoverinfo\":\"none\",\"line\":{\"color\":\"lightcoral\",\"dash\":\"dash\",\"width\":0.5},\"mode\":\"lines\",\"x\":[-10.350000381469727,-12.642000198364258],\"y\":[0.7210000157356262,0.20600000023841858],\"z\":[13.090999603271484,10.062000274658203],\"type\":\"scatter3d\"},{\"hoverinfo\":\"none\",\"line\":{\"color\":\"lightcoral\",\"dash\":\"dash\",\"width\":0.5},\"mode\":\"lines\",\"x\":[-10.350000381469727,-12.418999671936035],\"y\":[0.7210000157356262,-1.4179999828338623],\"z\":[13.090999603271484,15.520999908447266],\"type\":\"scatter3d\"},{\"hoverinfo\":\"none\",\"line\":{\"color\":\"lightcoral\",\"dash\":\"dash\",\"width\":0.5},\"mode\":\"lines\",\"x\":[-10.350000381469727,-12.085000038146973],\"y\":[0.7210000157356262,0.3370000123977661],\"z\":[13.090999603271484,11.41100025177002],\"type\":\"scatter3d\"},{\"hoverinfo\":\"none\",\"line\":{\"color\":\"lightcoral\",\"dash\":\"dash\",\"width\":0.5},\"mode\":\"lines\",\"x\":[-10.350000381469727,-12.015000343322754],\"y\":[0.7210000157356262,-0.3779999911785126],\"z\":[13.090999603271484,14.496000289916992],\"type\":\"scatter3d\"},{\"hoverinfo\":\"none\",\"line\":{\"color\":\"lightcoral\",\"dash\":\"dash\",\"width\":0.5},\"mode\":\"lines\",\"x\":[-12.642000198364258,-11.46500015258789],\"y\":[0.20600000023841858,1.9780000448226929],\"z\":[10.062000274658203,8.824000358581543],\"type\":\"scatter3d\"},{\"hoverinfo\":\"none\",\"line\":{\"color\":\"lightcoral\",\"dash\":\"dash\",\"width\":0.5},\"mode\":\"lines\",\"x\":[-12.642000198364258,-12.895999908447266],\"y\":[0.20600000023841858,0.38100001215934753],\"z\":[10.062000274658203,14.104000091552734],\"type\":\"scatter3d\"},{\"hoverinfo\":\"none\",\"line\":{\"color\":\"lightcoral\",\"dash\":\"dash\",\"width\":0.5},\"mode\":\"lines\",\"x\":[-12.642000198364258,-12.015000343322754],\"y\":[0.20600000023841858,-0.3779999911785126],\"z\":[10.062000274658203,14.496000289916992],\"type\":\"scatter3d\"},{\"hoverinfo\":\"none\",\"line\":{\"color\":\"lightcoral\",\"dash\":\"dash\",\"width\":0.5},\"mode\":\"lines\",\"x\":[-12.642000198364258,-10.784000396728516],\"y\":[0.20600000023841858,0.26600000262260437],\"z\":[10.062000274658203,11.687999725341797],\"type\":\"scatter3d\"},{\"hoverinfo\":\"none\",\"line\":{\"color\":\"lightcoral\",\"dash\":\"dash\",\"width\":0.5},\"mode\":\"lines\",\"x\":[-12.642000198364258,-10.744000434875488],\"y\":[0.20600000023841858,-0.2800000011920929],\"z\":[10.062000274658203,14.076000213623047],\"type\":\"scatter3d\"},{\"hoverinfo\":\"none\",\"line\":{\"color\":\"lightcoral\",\"dash\":\"dash\",\"width\":0.5},\"mode\":\"lines\",\"x\":[-12.642000198364258,-10.350000381469727],\"y\":[0.20600000023841858,0.7210000157356262],\"z\":[10.062000274658203,13.090999603271484],\"type\":\"scatter3d\"},{\"hoverinfo\":\"none\",\"line\":{\"color\":\"lightcoral\",\"dash\":\"dash\",\"width\":0.5},\"mode\":\"lines\",\"x\":[-12.642000198364258,-9.982999801635742],\"y\":[0.20600000023841858,-0.18299999833106995],\"z\":[10.062000274658203,10.878000259399414],\"type\":\"scatter3d\"},{\"hoverinfo\":\"none\",\"line\":{\"color\":\"lightcoral\",\"dash\":\"dash\",\"width\":0.5},\"mode\":\"lines\",\"x\":[-12.642000198364258,-11.276000022888184],\"y\":[0.20600000023841858,3.3919999599456787],\"z\":[10.062000274658203,8.47700023651123],\"type\":\"scatter3d\"},{\"hoverinfo\":\"none\",\"line\":{\"color\":\"lightcoral\",\"dash\":\"dash\",\"width\":0.5},\"mode\":\"lines\",\"x\":[-11.276000022888184,-13.484000205993652],\"y\":[3.3919999599456787,2.4019999504089355],\"z\":[8.47700023651123,9.692999839782715],\"type\":\"scatter3d\"},{\"hoverinfo\":\"none\",\"line\":{\"color\":\"lightcoral\",\"dash\":\"dash\",\"width\":0.5},\"mode\":\"lines\",\"x\":[-11.276000022888184,-12.579000473022461],\"y\":[3.3919999599456787,1.6069999933242798],\"z\":[8.47700023651123,9.463000297546387],\"type\":\"scatter3d\"},{\"hoverinfo\":\"none\",\"line\":{\"color\":\"lightcoral\",\"dash\":\"dash\",\"width\":0.5},\"mode\":\"lines\",\"x\":[-11.276000022888184,-9.668999671936035],\"y\":[3.3919999599456787,2.8269999027252197],\"z\":[8.47700023651123,6.664999961853027],\"type\":\"scatter3d\"},{\"hoverinfo\":\"none\",\"line\":{\"color\":\"lightcoral\",\"dash\":\"dash\",\"width\":0.5},\"mode\":\"lines\",\"x\":[-11.276000022888184,-9.397000312805176],\"y\":[3.3919999599456787,2.696000099182129],\"z\":[8.47700023651123,4.214000225067139],\"type\":\"scatter3d\"},{\"hoverinfo\":\"none\",\"line\":{\"color\":\"lightcoral\",\"dash\":\"dash\",\"width\":0.5},\"mode\":\"lines\",\"x\":[-11.276000022888184,-8.779000282287598],\"y\":[3.3919999599456787,3.1549999713897705],\"z\":[8.47700023651123,5.539000034332275],\"type\":\"scatter3d\"},{\"hoverinfo\":\"none\",\"line\":{\"color\":\"lightcoral\",\"dash\":\"dash\",\"width\":0.5},\"mode\":\"lines\",\"x\":[-11.276000022888184,-7.35699987411499],\"y\":[3.3919999599456787,2.61299991607666],\"z\":[8.47700023651123,5.7820000648498535],\"type\":\"scatter3d\"},{\"hoverinfo\":\"none\",\"line\":{\"color\":\"lightcoral\",\"dash\":\"dash\",\"width\":0.5},\"mode\":\"lines\",\"x\":[-11.276000022888184,-14.085000038146973],\"y\":[3.3919999599456787,-0.34700000286102295],\"z\":[8.47700023651123,10.104000091552734],\"type\":\"scatter3d\"},{\"hoverinfo\":\"none\",\"line\":{\"color\":\"lightcoral\",\"dash\":\"dash\",\"width\":0.5},\"mode\":\"lines\",\"x\":[-11.276000022888184,-12.642000198364258],\"y\":[3.3919999599456787,0.20600000023841858],\"z\":[8.47700023651123,10.062000274658203],\"type\":\"scatter3d\"},{\"hoverinfo\":\"none\",\"line\":{\"color\":\"lightcoral\",\"dash\":\"dash\",\"width\":0.5},\"mode\":\"lines\",\"x\":[-11.276000022888184,-12.085000038146973],\"y\":[3.3919999599456787,0.3370000123977661],\"z\":[8.47700023651123,11.41100025177002],\"type\":\"scatter3d\"},{\"hoverinfo\":\"none\",\"line\":{\"color\":\"lightcoral\",\"dash\":\"dash\",\"width\":0.5},\"mode\":\"lines\",\"x\":[-11.276000022888184,-10.784000396728516],\"y\":[3.3919999599456787,0.26600000262260437],\"z\":[8.47700023651123,11.687999725341797],\"type\":\"scatter3d\"},{\"hoverinfo\":\"none\",\"line\":{\"color\":\"lightcoral\",\"dash\":\"dash\",\"width\":0.5},\"mode\":\"lines\",\"x\":[-11.276000022888184,-9.982999801635742],\"y\":[3.3919999599456787,-0.18299999833106995],\"z\":[8.47700023651123,10.878000259399414],\"type\":\"scatter3d\"},{\"hoverinfo\":\"none\",\"line\":{\"color\":\"lightcoral\",\"dash\":\"dash\",\"width\":0.5},\"mode\":\"lines\",\"x\":[-11.276000022888184,-10.614999771118164],\"y\":[3.3919999599456787,3.1600000858306885],\"z\":[8.47700023651123,3.9159998893737793],\"type\":\"scatter3d\"},{\"hoverinfo\":\"none\",\"line\":{\"color\":\"lightcoral\",\"dash\":\"dash\",\"width\":0.5},\"mode\":\"lines\",\"x\":[-11.276000022888184,-6.625],\"y\":[3.3919999599456787,3.197000026702881],\"z\":[8.47700023651123,7.005000114440918],\"type\":\"scatter3d\"},{\"hoverinfo\":\"none\",\"line\":{\"color\":\"lightcoral\",\"dash\":\"dash\",\"width\":0.5},\"mode\":\"lines\",\"x\":[-8.779000282287598,-11.46500015258789],\"y\":[3.1549999713897705,1.9780000448226929],\"z\":[5.539000034332275,8.824000358581543],\"type\":\"scatter3d\"},{\"hoverinfo\":\"none\",\"line\":{\"color\":\"lightcoral\",\"dash\":\"dash\",\"width\":0.5},\"mode\":\"lines\",\"x\":[-8.779000282287598,-11.190999984741211],\"y\":[3.1549999713897705,3.0190000534057617],\"z\":[5.539000034332275,2.578000068664551],\"type\":\"scatter3d\"},{\"hoverinfo\":\"none\",\"line\":{\"color\":\"lightcoral\",\"dash\":\"dash\",\"width\":0.5},\"mode\":\"lines\",\"x\":[-8.779000282287598,-12.675000190734863],\"y\":[3.1549999713897705,3.437000036239624],\"z\":[5.539000034332275,2.5880000591278076],\"type\":\"scatter3d\"},{\"hoverinfo\":\"none\",\"line\":{\"color\":\"lightcoral\",\"dash\":\"dash\",\"width\":0.5},\"mode\":\"lines\",\"x\":[-8.779000282287598,-11.276000022888184],\"y\":[3.1549999713897705,3.3919999599456787],\"z\":[5.539000034332275,8.47700023651123],\"type\":\"scatter3d\"},{\"hoverinfo\":\"none\",\"line\":{\"color\":\"lightcoral\",\"dash\":\"dash\",\"width\":0.5},\"mode\":\"lines\",\"x\":[-8.779000282287598,-10.614999771118164],\"y\":[3.1549999713897705,3.1600000858306885],\"z\":[5.539000034332275,3.9159998893737793],\"type\":\"scatter3d\"},{\"hoverinfo\":\"none\",\"line\":{\"color\":\"lightcoral\",\"dash\":\"dash\",\"width\":0.5},\"mode\":\"lines\",\"x\":[-8.779000282287598,-10.517000198364258],\"y\":[3.1549999713897705,5.078000068664551],\"z\":[5.539000034332275,1.5269999504089355],\"type\":\"scatter3d\"},{\"hoverinfo\":\"none\",\"line\":{\"color\":\"lightcoral\",\"dash\":\"dash\",\"width\":0.5},\"mode\":\"lines\",\"x\":[-8.779000282287598,-10.35200023651123],\"y\":[3.1549999713897705,3.86299991607666],\"z\":[5.539000034332275,1.6109999418258667],\"type\":\"scatter3d\"},{\"hoverinfo\":\"none\",\"line\":{\"color\":\"lightcoral\",\"dash\":\"dash\",\"width\":0.5},\"mode\":\"lines\",\"x\":[-8.779000282287598,-10.243000030517578],\"y\":[3.1549999713897705,3.7669999599456787],\"z\":[5.539000034332275,7.420000076293945],\"type\":\"scatter3d\"},{\"hoverinfo\":\"none\",\"line\":{\"color\":\"lightcoral\",\"dash\":\"dash\",\"width\":0.5},\"mode\":\"lines\",\"x\":[-8.779000282287598,-9.980999946594238],\"y\":[3.1549999713897705,4.953000068664551],\"z\":[5.539000034332275,7.2820000648498535],\"type\":\"scatter3d\"},{\"hoverinfo\":\"none\",\"line\":{\"color\":\"lightcoral\",\"dash\":\"dash\",\"width\":0.5},\"mode\":\"lines\",\"x\":[-8.779000282287598,-9.409000396728516],\"y\":[3.1549999713897705,3.2179999351501465],\"z\":[5.539000034332275,0.9279999732971191],\"type\":\"scatter3d\"},{\"hoverinfo\":\"none\",\"line\":{\"color\":\"lightcoral\",\"dash\":\"dash\",\"width\":0.5},\"mode\":\"lines\",\"x\":[-11.190999984741211,-9.668999671936035],\"y\":[3.0190000534057617,2.8269999027252197],\"z\":[2.578000068664551,6.664999961853027],\"type\":\"scatter3d\"},{\"hoverinfo\":\"none\",\"line\":{\"color\":\"lightcoral\",\"dash\":\"dash\",\"width\":0.5},\"mode\":\"lines\",\"x\":[-11.190999984741211,-9.397000312805176],\"y\":[3.0190000534057617,2.696000099182129],\"z\":[2.578000068664551,4.214000225067139],\"type\":\"scatter3d\"},{\"hoverinfo\":\"none\",\"line\":{\"color\":\"lightcoral\",\"dash\":\"dash\",\"width\":0.5},\"mode\":\"lines\",\"x\":[-11.190999984741211,-8.807999610900879],\"y\":[3.0190000534057617,1.9040000438690186],\"z\":[2.578000068664551,3.484999895095825],\"type\":\"scatter3d\"},{\"hoverinfo\":\"none\",\"line\":{\"color\":\"lightcoral\",\"dash\":\"dash\",\"width\":0.5},\"mode\":\"lines\",\"x\":[-11.190999984741211,-8.779000282287598],\"y\":[3.0190000534057617,3.1549999713897705],\"z\":[2.578000068664551,5.539000034332275],\"type\":\"scatter3d\"},{\"hoverinfo\":\"none\",\"line\":{\"color\":\"lightcoral\",\"dash\":\"dash\",\"width\":0.5},\"mode\":\"lines\",\"x\":[-11.190999984741211,-7.543000221252441],\"y\":[3.0190000534057617,2.8570001125335693],\"z\":[2.578000068664551,-0.6359999775886536],\"type\":\"scatter3d\"},{\"hoverinfo\":\"none\",\"line\":{\"color\":\"lightcoral\",\"dash\":\"dash\",\"width\":0.5},\"mode\":\"lines\",\"x\":[-11.190999984741211,-6.807000160217285],\"y\":[3.0190000534057617,2.3540000915527344],\"z\":[2.578000068664551,0.4659999907016754],\"type\":\"scatter3d\"},{\"hoverinfo\":\"none\",\"line\":{\"color\":\"lightcoral\",\"dash\":\"dash\",\"width\":0.5},\"mode\":\"lines\",\"x\":[-11.190999984741211,-10.272000312805176],\"y\":[3.0190000534057617,3.2260000705718994],\"z\":[2.578000068664551,-1.8279999494552612],\"type\":\"scatter3d\"},{\"hoverinfo\":\"none\",\"line\":{\"color\":\"lightcoral\",\"dash\":\"dash\",\"width\":0.5},\"mode\":\"lines\",\"x\":[-11.190999984741211,-10.243000030517578],\"y\":[3.0190000534057617,3.7669999599456787],\"z\":[2.578000068664551,7.420000076293945],\"type\":\"scatter3d\"},{\"hoverinfo\":\"none\",\"line\":{\"color\":\"lightcoral\",\"dash\":\"dash\",\"width\":0.5},\"mode\":\"lines\",\"x\":[-11.190999984741211,-9.604999542236328],\"y\":[3.0190000534057617,4.124000072479248],\"z\":[2.578000068664551,-1.309999942779541],\"type\":\"scatter3d\"},{\"hoverinfo\":\"none\",\"line\":{\"color\":\"lightcoral\",\"dash\":\"dash\",\"width\":0.5},\"mode\":\"lines\",\"x\":[-11.190999984741211,-9.409000396728516],\"y\":[3.0190000534057617,3.2179999351501465],\"z\":[2.578000068664551,0.9279999732971191],\"type\":\"scatter3d\"},{\"hoverinfo\":\"none\",\"line\":{\"color\":\"lightcoral\",\"dash\":\"dash\",\"width\":0.5},\"mode\":\"lines\",\"x\":[-11.190999984741211,-8.647000312805176],\"y\":[3.0190000534057617,3.813999891281128],\"z\":[2.578000068664551,-0.164000004529953],\"type\":\"scatter3d\"},{\"hoverinfo\":\"none\",\"line\":{\"color\":\"lightcoral\",\"dash\":\"dash\",\"width\":0.5},\"mode\":\"lines\",\"x\":[-8.647000312805176,-11.190999984741211],\"y\":[3.813999891281128,3.0190000534057617],\"z\":[-0.164000004529953,2.578000068664551],\"type\":\"scatter3d\"},{\"hoverinfo\":\"none\",\"line\":{\"color\":\"lightcoral\",\"dash\":\"dash\",\"width\":0.5},\"mode\":\"lines\",\"x\":[-8.647000312805176,-9.397000312805176],\"y\":[3.813999891281128,2.696000099182129],\"z\":[-0.164000004529953,4.214000225067139],\"type\":\"scatter3d\"},{\"hoverinfo\":\"none\",\"line\":{\"color\":\"lightcoral\",\"dash\":\"dash\",\"width\":0.5},\"mode\":\"lines\",\"x\":[-8.647000312805176,-8.807999610900879],\"y\":[3.813999891281128,1.9040000438690186],\"z\":[-0.164000004529953,3.484999895095825],\"type\":\"scatter3d\"},{\"hoverinfo\":\"none\",\"line\":{\"color\":\"lightcoral\",\"dash\":\"dash\",\"width\":0.5},\"mode\":\"lines\",\"x\":[-8.647000312805176,-10.362000465393066],\"y\":[3.813999891281128,5.77400016784668],\"z\":[-0.164000004529953,-2.943000078201294],\"type\":\"scatter3d\"},{\"hoverinfo\":\"none\",\"line\":{\"color\":\"lightcoral\",\"dash\":\"dash\",\"width\":0.5},\"mode\":\"lines\",\"x\":[-8.647000312805176,-10.227999687194824],\"y\":[3.813999891281128,7.2779998779296875],\"z\":[-0.164000004529953,-3.181999921798706],\"type\":\"scatter3d\"},{\"hoverinfo\":\"none\",\"line\":{\"color\":\"lightcoral\",\"dash\":\"dash\",\"width\":0.5},\"mode\":\"lines\",\"x\":[-8.647000312805176,-9.72700023651123],\"y\":[3.813999891281128,5.008999824523926],\"z\":[-0.164000004529953,-4.111000061035156],\"type\":\"scatter3d\"},{\"hoverinfo\":\"none\",\"line\":{\"color\":\"lightcoral\",\"dash\":\"dash\",\"width\":0.5},\"mode\":\"lines\",\"x\":[-8.647000312805176,-8.496999740600586],\"y\":[3.813999891281128,4.88700008392334],\"z\":[-0.164000004529953,-4.1479997634887695],\"type\":\"scatter3d\"},{\"hoverinfo\":\"none\",\"line\":{\"color\":\"lightcoral\",\"dash\":\"dash\",\"width\":0.5},\"mode\":\"lines\",\"x\":[-8.647000312805176,-6.7769999504089355],\"y\":[3.813999891281128,6.627999782562256],\"z\":[-0.164000004529953,-2.1059999465942383],\"type\":\"scatter3d\"},{\"hoverinfo\":\"none\",\"line\":{\"color\":\"lightcoral\",\"dash\":\"dash\",\"width\":0.5},\"mode\":\"lines\",\"x\":[-8.647000312805176,-12.675000190734863],\"y\":[3.813999891281128,3.437000036239624],\"z\":[-0.164000004529953,2.5880000591278076],\"type\":\"scatter3d\"},{\"hoverinfo\":\"none\",\"line\":{\"color\":\"lightcoral\",\"dash\":\"dash\",\"width\":0.5},\"mode\":\"lines\",\"x\":[-8.647000312805176,-10.614999771118164],\"y\":[3.813999891281128,3.1600000858306885],\"z\":[-0.164000004529953,3.9159998893737793],\"type\":\"scatter3d\"},{\"hoverinfo\":\"none\",\"line\":{\"color\":\"lightcoral\",\"dash\":\"dash\",\"width\":0.5},\"mode\":\"lines\",\"x\":[-8.647000312805176,-10.517000198364258],\"y\":[3.813999891281128,5.078000068664551],\"z\":[-0.164000004529953,1.5269999504089355],\"type\":\"scatter3d\"},{\"hoverinfo\":\"none\",\"line\":{\"color\":\"lightcoral\",\"dash\":\"dash\",\"width\":0.5},\"mode\":\"lines\",\"x\":[-8.647000312805176,-10.35200023651123],\"y\":[3.813999891281128,3.86299991607666],\"z\":[-0.164000004529953,1.6109999418258667],\"type\":\"scatter3d\"},{\"hoverinfo\":\"none\",\"line\":{\"color\":\"lightcoral\",\"dash\":\"dash\",\"width\":0.5},\"mode\":\"lines\",\"x\":[-8.647000312805176,-9.6850004196167],\"y\":[3.813999891281128,5.390999794006348],\"z\":[-0.164000004529953,-1.7079999446868896],\"type\":\"scatter3d\"},{\"hoverinfo\":\"none\",\"line\":{\"color\":\"lightcoral\",\"dash\":\"dash\",\"width\":0.5},\"mode\":\"lines\",\"x\":[-8.647000312805176,-4.553999900817871],\"y\":[3.813999891281128,5.198999881744385],\"z\":[-0.164000004529953,-2.2049999237060547],\"type\":\"scatter3d\"},{\"hoverinfo\":\"none\",\"line\":{\"color\":\"lightcoral\",\"dash\":\"dash\",\"width\":0.5},\"mode\":\"lines\",\"x\":[-10.362000465393066,-7.543000221252441],\"y\":[5.77400016784668,2.8570001125335693],\"z\":[-2.943000078201294,-0.6359999775886536],\"type\":\"scatter3d\"},{\"hoverinfo\":\"none\",\"line\":{\"color\":\"lightcoral\",\"dash\":\"dash\",\"width\":0.5},\"mode\":\"lines\",\"x\":[-10.362000465393066,-12.317000389099121],\"y\":[5.77400016784668,3.494999885559082],\"z\":[-2.943000078201294,-6.23199987411499],\"type\":\"scatter3d\"},{\"hoverinfo\":\"none\",\"line\":{\"color\":\"lightcoral\",\"dash\":\"dash\",\"width\":0.5},\"mode\":\"lines\",\"x\":[-10.362000465393066,-11.958999633789062],\"y\":[5.77400016784668,4.440999984741211],\"z\":[-2.943000078201294,-5.090000152587891],\"type\":\"scatter3d\"},{\"hoverinfo\":\"none\",\"line\":{\"color\":\"lightcoral\",\"dash\":\"dash\",\"width\":0.5},\"mode\":\"lines\",\"x\":[-10.362000465393066,-11.164999961853027],\"y\":[5.77400016784668,3.680000066757202],\"z\":[-2.943000078201294,-7.21999979019165],\"type\":\"scatter3d\"},{\"hoverinfo\":\"none\",\"line\":{\"color\":\"lightcoral\",\"dash\":\"dash\",\"width\":0.5},\"mode\":\"lines\",\"x\":[-10.362000465393066,-10.508999824523926],\"y\":[5.77400016784668,4.506999969482422],\"z\":[-2.943000078201294,-5.083000183105469],\"type\":\"scatter3d\"},{\"hoverinfo\":\"none\",\"line\":{\"color\":\"lightcoral\",\"dash\":\"dash\",\"width\":0.5},\"mode\":\"lines\",\"x\":[-10.362000465393066,-9.95300006866455],\"y\":[5.77400016784668,3.9779999256134033],\"z\":[-2.943000078201294,-6.323999881744385],\"type\":\"scatter3d\"},{\"hoverinfo\":\"none\",\"line\":{\"color\":\"lightcoral\",\"dash\":\"dash\",\"width\":0.5},\"mode\":\"lines\",\"x\":[-10.362000465393066,-9.409000396728516],\"y\":[5.77400016784668,6.114999771118164],\"z\":[-2.943000078201294,-7.2769999504089355],\"type\":\"scatter3d\"},{\"hoverinfo\":\"none\",\"line\":{\"color\":\"lightcoral\",\"dash\":\"dash\",\"width\":0.5},\"mode\":\"lines\",\"x\":[-10.362000465393066,-8.993000030517578],\"y\":[5.77400016784668,5.014999866485596],\"z\":[-2.943000078201294,-6.928999900817871],\"type\":\"scatter3d\"},{\"hoverinfo\":\"none\",\"line\":{\"color\":\"lightcoral\",\"dash\":\"dash\",\"width\":0.5},\"mode\":\"lines\",\"x\":[-10.362000465393066,-7.695000171661377],\"y\":[5.77400016784668,4.697000026702881],\"z\":[-2.943000078201294,-6.966000080108643],\"type\":\"scatter3d\"},{\"hoverinfo\":\"none\",\"line\":{\"color\":\"lightcoral\",\"dash\":\"dash\",\"width\":0.5},\"mode\":\"lines\",\"x\":[-10.362000465393066,-6.7769999504089355],\"y\":[5.77400016784668,6.627999782562256],\"z\":[-2.943000078201294,-2.1059999465942383],\"type\":\"scatter3d\"},{\"hoverinfo\":\"none\",\"line\":{\"color\":\"lightcoral\",\"dash\":\"dash\",\"width\":0.5},\"mode\":\"lines\",\"x\":[-10.362000465393066,-10.517000198364258],\"y\":[5.77400016784668,5.078000068664551],\"z\":[-2.943000078201294,1.5269999504089355],\"type\":\"scatter3d\"},{\"hoverinfo\":\"none\",\"line\":{\"color\":\"lightcoral\",\"dash\":\"dash\",\"width\":0.5},\"mode\":\"lines\",\"x\":[-10.362000465393066,-10.35200023651123],\"y\":[5.77400016784668,3.86299991607666],\"z\":[-2.943000078201294,1.6109999418258667],\"type\":\"scatter3d\"},{\"hoverinfo\":\"none\",\"line\":{\"color\":\"lightcoral\",\"dash\":\"dash\",\"width\":0.5},\"mode\":\"lines\",\"x\":[-10.362000465393066,-10.272000312805176],\"y\":[5.77400016784668,3.2260000705718994],\"z\":[-2.943000078201294,-1.8279999494552612],\"type\":\"scatter3d\"},{\"hoverinfo\":\"none\",\"line\":{\"color\":\"lightcoral\",\"dash\":\"dash\",\"width\":0.5},\"mode\":\"lines\",\"x\":[-10.362000465393066,-9.604999542236328],\"y\":[5.77400016784668,4.124000072479248],\"z\":[-2.943000078201294,-1.309999942779541],\"type\":\"scatter3d\"},{\"hoverinfo\":\"none\",\"line\":{\"color\":\"lightcoral\",\"dash\":\"dash\",\"width\":0.5},\"mode\":\"lines\",\"x\":[-10.362000465393066,-9.409000396728516],\"y\":[5.77400016784668,3.2179999351501465],\"z\":[-2.943000078201294,0.9279999732971191],\"type\":\"scatter3d\"},{\"hoverinfo\":\"none\",\"line\":{\"color\":\"lightcoral\",\"dash\":\"dash\",\"width\":0.5},\"mode\":\"lines\",\"x\":[-10.362000465393066,-8.647000312805176],\"y\":[5.77400016784668,3.813999891281128],\"z\":[-2.943000078201294,-0.164000004529953],\"type\":\"scatter3d\"},{\"hoverinfo\":\"none\",\"line\":{\"color\":\"lightcoral\",\"dash\":\"dash\",\"width\":0.5},\"mode\":\"lines\",\"x\":[-10.362000465393066,-6.0879998207092285],\"y\":[5.77400016784668,6.175000190734863],\"z\":[-2.943000078201294,-5.091000080108643],\"type\":\"scatter3d\"},{\"hoverinfo\":\"none\",\"line\":{\"color\":\"lightcoral\",\"dash\":\"dash\",\"width\":0.5},\"mode\":\"lines\",\"x\":[-10.362000465393066,-6.031000137329102],\"y\":[5.77400016784668,7.4679999351501465],\"z\":[-2.943000078201294,-2.9639999866485596],\"type\":\"scatter3d\"},{\"hoverinfo\":\"none\",\"line\":{\"color\":\"lightcoral\",\"dash\":\"dash\",\"width\":0.5},\"mode\":\"lines\",\"x\":[-9.95300006866455,-10.362000465393066],\"y\":[3.9779999256134033,5.77400016784668],\"z\":[-6.323999881744385,-2.943000078201294],\"type\":\"scatter3d\"},{\"hoverinfo\":\"none\",\"line\":{\"color\":\"lightcoral\",\"dash\":\"dash\",\"width\":0.5},\"mode\":\"lines\",\"x\":[-9.95300006866455,-10.227999687194824],\"y\":[3.9779999256134033,7.2779998779296875],\"z\":[-6.323999881744385,-3.181999921798706],\"type\":\"scatter3d\"},{\"hoverinfo\":\"none\",\"line\":{\"color\":\"lightcoral\",\"dash\":\"dash\",\"width\":0.5},\"mode\":\"lines\",\"x\":[-9.95300006866455,-9.72700023651123],\"y\":[3.9779999256134033,5.008999824523926],\"z\":[-6.323999881744385,-4.111000061035156],\"type\":\"scatter3d\"},{\"hoverinfo\":\"none\",\"line\":{\"color\":\"lightcoral\",\"dash\":\"dash\",\"width\":0.5},\"mode\":\"lines\",\"x\":[-9.95300006866455,-8.496999740600586],\"y\":[3.9779999256134033,4.88700008392334],\"z\":[-6.323999881744385,-4.1479997634887695],\"type\":\"scatter3d\"},{\"hoverinfo\":\"none\",\"line\":{\"color\":\"lightcoral\",\"dash\":\"dash\",\"width\":0.5},\"mode\":\"lines\",\"x\":[-9.95300006866455,-7.695000171661377],\"y\":[3.9779999256134033,4.697000026702881],\"z\":[-6.323999881744385,-6.966000080108643],\"type\":\"scatter3d\"},{\"hoverinfo\":\"none\",\"line\":{\"color\":\"lightcoral\",\"dash\":\"dash\",\"width\":0.5},\"mode\":\"lines\",\"x\":[-9.95300006866455,-6.63700008392334],\"y\":[3.9779999256134033,5.593999862670898],\"z\":[-6.323999881744385,-7.453999996185303],\"type\":\"scatter3d\"},{\"hoverinfo\":\"none\",\"line\":{\"color\":\"lightcoral\",\"dash\":\"dash\",\"width\":0.5},\"mode\":\"lines\",\"x\":[-9.95300006866455,-10.272000312805176],\"y\":[3.9779999256134033,3.2260000705718994],\"z\":[-6.323999881744385,-1.8279999494552612],\"type\":\"scatter3d\"},{\"hoverinfo\":\"none\",\"line\":{\"color\":\"lightcoral\",\"dash\":\"dash\",\"width\":0.5},\"mode\":\"lines\",\"x\":[-9.95300006866455,-9.6850004196167],\"y\":[3.9779999256134033,5.390999794006348],\"z\":[-6.323999881744385,-1.7079999446868896],\"type\":\"scatter3d\"},{\"hoverinfo\":\"none\",\"line\":{\"color\":\"lightcoral\",\"dash\":\"dash\",\"width\":0.5},\"mode\":\"lines\",\"x\":[-9.95300006866455,-6.0879998207092285],\"y\":[3.9779999256134033,6.175000190734863],\"z\":[-6.323999881744385,-5.091000080108643],\"type\":\"scatter3d\"},{\"hoverinfo\":\"none\",\"line\":{\"color\":\"lightcoral\",\"dash\":\"dash\",\"width\":0.5},\"mode\":\"lines\",\"x\":[-9.95300006866455,-5.770999908447266],\"y\":[3.9779999256134033,6.2789998054504395],\"z\":[-6.323999881744385,-6.386000156402588],\"type\":\"scatter3d\"},{\"hoverinfo\":\"none\",\"line\":{\"color\":\"lightcoral\",\"dash\":\"dash\",\"width\":0.5},\"mode\":\"lines\",\"x\":[-6.63700008392334,-11.164999961853027],\"y\":[5.593999862670898,3.680000066757202],\"z\":[-7.453999996185303,-7.21999979019165],\"type\":\"scatter3d\"},{\"hoverinfo\":\"none\",\"line\":{\"color\":\"lightcoral\",\"dash\":\"dash\",\"width\":0.5},\"mode\":\"lines\",\"x\":[-6.63700008392334,-10.508999824523926],\"y\":[5.593999862670898,4.506999969482422],\"z\":[-7.453999996185303,-5.083000183105469],\"type\":\"scatter3d\"},{\"hoverinfo\":\"none\",\"line\":{\"color\":\"lightcoral\",\"dash\":\"dash\",\"width\":0.5},\"mode\":\"lines\",\"x\":[-6.63700008392334,-9.95300006866455],\"y\":[5.593999862670898,3.9779999256134033],\"z\":[-7.453999996185303,-6.323999881744385],\"type\":\"scatter3d\"},{\"hoverinfo\":\"none\",\"line\":{\"color\":\"lightcoral\",\"dash\":\"dash\",\"width\":0.5},\"mode\":\"lines\",\"x\":[-6.63700008392334,-9.72700023651123],\"y\":[5.593999862670898,5.008999824523926],\"z\":[-7.453999996185303,-4.111000061035156],\"type\":\"scatter3d\"},{\"hoverinfo\":\"none\",\"line\":{\"color\":\"lightcoral\",\"dash\":\"dash\",\"width\":0.5},\"mode\":\"lines\",\"x\":[-6.63700008392334,-9.409000396728516],\"y\":[5.593999862670898,6.114999771118164],\"z\":[-7.453999996185303,-7.2769999504089355],\"type\":\"scatter3d\"},{\"hoverinfo\":\"none\",\"line\":{\"color\":\"lightcoral\",\"dash\":\"dash\",\"width\":0.5},\"mode\":\"lines\",\"x\":[-6.63700008392334,-8.993000030517578],\"y\":[5.593999862670898,5.014999866485596],\"z\":[-7.453999996185303,-6.928999900817871],\"type\":\"scatter3d\"},{\"hoverinfo\":\"none\",\"line\":{\"color\":\"lightcoral\",\"dash\":\"dash\",\"width\":0.5},\"mode\":\"lines\",\"x\":[-6.63700008392334,-8.496999740600586],\"y\":[5.593999862670898,4.88700008392334],\"z\":[-7.453999996185303,-4.1479997634887695],\"type\":\"scatter3d\"},{\"hoverinfo\":\"none\",\"line\":{\"color\":\"lightcoral\",\"dash\":\"dash\",\"width\":0.5},\"mode\":\"lines\",\"x\":[-6.63700008392334,-6.0879998207092285],\"y\":[5.593999862670898,6.175000190734863],\"z\":[-7.453999996185303,-5.091000080108643],\"type\":\"scatter3d\"},{\"hoverinfo\":\"none\",\"line\":{\"color\":\"lightcoral\",\"dash\":\"dash\",\"width\":0.5},\"mode\":\"lines\",\"x\":[-6.63700008392334,-3.5840001106262207],\"y\":[5.593999862670898,4.84499979019165],\"z\":[-7.453999996185303,-4.185999870300293],\"type\":\"scatter3d\"},{\"hoverinfo\":\"none\",\"line\":{\"color\":\"lightcoral\",\"dash\":\"dash\",\"width\":0.5},\"mode\":\"lines\",\"x\":[-6.63700008392334,-6.031000137329102],\"y\":[5.593999862670898,7.4679999351501465],\"z\":[-7.453999996185303,-2.9639999866485596],\"type\":\"scatter3d\"},{\"hoverinfo\":\"none\",\"line\":{\"color\":\"lightcoral\",\"dash\":\"dash\",\"width\":0.5},\"mode\":\"lines\",\"x\":[-6.63700008392334,-5.2270002365112305],\"y\":[5.593999862670898,6.664000034332275],\"z\":[-7.453999996185303,-4.000999927520752],\"type\":\"scatter3d\"},{\"hoverinfo\":\"none\",\"line\":{\"color\":\"lightcoral\",\"dash\":\"dash\",\"width\":0.5},\"mode\":\"lines\",\"x\":[-6.63700008392334,-4.408999919891357],\"y\":[5.593999862670898,5.520999908447266],\"z\":[-7.453999996185303,-3.385999917984009],\"type\":\"scatter3d\"},{\"hoverinfo\":\"none\",\"line\":{\"color\":\"lightcoral\",\"dash\":\"dash\",\"width\":0.5},\"mode\":\"lines\",\"x\":[-5.2270002365112305,-9.72700023651123],\"y\":[6.664000034332275,5.008999824523926],\"z\":[-4.000999927520752,-4.111000061035156],\"type\":\"scatter3d\"},{\"hoverinfo\":\"none\",\"line\":{\"color\":\"lightcoral\",\"dash\":\"dash\",\"width\":0.5},\"mode\":\"lines\",\"x\":[-5.2270002365112305,-8.496999740600586],\"y\":[6.664000034332275,4.88700008392334],\"z\":[-4.000999927520752,-4.1479997634887695],\"type\":\"scatter3d\"},{\"hoverinfo\":\"none\",\"line\":{\"color\":\"lightcoral\",\"dash\":\"dash\",\"width\":0.5},\"mode\":\"lines\",\"x\":[-5.2270002365112305,-7.695000171661377],\"y\":[6.664000034332275,4.697000026702881],\"z\":[-4.000999927520752,-6.966000080108643],\"type\":\"scatter3d\"},{\"hoverinfo\":\"none\",\"line\":{\"color\":\"lightcoral\",\"dash\":\"dash\",\"width\":0.5},\"mode\":\"lines\",\"x\":[-5.2270002365112305,-6.63700008392334],\"y\":[6.664000034332275,5.593999862670898],\"z\":[-4.000999927520752,-7.453999996185303],\"type\":\"scatter3d\"},{\"hoverinfo\":\"none\",\"line\":{\"color\":\"lightcoral\",\"dash\":\"dash\",\"width\":0.5},\"mode\":\"lines\",\"x\":[-5.2270002365112305,-2.555000066757202],\"y\":[6.664000034332275,3.9719998836517334],\"z\":[-4.000999927520752,-3.621000051498413],\"type\":\"scatter3d\"},{\"hoverinfo\":\"none\",\"line\":{\"color\":\"lightcoral\",\"dash\":\"dash\",\"width\":0.5},\"mode\":\"lines\",\"x\":[-5.2270002365112305,-2.184000015258789],\"y\":[6.664000034332275,2.8369998931884766],\"z\":[-4.000999927520752,-4.590000152587891],\"type\":\"scatter3d\"},{\"hoverinfo\":\"none\",\"line\":{\"color\":\"lightcoral\",\"dash\":\"dash\",\"width\":0.5},\"mode\":\"lines\",\"x\":[-5.2270002365112305,-5.770999908447266],\"y\":[6.664000034332275,6.2789998054504395],\"z\":[-4.000999927520752,-6.386000156402588],\"type\":\"scatter3d\"},{\"hoverinfo\":\"none\",\"line\":{\"color\":\"lightcoral\",\"dash\":\"dash\",\"width\":0.5},\"mode\":\"lines\",\"x\":[-5.2270002365112305,-4.752999782562256],\"y\":[6.664000034332275,6.861000061035156],\"z\":[-4.000999927520752,-6.744999885559082],\"type\":\"scatter3d\"},{\"hoverinfo\":\"none\",\"line\":{\"color\":\"lightcoral\",\"dash\":\"dash\",\"width\":0.5},\"mode\":\"lines\",\"x\":[-5.2270002365112305,-3.5840001106262207],\"y\":[6.664000034332275,4.84499979019165],\"z\":[-4.000999927520752,-4.185999870300293],\"type\":\"scatter3d\"},{\"hoverinfo\":\"none\",\"line\":{\"color\":\"lightcoral\",\"dash\":\"dash\",\"width\":0.5},\"mode\":\"lines\",\"x\":[-5.2270002365112305,-1.3509999513626099],\"y\":[6.664000034332275,4.84499979019165],\"z\":[-4.000999927520752,-3.244999885559082],\"type\":\"scatter3d\"},{\"hoverinfo\":\"none\",\"line\":{\"color\":\"lightcoral\",\"dash\":\"dash\",\"width\":0.5},\"mode\":\"lines\",\"x\":[-5.2270002365112305,-0.8949999809265137],\"y\":[6.664000034332275,5.617000102996826],\"z\":[-4.000999927520752,-4.0920000076293945],\"type\":\"scatter3d\"},{\"hoverinfo\":\"none\",\"line\":{\"color\":\"lightcoral\",\"dash\":\"dash\",\"width\":0.5},\"mode\":\"lines\",\"x\":[-2.555000066757202,-1.25],\"y\":[3.9719998836517334,3.9070000648498535],\"z\":[-3.621000051498413,-0.9039999842643738],\"type\":\"scatter3d\"},{\"hoverinfo\":\"none\",\"line\":{\"color\":\"lightcoral\",\"dash\":\"dash\",\"width\":0.5},\"mode\":\"lines\",\"x\":[-2.555000066757202,-0.050999999046325684],\"y\":[3.9719998836517334,3.819999933242798],\"z\":[-3.621000051498413,0.04100000113248825],\"type\":\"scatter3d\"},{\"hoverinfo\":\"none\",\"line\":{\"color\":\"lightcoral\",\"dash\":\"dash\",\"width\":0.5},\"mode\":\"lines\",\"x\":[-2.555000066757202,1.3769999742507935],\"y\":[3.9719998836517334,3.552000045776367],\"z\":[-3.621000051498413,-2.930999994277954],\"type\":\"scatter3d\"},{\"hoverinfo\":\"none\",\"line\":{\"color\":\"lightcoral\",\"dash\":\"dash\",\"width\":0.5},\"mode\":\"lines\",\"x\":[-2.555000066757202,-6.0879998207092285],\"y\":[3.9719998836517334,6.175000190734863],\"z\":[-3.621000051498413,-5.091000080108643],\"type\":\"scatter3d\"},{\"hoverinfo\":\"none\",\"line\":{\"color\":\"lightcoral\",\"dash\":\"dash\",\"width\":0.5},\"mode\":\"lines\",\"x\":[-2.555000066757202,-5.770999908447266],\"y\":[3.9719998836517334,6.2789998054504395],\"z\":[-3.621000051498413,-6.386000156402588],\"type\":\"scatter3d\"},{\"hoverinfo\":\"none\",\"line\":{\"color\":\"lightcoral\",\"dash\":\"dash\",\"width\":0.5},\"mode\":\"lines\",\"x\":[-2.555000066757202,-4.752999782562256],\"y\":[3.9719998836517334,6.861000061035156],\"z\":[-3.621000051498413,-6.744999885559082],\"type\":\"scatter3d\"},{\"hoverinfo\":\"none\",\"line\":{\"color\":\"lightcoral\",\"dash\":\"dash\",\"width\":0.5},\"mode\":\"lines\",\"x\":[-2.555000066757202,-6.031000137329102],\"y\":[3.9719998836517334,7.4679999351501465],\"z\":[-3.621000051498413,-2.9639999866485596],\"type\":\"scatter3d\"},{\"hoverinfo\":\"none\",\"line\":{\"color\":\"lightcoral\",\"dash\":\"dash\",\"width\":0.5},\"mode\":\"lines\",\"x\":[-2.555000066757202,-5.2270002365112305],\"y\":[3.9719998836517334,6.664000034332275],\"z\":[-3.621000051498413,-4.000999927520752],\"type\":\"scatter3d\"},{\"hoverinfo\":\"none\",\"line\":{\"color\":\"lightcoral\",\"dash\":\"dash\",\"width\":0.5},\"mode\":\"lines\",\"x\":[-2.555000066757202,-4.553999900817871],\"y\":[3.9719998836517334,5.198999881744385],\"z\":[-3.621000051498413,-2.2049999237060547],\"type\":\"scatter3d\"},{\"hoverinfo\":\"none\",\"line\":{\"color\":\"lightcoral\",\"dash\":\"dash\",\"width\":0.5},\"mode\":\"lines\",\"x\":[-2.555000066757202,-4.408999919891357],\"y\":[3.9719998836517334,5.520999908447266],\"z\":[-3.621000051498413,-3.385999917984009],\"type\":\"scatter3d\"},{\"hoverinfo\":\"none\",\"line\":{\"color\":\"lightcoral\",\"dash\":\"dash\",\"width\":0.5},\"mode\":\"lines\",\"x\":[-2.555000066757202,-0.8309999704360962],\"y\":[3.9719998836517334,4.767000198364258],\"z\":[-3.621000051498413,-2.003999948501587],\"type\":\"scatter3d\"},{\"hoverinfo\":\"none\",\"line\":{\"color\":\"lightcoral\",\"dash\":\"dash\",\"width\":0.5},\"mode\":\"lines\",\"x\":[-2.555000066757202,0.453000009059906],\"y\":[3.9719998836517334,5.383999824523926],\"z\":[-3.621000051498413,-1.7079999446868896],\"type\":\"scatter3d\"},{\"hoverinfo\":\"none\",\"line\":{\"color\":\"lightcoral\",\"dash\":\"dash\",\"width\":0.5},\"mode\":\"lines\",\"x\":[-2.555000066757202,0.7099999785423279],\"y\":[3.9719998836517334,5.119999885559082],\"z\":[-3.621000051498413,-0.22300000488758087],\"type\":\"scatter3d\"},{\"hoverinfo\":\"none\",\"line\":{\"color\":\"lightcoral\",\"dash\":\"dash\",\"width\":0.5},\"mode\":\"lines\",\"x\":[-2.555000066757202,1.5069999694824219],\"y\":[3.9719998836517334,4.741000175476074],\"z\":[-3.621000051498413,-2.621000051498413],\"type\":\"scatter3d\"},{\"hoverinfo\":\"none\",\"line\":{\"color\":\"lightcoral\",\"dash\":\"dash\",\"width\":0.5},\"mode\":\"lines\",\"x\":[0.453000009059906,-2.555000066757202],\"y\":[5.383999824523926,3.9719998836517334],\"z\":[-1.7079999446868896,-3.621000051498413],\"type\":\"scatter3d\"},{\"hoverinfo\":\"none\",\"line\":{\"color\":\"lightcoral\",\"dash\":\"dash\",\"width\":0.5},\"mode\":\"lines\",\"x\":[0.453000009059906,-2.184000015258789],\"y\":[5.383999824523926,2.8369998931884766],\"z\":[-1.7079999446868896,-4.590000152587891],\"type\":\"scatter3d\"},{\"hoverinfo\":\"none\",\"line\":{\"color\":\"lightcoral\",\"dash\":\"dash\",\"width\":0.5},\"mode\":\"lines\",\"x\":[0.453000009059906,3.930000066757202],\"y\":[5.383999824523926,2.5299999713897705],\"z\":[-1.7079999446868896,-3.4240000247955322],\"type\":\"scatter3d\"},{\"hoverinfo\":\"none\",\"line\":{\"color\":\"lightcoral\",\"dash\":\"dash\",\"width\":0.5},\"mode\":\"lines\",\"x\":[0.453000009059906,4.25600004196167],\"y\":[5.383999824523926,3.7790000438690186],\"z\":[-1.7079999446868896,-3.0840001106262207],\"type\":\"scatter3d\"},{\"hoverinfo\":\"none\",\"line\":{\"color\":\"lightcoral\",\"dash\":\"dash\",\"width\":0.5},\"mode\":\"lines\",\"x\":[0.453000009059906,5.005000114440918],\"y\":[5.383999824523926,4.025000095367432],\"z\":[-1.7079999446868896,-2.1389999389648438],\"type\":\"scatter3d\"},{\"hoverinfo\":\"none\",\"line\":{\"color\":\"lightcoral\",\"dash\":\"dash\",\"width\":0.5},\"mode\":\"lines\",\"x\":[0.453000009059906,-3.5840001106262207],\"y\":[5.383999824523926,4.84499979019165],\"z\":[-1.7079999446868896,-4.185999870300293],\"type\":\"scatter3d\"},{\"hoverinfo\":\"none\",\"line\":{\"color\":\"lightcoral\",\"dash\":\"dash\",\"width\":0.5},\"mode\":\"lines\",\"x\":[0.453000009059906,4.531000137329102],\"y\":[5.383999824523926,6.066999912261963],\"z\":[-1.7079999446868896,-4.224999904632568],\"type\":\"scatter3d\"},{\"hoverinfo\":\"none\",\"line\":{\"color\":\"lightcoral\",\"dash\":\"dash\",\"width\":0.5},\"mode\":\"lines\",\"x\":[0.453000009059906,-1.3509999513626099],\"y\":[5.383999824523926,4.84499979019165],\"z\":[-1.7079999446868896,-3.244999885559082],\"type\":\"scatter3d\"},{\"hoverinfo\":\"none\",\"line\":{\"color\":\"lightcoral\",\"dash\":\"dash\",\"width\":0.5},\"mode\":\"lines\",\"x\":[0.453000009059906,-0.8949999809265137],\"y\":[5.383999824523926,5.617000102996826],\"z\":[-1.7079999446868896,-4.0920000076293945],\"type\":\"scatter3d\"},{\"hoverinfo\":\"none\",\"line\":{\"color\":\"lightcoral\",\"dash\":\"dash\",\"width\":0.5},\"mode\":\"lines\",\"x\":[0.453000009059906,2.5309998989105225],\"y\":[5.383999824523926,5.482999801635742],\"z\":[-1.7079999446868896,-3.072999954223633],\"type\":\"scatter3d\"},{\"hoverinfo\":\"none\",\"line\":{\"color\":\"lightcoral\",\"dash\":\"dash\",\"width\":0.5},\"mode\":\"lines\",\"x\":[0.453000009059906,2.816999912261963],\"y\":[5.383999824523926,6.870999813079834],\"z\":[-1.7079999446868896,-2.753999948501587],\"type\":\"scatter3d\"},{\"hoverinfo\":\"none\",\"line\":{\"color\":\"lightcoral\",\"dash\":\"dash\",\"width\":0.5},\"mode\":\"lines\",\"x\":[0.453000009059906,3.5920000076293945],\"y\":[5.383999824523926,4.9039998054504395],\"z\":[-1.7079999446868896,-3.884999990463257],\"type\":\"scatter3d\"},{\"hoverinfo\":\"none\",\"line\":{\"color\":\"lightcoral\",\"dash\":\"dash\",\"width\":0.5},\"mode\":\"lines\",\"x\":[0.453000009059906,4.289000034332275],\"y\":[5.383999824523926,7.076000213623047],\"z\":[-1.7079999446868896,-3.1019999980926514],\"type\":\"scatter3d\"},{\"hoverinfo\":\"none\",\"line\":{\"color\":\"lightcoral\",\"dash\":\"dash\",\"width\":0.5},\"mode\":\"lines\",\"x\":[3.5920000076293945,6.1519999504089355],\"y\":[4.9039998054504395,1.597000002861023],\"z\":[-3.884999990463257,-4.75],\"type\":\"scatter3d\"},{\"hoverinfo\":\"none\",\"line\":{\"color\":\"lightcoral\",\"dash\":\"dash\",\"width\":0.5},\"mode\":\"lines\",\"x\":[3.5920000076293945,1.3769999742507935],\"y\":[4.9039998054504395,3.552000045776367],\"z\":[-3.884999990463257,-2.930999994277954],\"type\":\"scatter3d\"},{\"hoverinfo\":\"none\",\"line\":{\"color\":\"lightcoral\",\"dash\":\"dash\",\"width\":0.5},\"mode\":\"lines\",\"x\":[3.5920000076293945,3.930000066757202],\"y\":[4.9039998054504395,2.5299999713897705],\"z\":[-3.884999990463257,-3.4240000247955322],\"type\":\"scatter3d\"},{\"hoverinfo\":\"none\",\"line\":{\"color\":\"lightcoral\",\"dash\":\"dash\",\"width\":0.5},\"mode\":\"lines\",\"x\":[3.5920000076293945,3.944000005722046],\"y\":[4.9039998054504395,0.03500000014901161],\"z\":[-3.884999990463257,-3.2939999103546143],\"type\":\"scatter3d\"},{\"hoverinfo\":\"none\",\"line\":{\"color\":\"lightcoral\",\"dash\":\"dash\",\"width\":0.5},\"mode\":\"lines\",\"x\":[3.5920000076293945,4.645999908447266],\"y\":[4.9039998054504395,1.3580000400543213],\"z\":[-3.884999990463257,-2.9240000247955322],\"type\":\"scatter3d\"},{\"hoverinfo\":\"none\",\"line\":{\"color\":\"lightcoral\",\"dash\":\"dash\",\"width\":0.5},\"mode\":\"lines\",\"x\":[3.5920000076293945,6.0370001792907715],\"y\":[4.9039998054504395,1.4780000448226929],\"z\":[-3.884999990463257,-3.5360000133514404],\"type\":\"scatter3d\"},{\"hoverinfo\":\"none\",\"line\":{\"color\":\"lightcoral\",\"dash\":\"dash\",\"width\":0.5},\"mode\":\"lines\",\"x\":[3.5920000076293945,7.052000045776367],\"y\":[4.9039998054504395,1.61899995803833],\"z\":[-3.884999990463257,-2.686000108718872],\"type\":\"scatter3d\"},{\"hoverinfo\":\"none\",\"line\":{\"color\":\"lightcoral\",\"dash\":\"dash\",\"width\":0.5},\"mode\":\"lines\",\"x\":[3.5920000076293945,-1.3509999513626099],\"y\":[4.9039998054504395,4.84499979019165],\"z\":[-3.884999990463257,-3.244999885559082],\"type\":\"scatter3d\"},{\"hoverinfo\":\"none\",\"line\":{\"color\":\"lightcoral\",\"dash\":\"dash\",\"width\":0.5},\"mode\":\"lines\",\"x\":[3.5920000076293945,-0.8949999809265137],\"y\":[4.9039998054504395,5.617000102996826],\"z\":[-3.884999990463257,-4.0920000076293945],\"type\":\"scatter3d\"},{\"hoverinfo\":\"none\",\"line\":{\"color\":\"lightcoral\",\"dash\":\"dash\",\"width\":0.5},\"mode\":\"lines\",\"x\":[3.5920000076293945,-0.8309999704360962],\"y\":[4.9039998054504395,4.767000198364258],\"z\":[-3.884999990463257,-2.003999948501587],\"type\":\"scatter3d\"},{\"hoverinfo\":\"none\",\"line\":{\"color\":\"lightcoral\",\"dash\":\"dash\",\"width\":0.5},\"mode\":\"lines\",\"x\":[3.5920000076293945,0.453000009059906],\"y\":[4.9039998054504395,5.383999824523926],\"z\":[-3.884999990463257,-1.7079999446868896],\"type\":\"scatter3d\"},{\"hoverinfo\":\"none\",\"line\":{\"color\":\"lightcoral\",\"dash\":\"dash\",\"width\":0.5},\"mode\":\"lines\",\"x\":[3.5920000076293945,0.7099999785423279],\"y\":[4.9039998054504395,5.119999885559082],\"z\":[-3.884999990463257,-0.22300000488758087],\"type\":\"scatter3d\"},{\"hoverinfo\":\"none\",\"line\":{\"color\":\"lightcoral\",\"dash\":\"dash\",\"width\":0.5},\"mode\":\"lines\",\"x\":[3.5920000076293945,1.5069999694824219],\"y\":[4.9039998054504395,4.741000175476074],\"z\":[-3.884999990463257,-2.621000051498413],\"type\":\"scatter3d\"},{\"hoverinfo\":\"none\",\"line\":{\"color\":\"lightcoral\",\"dash\":\"dash\",\"width\":0.5},\"mode\":\"lines\",\"x\":[4.645999908447266,8.95300006866455],\"y\":[1.3580000400543213,1.746000051498413],\"z\":[-2.9240000247955322,-4.380000114440918],\"type\":\"scatter3d\"},{\"hoverinfo\":\"none\",\"line\":{\"color\":\"lightcoral\",\"dash\":\"dash\",\"width\":0.5},\"mode\":\"lines\",\"x\":[4.645999908447266,9.032999992370605],\"y\":[1.3580000400543213,0.5550000071525574],\"z\":[-2.9240000247955322,-4.6529998779296875],\"type\":\"scatter3d\"},{\"hoverinfo\":\"none\",\"line\":{\"color\":\"lightcoral\",\"dash\":\"dash\",\"width\":0.5},\"mode\":\"lines\",\"x\":[4.645999908447266,1.3769999742507935],\"y\":[1.3580000400543213,3.552000045776367],\"z\":[-2.9240000247955322,-2.930999994277954],\"type\":\"scatter3d\"},{\"hoverinfo\":\"none\",\"line\":{\"color\":\"lightcoral\",\"dash\":\"dash\",\"width\":0.5},\"mode\":\"lines\",\"x\":[4.645999908447266,4.25600004196167],\"y\":[1.3580000400543213,3.7790000438690186],\"z\":[-2.9240000247955322,-3.0840001106262207],\"type\":\"scatter3d\"},{\"hoverinfo\":\"none\",\"line\":{\"color\":\"lightcoral\",\"dash\":\"dash\",\"width\":0.5},\"mode\":\"lines\",\"x\":[4.645999908447266,5.005000114440918],\"y\":[1.3580000400543213,4.025000095367432],\"z\":[-2.9240000247955322,-2.1389999389648438],\"type\":\"scatter3d\"},{\"hoverinfo\":\"none\",\"line\":{\"color\":\"lightcoral\",\"dash\":\"dash\",\"width\":0.5},\"mode\":\"lines\",\"x\":[4.645999908447266,7.052000045776367],\"y\":[1.3580000400543213,1.61899995803833],\"z\":[-2.9240000247955322,-2.686000108718872],\"type\":\"scatter3d\"},{\"hoverinfo\":\"none\",\"line\":{\"color\":\"lightcoral\",\"dash\":\"dash\",\"width\":0.5},\"mode\":\"lines\",\"x\":[4.645999908447266,8.342000007629395],\"y\":[1.3580000400543213,2.2049999237060547],\"z\":[-2.9240000247955322,-3.0480000972747803],\"type\":\"scatter3d\"},{\"hoverinfo\":\"none\",\"line\":{\"color\":\"lightcoral\",\"dash\":\"dash\",\"width\":0.5},\"mode\":\"lines\",\"x\":[4.645999908447266,4.531000137329102],\"y\":[1.3580000400543213,6.066999912261963],\"z\":[-2.9240000247955322,-4.224999904632568],\"type\":\"scatter3d\"},{\"hoverinfo\":\"none\",\"line\":{\"color\":\"lightcoral\",\"dash\":\"dash\",\"width\":0.5},\"mode\":\"lines\",\"x\":[4.645999908447266,1.5069999694824219],\"y\":[1.3580000400543213,4.741000175476074],\"z\":[-2.9240000247955322,-2.621000051498413],\"type\":\"scatter3d\"},{\"hoverinfo\":\"none\",\"line\":{\"color\":\"lightcoral\",\"dash\":\"dash\",\"width\":0.5},\"mode\":\"lines\",\"x\":[4.645999908447266,2.5309998989105225],\"y\":[1.3580000400543213,5.482999801635742],\"z\":[-2.9240000247955322,-3.072999954223633],\"type\":\"scatter3d\"},{\"hoverinfo\":\"none\",\"line\":{\"color\":\"lightcoral\",\"dash\":\"dash\",\"width\":0.5},\"mode\":\"lines\",\"x\":[4.645999908447266,3.5920000076293945],\"y\":[1.3580000400543213,4.9039998054504395],\"z\":[-2.9240000247955322,-3.884999990463257],\"type\":\"scatter3d\"},{\"hoverinfo\":\"none\",\"line\":{\"color\":\"lightcoral\",\"dash\":\"dash\",\"width\":0.5},\"mode\":\"lines\",\"x\":[8.342000007629395,6.1519999504089355],\"y\":[2.2049999237060547,1.597000002861023],\"z\":[-3.0480000972747803,-4.75],\"type\":\"scatter3d\"},{\"hoverinfo\":\"none\",\"line\":{\"color\":\"lightcoral\",\"dash\":\"dash\",\"width\":0.5},\"mode\":\"lines\",\"x\":[8.342000007629395,9.463000297546387],\"y\":[2.2049999237060547,2.7300000190734863],\"z\":[-3.0480000972747803,-5.13100004196167],\"type\":\"scatter3d\"},{\"hoverinfo\":\"none\",\"line\":{\"color\":\"lightcoral\",\"dash\":\"dash\",\"width\":0.5},\"mode\":\"lines\",\"x\":[8.342000007629395,10.20300006866455],\"y\":[2.2049999237060547,2.132999897003174],\"z\":[-3.0480000972747803,-7.505000114440918],\"type\":\"scatter3d\"},{\"hoverinfo\":\"none\",\"line\":{\"color\":\"lightcoral\",\"dash\":\"dash\",\"width\":0.5},\"mode\":\"lines\",\"x\":[8.342000007629395,10.565999984741211],\"y\":[2.2049999237060547,2.5840001106262207],\"z\":[-3.0480000972747803,-6.0879998207092285],\"type\":\"scatter3d\"},{\"hoverinfo\":\"none\",\"line\":{\"color\":\"lightcoral\",\"dash\":\"dash\",\"width\":0.5},\"mode\":\"lines\",\"x\":[8.342000007629395,3.930000066757202],\"y\":[2.2049999237060547,2.5299999713897705],\"z\":[-3.0480000972747803,-3.4240000247955322],\"type\":\"scatter3d\"},{\"hoverinfo\":\"none\",\"line\":{\"color\":\"lightcoral\",\"dash\":\"dash\",\"width\":0.5},\"mode\":\"lines\",\"x\":[8.342000007629395,3.944000005722046],\"y\":[2.2049999237060547,0.03500000014901161],\"z\":[-3.0480000972747803,-3.2939999103546143],\"type\":\"scatter3d\"},{\"hoverinfo\":\"none\",\"line\":{\"color\":\"lightcoral\",\"dash\":\"dash\",\"width\":0.5},\"mode\":\"lines\",\"x\":[8.342000007629395,4.25600004196167],\"y\":[2.2049999237060547,3.7790000438690186],\"z\":[-3.0480000972747803,-3.0840001106262207],\"type\":\"scatter3d\"},{\"hoverinfo\":\"none\",\"line\":{\"color\":\"lightcoral\",\"dash\":\"dash\",\"width\":0.5},\"mode\":\"lines\",\"x\":[8.342000007629395,4.645999908447266],\"y\":[2.2049999237060547,1.3580000400543213],\"z\":[-3.0480000972747803,-2.9240000247955322],\"type\":\"scatter3d\"},{\"hoverinfo\":\"none\",\"line\":{\"color\":\"lightcoral\",\"dash\":\"dash\",\"width\":0.5},\"mode\":\"lines\",\"x\":[8.342000007629395,5.005000114440918],\"y\":[2.2049999237060547,4.025000095367432],\"z\":[-3.0480000972747803,-2.1389999389648438],\"type\":\"scatter3d\"},{\"hoverinfo\":\"none\",\"line\":{\"color\":\"lightcoral\",\"dash\":\"dash\",\"width\":0.5},\"mode\":\"lines\",\"x\":[8.342000007629395,6.0370001792907715],\"y\":[2.2049999237060547,1.4780000448226929],\"z\":[-3.0480000972747803,-3.5360000133514404],\"type\":\"scatter3d\"},{\"hoverinfo\":\"none\",\"line\":{\"color\":\"lightcoral\",\"dash\":\"dash\",\"width\":0.5},\"mode\":\"lines\",\"x\":[10.565999984741211,6.1519999504089355],\"y\":[2.5840001106262207,1.597000002861023],\"z\":[-6.0879998207092285,-4.75],\"type\":\"scatter3d\"},{\"hoverinfo\":\"none\",\"line\":{\"color\":\"lightcoral\",\"dash\":\"dash\",\"width\":0.5},\"mode\":\"lines\",\"x\":[10.565999984741211,8.95300006866455],\"y\":[2.5840001106262207,1.746000051498413],\"z\":[-6.0879998207092285,-4.380000114440918],\"type\":\"scatter3d\"},{\"hoverinfo\":\"none\",\"line\":{\"color\":\"lightcoral\",\"dash\":\"dash\",\"width\":0.5},\"mode\":\"lines\",\"x\":[10.565999984741211,9.032999992370605],\"y\":[2.5840001106262207,0.5550000071525574],\"z\":[-6.0879998207092285,-4.6529998779296875],\"type\":\"scatter3d\"},{\"hoverinfo\":\"none\",\"line\":{\"color\":\"lightcoral\",\"dash\":\"dash\",\"width\":0.5},\"mode\":\"lines\",\"x\":[10.565999984741211,9.640000343322754],\"y\":[2.5840001106262207,1.899999976158142],\"z\":[-6.0879998207092285,-10.557000160217285],\"type\":\"scatter3d\"},{\"hoverinfo\":\"none\",\"line\":{\"color\":\"lightcoral\",\"dash\":\"dash\",\"width\":0.5},\"mode\":\"lines\",\"x\":[10.565999984741211,10.17300033569336],\"y\":[2.5840001106262207,3.0910000801086426],\"z\":[-6.0879998207092285,-8.437000274658203],\"type\":\"scatter3d\"},{\"hoverinfo\":\"none\",\"line\":{\"color\":\"lightcoral\",\"dash\":\"dash\",\"width\":0.5},\"mode\":\"lines\",\"x\":[10.565999984741211,10.538000106811523],\"y\":[2.5840001106262207,2.940000057220459],\"z\":[-6.0879998207092285,-9.854000091552734],\"type\":\"scatter3d\"},{\"hoverinfo\":\"none\",\"line\":{\"color\":\"lightcoral\",\"dash\":\"dash\",\"width\":0.5},\"mode\":\"lines\",\"x\":[10.565999984741211,7.052000045776367],\"y\":[2.5840001106262207,1.61899995803833],\"z\":[-6.0879998207092285,-2.686000108718872],\"type\":\"scatter3d\"},{\"hoverinfo\":\"none\",\"line\":{\"color\":\"lightcoral\",\"dash\":\"dash\",\"width\":0.5},\"mode\":\"lines\",\"x\":[10.565999984741211,8.342000007629395],\"y\":[2.5840001106262207,2.2049999237060547],\"z\":[-6.0879998207092285,-3.0480000972747803],\"type\":\"scatter3d\"},{\"hoverinfo\":\"none\",\"line\":{\"color\":\"lightcoral\",\"dash\":\"dash\",\"width\":0.5},\"mode\":\"lines\",\"x\":[10.565999984741211,10.357999801635742],\"y\":[2.5840001106262207,4.315000057220459],\"z\":[-6.0879998207092285,-10.538000106811523],\"type\":\"scatter3d\"},{\"hoverinfo\":\"none\",\"line\":{\"color\":\"lightcoral\",\"dash\":\"dash\",\"width\":0.5},\"mode\":\"lines\",\"x\":[10.565999984741211,12.940999984741211],\"y\":[2.5840001106262207,5.677000045776367],\"z\":[-6.0879998207092285,-8.744000434875488],\"type\":\"scatter3d\"},{\"hoverinfo\":\"none\",\"line\":{\"color\":\"lightcoral\",\"dash\":\"dash\",\"width\":0.5},\"mode\":\"lines\",\"x\":[10.538000106811523,9.463000297546387],\"y\":[2.940000057220459,2.7300000190734863],\"z\":[-9.854000091552734,-5.13100004196167],\"type\":\"scatter3d\"},{\"hoverinfo\":\"none\",\"line\":{\"color\":\"lightcoral\",\"dash\":\"dash\",\"width\":0.5},\"mode\":\"lines\",\"x\":[10.538000106811523,10.041999816894531],\"y\":[2.940000057220459,0.9430000185966492],\"z\":[-9.854000091552734,-7.749000072479248],\"type\":\"scatter3d\"},{\"hoverinfo\":\"none\",\"line\":{\"color\":\"lightcoral\",\"dash\":\"dash\",\"width\":0.5},\"mode\":\"lines\",\"x\":[10.538000106811523,10.20300006866455],\"y\":[2.940000057220459,2.132999897003174],\"z\":[-9.854000091552734,-7.505000114440918],\"type\":\"scatter3d\"},{\"hoverinfo\":\"none\",\"line\":{\"color\":\"lightcoral\",\"dash\":\"dash\",\"width\":0.5},\"mode\":\"lines\",\"x\":[10.538000106811523,10.565999984741211],\"y\":[2.940000057220459,2.5840001106262207],\"z\":[-9.854000091552734,-6.0879998207092285],\"type\":\"scatter3d\"},{\"hoverinfo\":\"none\",\"line\":{\"color\":\"lightcoral\",\"dash\":\"dash\",\"width\":0.5},\"mode\":\"lines\",\"x\":[10.538000106811523,11.185999870300293],\"y\":[2.940000057220459,6.309000015258789],\"z\":[-9.854000091552734,-11.66100025177002],\"type\":\"scatter3d\"},{\"hoverinfo\":\"none\",\"line\":{\"color\":\"lightcoral\",\"dash\":\"dash\",\"width\":0.5},\"mode\":\"lines\",\"x\":[10.538000106811523,11.402999877929688],\"y\":[2.940000057220459,5.048999786376953],\"z\":[-9.854000091552734,-10.979000091552734],\"type\":\"scatter3d\"},{\"hoverinfo\":\"none\",\"line\":{\"color\":\"lightcoral\",\"dash\":\"dash\",\"width\":0.5},\"mode\":\"lines\",\"x\":[10.538000106811523,12.251999855041504],\"y\":[2.940000057220459,6.353000164031982],\"z\":[-9.854000091552734,-12.73900032043457],\"type\":\"scatter3d\"},{\"hoverinfo\":\"none\",\"line\":{\"color\":\"lightcoral\",\"dash\":\"dash\",\"width\":0.5},\"mode\":\"lines\",\"x\":[10.538000106811523,12.852999687194824],\"y\":[2.940000057220459,4.783999919891357],\"z\":[-9.854000091552734,-10.972000122070312],\"type\":\"scatter3d\"},{\"hoverinfo\":\"none\",\"line\":{\"color\":\"lightcoral\",\"dash\":\"dash\",\"width\":0.5},\"mode\":\"lines\",\"x\":[10.538000106811523,12.940999984741211],\"y\":[2.940000057220459,5.677000045776367],\"z\":[-9.854000091552734,-8.744000434875488],\"type\":\"scatter3d\"},{\"hoverinfo\":\"none\",\"line\":{\"color\":\"lightcoral\",\"dash\":\"dash\",\"width\":0.5},\"mode\":\"lines\",\"x\":[10.538000106811523,13.451000213623047],\"y\":[2.940000057220459,5.710000038146973],\"z\":[-9.854000091552734,-12.048999786376953],\"type\":\"scatter3d\"},{\"hoverinfo\":\"none\",\"line\":{\"color\":\"lightcoral\",\"dash\":\"dash\",\"width\":0.5},\"mode\":\"lines\",\"x\":[10.538000106811523,13.557999610900879],\"y\":[2.940000057220459,5.047999858856201],\"z\":[-9.854000091552734,-9.633000373840332],\"type\":\"scatter3d\"},{\"hoverinfo\":\"none\",\"line\":{\"color\":\"lightcoral\",\"dash\":\"dash\",\"width\":0.5},\"mode\":\"lines\",\"x\":[10.538000106811523,14.72599983215332],\"y\":[2.940000057220459,4.617000102996826],\"z\":[-9.854000091552734,-9.553000450134277],\"type\":\"scatter3d\"},{\"hoverinfo\":\"none\",\"line\":{\"color\":\"lightcoral\",\"dash\":\"dash\",\"width\":0.5},\"mode\":\"lines\",\"x\":[12.852999687194824,9.640000343322754],\"y\":[4.783999919891357,1.899999976158142],\"z\":[-10.972000122070312,-10.557000160217285],\"type\":\"scatter3d\"},{\"hoverinfo\":\"none\",\"line\":{\"color\":\"lightcoral\",\"dash\":\"dash\",\"width\":0.5},\"mode\":\"lines\",\"x\":[12.852999687194824,10.17300033569336],\"y\":[4.783999919891357,3.0910000801086426],\"z\":[-10.972000122070312,-8.437000274658203],\"type\":\"scatter3d\"},{\"hoverinfo\":\"none\",\"line\":{\"color\":\"lightcoral\",\"dash\":\"dash\",\"width\":0.5},\"mode\":\"lines\",\"x\":[12.852999687194824,10.538000106811523],\"y\":[4.783999919891357,2.940000057220459],\"z\":[-10.972000122070312,-9.854000091552734],\"type\":\"scatter3d\"},{\"hoverinfo\":\"none\",\"line\":{\"color\":\"lightcoral\",\"dash\":\"dash\",\"width\":0.5},\"mode\":\"lines\",\"x\":[12.852999687194824,9.20199966430664],\"y\":[4.783999919891357,4.729000091552734],\"z\":[-10.972000122070312,-10.6850004196167],\"type\":\"scatter3d\"},{\"hoverinfo\":\"none\",\"line\":{\"color\":\"lightcoral\",\"dash\":\"dash\",\"width\":0.5},\"mode\":\"lines\",\"x\":[12.852999687194824,10.357999801635742],\"y\":[4.783999919891357,4.315000057220459],\"z\":[-10.972000122070312,-10.538000106811523],\"type\":\"scatter3d\"}],                        {\"height\":900,\"legend\":{\"title\":{\"text\":\"Amino Acids & Connections\"}},\"scene\":{\"xaxis\":{\"title\":{\"text\":\"X\"}},\"yaxis\":{\"title\":{\"text\":\"Y\"}},\"zaxis\":{\"title\":{\"text\":\"Z\"}}},\"title\":{\"text\":\"3D Protein Structure with Backbone and Interactions\"},\"width\":1200,\"template\":{\"data\":{\"histogram2dcontour\":[{\"type\":\"histogram2dcontour\",\"colorbar\":{\"outlinewidth\":0,\"ticks\":\"\"},\"colorscale\":[[0.0,\"#0d0887\"],[0.1111111111111111,\"#46039f\"],[0.2222222222222222,\"#7201a8\"],[0.3333333333333333,\"#9c179e\"],[0.4444444444444444,\"#bd3786\"],[0.5555555555555556,\"#d8576b\"],[0.6666666666666666,\"#ed7953\"],[0.7777777777777778,\"#fb9f3a\"],[0.8888888888888888,\"#fdca26\"],[1.0,\"#f0f921\"]]}],\"choropleth\":[{\"type\":\"choropleth\",\"colorbar\":{\"outlinewidth\":0,\"ticks\":\"\"}}],\"histogram2d\":[{\"type\":\"histogram2d\",\"colorbar\":{\"outlinewidth\":0,\"ticks\":\"\"},\"colorscale\":[[0.0,\"#0d0887\"],[0.1111111111111111,\"#46039f\"],[0.2222222222222222,\"#7201a8\"],[0.3333333333333333,\"#9c179e\"],[0.4444444444444444,\"#bd3786\"],[0.5555555555555556,\"#d8576b\"],[0.6666666666666666,\"#ed7953\"],[0.7777777777777778,\"#fb9f3a\"],[0.8888888888888888,\"#fdca26\"],[1.0,\"#f0f921\"]]}],\"heatmap\":[{\"type\":\"heatmap\",\"colorbar\":{\"outlinewidth\":0,\"ticks\":\"\"},\"colorscale\":[[0.0,\"#0d0887\"],[0.1111111111111111,\"#46039f\"],[0.2222222222222222,\"#7201a8\"],[0.3333333333333333,\"#9c179e\"],[0.4444444444444444,\"#bd3786\"],[0.5555555555555556,\"#d8576b\"],[0.6666666666666666,\"#ed7953\"],[0.7777777777777778,\"#fb9f3a\"],[0.8888888888888888,\"#fdca26\"],[1.0,\"#f0f921\"]]}],\"heatmapgl\":[{\"type\":\"heatmapgl\",\"colorbar\":{\"outlinewidth\":0,\"ticks\":\"\"},\"colorscale\":[[0.0,\"#0d0887\"],[0.1111111111111111,\"#46039f\"],[0.2222222222222222,\"#7201a8\"],[0.3333333333333333,\"#9c179e\"],[0.4444444444444444,\"#bd3786\"],[0.5555555555555556,\"#d8576b\"],[0.6666666666666666,\"#ed7953\"],[0.7777777777777778,\"#fb9f3a\"],[0.8888888888888888,\"#fdca26\"],[1.0,\"#f0f921\"]]}],\"contourcarpet\":[{\"type\":\"contourcarpet\",\"colorbar\":{\"outlinewidth\":0,\"ticks\":\"\"}}],\"contour\":[{\"type\":\"contour\",\"colorbar\":{\"outlinewidth\":0,\"ticks\":\"\"},\"colorscale\":[[0.0,\"#0d0887\"],[0.1111111111111111,\"#46039f\"],[0.2222222222222222,\"#7201a8\"],[0.3333333333333333,\"#9c179e\"],[0.4444444444444444,\"#bd3786\"],[0.5555555555555556,\"#d8576b\"],[0.6666666666666666,\"#ed7953\"],[0.7777777777777778,\"#fb9f3a\"],[0.8888888888888888,\"#fdca26\"],[1.0,\"#f0f921\"]]}],\"surface\":[{\"type\":\"surface\",\"colorbar\":{\"outlinewidth\":0,\"ticks\":\"\"},\"colorscale\":[[0.0,\"#0d0887\"],[0.1111111111111111,\"#46039f\"],[0.2222222222222222,\"#7201a8\"],[0.3333333333333333,\"#9c179e\"],[0.4444444444444444,\"#bd3786\"],[0.5555555555555556,\"#d8576b\"],[0.6666666666666666,\"#ed7953\"],[0.7777777777777778,\"#fb9f3a\"],[0.8888888888888888,\"#fdca26\"],[1.0,\"#f0f921\"]]}],\"mesh3d\":[{\"type\":\"mesh3d\",\"colorbar\":{\"outlinewidth\":0,\"ticks\":\"\"}}],\"scatter\":[{\"fillpattern\":{\"fillmode\":\"overlay\",\"size\":10,\"solidity\":0.2},\"type\":\"scatter\"}],\"parcoords\":[{\"type\":\"parcoords\",\"line\":{\"colorbar\":{\"outlinewidth\":0,\"ticks\":\"\"}}}],\"scatterpolargl\":[{\"type\":\"scatterpolargl\",\"marker\":{\"colorbar\":{\"outlinewidth\":0,\"ticks\":\"\"}}}],\"bar\":[{\"error_x\":{\"color\":\"#2a3f5f\"},\"error_y\":{\"color\":\"#2a3f5f\"},\"marker\":{\"line\":{\"color\":\"#E5ECF6\",\"width\":0.5},\"pattern\":{\"fillmode\":\"overlay\",\"size\":10,\"solidity\":0.2}},\"type\":\"bar\"}],\"scattergeo\":[{\"type\":\"scattergeo\",\"marker\":{\"colorbar\":{\"outlinewidth\":0,\"ticks\":\"\"}}}],\"scatterpolar\":[{\"type\":\"scatterpolar\",\"marker\":{\"colorbar\":{\"outlinewidth\":0,\"ticks\":\"\"}}}],\"histogram\":[{\"marker\":{\"pattern\":{\"fillmode\":\"overlay\",\"size\":10,\"solidity\":0.2}},\"type\":\"histogram\"}],\"scattergl\":[{\"type\":\"scattergl\",\"marker\":{\"colorbar\":{\"outlinewidth\":0,\"ticks\":\"\"}}}],\"scatter3d\":[{\"type\":\"scatter3d\",\"line\":{\"colorbar\":{\"outlinewidth\":0,\"ticks\":\"\"}},\"marker\":{\"colorbar\":{\"outlinewidth\":0,\"ticks\":\"\"}}}],\"scattermapbox\":[{\"type\":\"scattermapbox\",\"marker\":{\"colorbar\":{\"outlinewidth\":0,\"ticks\":\"\"}}}],\"scatterternary\":[{\"type\":\"scatterternary\",\"marker\":{\"colorbar\":{\"outlinewidth\":0,\"ticks\":\"\"}}}],\"scattercarpet\":[{\"type\":\"scattercarpet\",\"marker\":{\"colorbar\":{\"outlinewidth\":0,\"ticks\":\"\"}}}],\"carpet\":[{\"aaxis\":{\"endlinecolor\":\"#2a3f5f\",\"gridcolor\":\"white\",\"linecolor\":\"white\",\"minorgridcolor\":\"white\",\"startlinecolor\":\"#2a3f5f\"},\"baxis\":{\"endlinecolor\":\"#2a3f5f\",\"gridcolor\":\"white\",\"linecolor\":\"white\",\"minorgridcolor\":\"white\",\"startlinecolor\":\"#2a3f5f\"},\"type\":\"carpet\"}],\"table\":[{\"cells\":{\"fill\":{\"color\":\"#EBF0F8\"},\"line\":{\"color\":\"white\"}},\"header\":{\"fill\":{\"color\":\"#C8D4E3\"},\"line\":{\"color\":\"white\"}},\"type\":\"table\"}],\"barpolar\":[{\"marker\":{\"line\":{\"color\":\"#E5ECF6\",\"width\":0.5},\"pattern\":{\"fillmode\":\"overlay\",\"size\":10,\"solidity\":0.2}},\"type\":\"barpolar\"}],\"pie\":[{\"automargin\":true,\"type\":\"pie\"}]},\"layout\":{\"autotypenumbers\":\"strict\",\"colorway\":[\"#636efa\",\"#EF553B\",\"#00cc96\",\"#ab63fa\",\"#FFA15A\",\"#19d3f3\",\"#FF6692\",\"#B6E880\",\"#FF97FF\",\"#FECB52\"],\"font\":{\"color\":\"#2a3f5f\"},\"hovermode\":\"closest\",\"hoverlabel\":{\"align\":\"left\"},\"paper_bgcolor\":\"white\",\"plot_bgcolor\":\"#E5ECF6\",\"polar\":{\"bgcolor\":\"#E5ECF6\",\"angularaxis\":{\"gridcolor\":\"white\",\"linecolor\":\"white\",\"ticks\":\"\"},\"radialaxis\":{\"gridcolor\":\"white\",\"linecolor\":\"white\",\"ticks\":\"\"}},\"ternary\":{\"bgcolor\":\"#E5ECF6\",\"aaxis\":{\"gridcolor\":\"white\",\"linecolor\":\"white\",\"ticks\":\"\"},\"baxis\":{\"gridcolor\":\"white\",\"linecolor\":\"white\",\"ticks\":\"\"},\"caxis\":{\"gridcolor\":\"white\",\"linecolor\":\"white\",\"ticks\":\"\"}},\"coloraxis\":{\"colorbar\":{\"outlinewidth\":0,\"ticks\":\"\"}},\"colorscale\":{\"sequential\":[[0.0,\"#0d0887\"],[0.1111111111111111,\"#46039f\"],[0.2222222222222222,\"#7201a8\"],[0.3333333333333333,\"#9c179e\"],[0.4444444444444444,\"#bd3786\"],[0.5555555555555556,\"#d8576b\"],[0.6666666666666666,\"#ed7953\"],[0.7777777777777778,\"#fb9f3a\"],[0.8888888888888888,\"#fdca26\"],[1.0,\"#f0f921\"]],\"sequentialminus\":[[0.0,\"#0d0887\"],[0.1111111111111111,\"#46039f\"],[0.2222222222222222,\"#7201a8\"],[0.3333333333333333,\"#9c179e\"],[0.4444444444444444,\"#bd3786\"],[0.5555555555555556,\"#d8576b\"],[0.6666666666666666,\"#ed7953\"],[0.7777777777777778,\"#fb9f3a\"],[0.8888888888888888,\"#fdca26\"],[1.0,\"#f0f921\"]],\"diverging\":[[0,\"#8e0152\"],[0.1,\"#c51b7d\"],[0.2,\"#de77ae\"],[0.3,\"#f1b6da\"],[0.4,\"#fde0ef\"],[0.5,\"#f7f7f7\"],[0.6,\"#e6f5d0\"],[0.7,\"#b8e186\"],[0.8,\"#7fbc41\"],[0.9,\"#4d9221\"],[1,\"#276419\"]]},\"xaxis\":{\"gridcolor\":\"white\",\"linecolor\":\"white\",\"ticks\":\"\",\"title\":{\"standoff\":15},\"zerolinecolor\":\"white\",\"automargin\":true,\"zerolinewidth\":2},\"yaxis\":{\"gridcolor\":\"white\",\"linecolor\":\"white\",\"ticks\":\"\",\"title\":{\"standoff\":15},\"zerolinecolor\":\"white\",\"automargin\":true,\"zerolinewidth\":2},\"scene\":{\"xaxis\":{\"backgroundcolor\":\"#E5ECF6\",\"gridcolor\":\"white\",\"linecolor\":\"white\",\"showbackground\":true,\"ticks\":\"\",\"zerolinecolor\":\"white\",\"gridwidth\":2},\"yaxis\":{\"backgroundcolor\":\"#E5ECF6\",\"gridcolor\":\"white\",\"linecolor\":\"white\",\"showbackground\":true,\"ticks\":\"\",\"zerolinecolor\":\"white\",\"gridwidth\":2},\"zaxis\":{\"backgroundcolor\":\"#E5ECF6\",\"gridcolor\":\"white\",\"linecolor\":\"white\",\"showbackground\":true,\"ticks\":\"\",\"zerolinecolor\":\"white\",\"gridwidth\":2}},\"shapedefaults\":{\"line\":{\"color\":\"#2a3f5f\"}},\"annotationdefaults\":{\"arrowcolor\":\"#2a3f5f\",\"arrowhead\":0,\"arrowwidth\":1},\"geo\":{\"bgcolor\":\"white\",\"landcolor\":\"#E5ECF6\",\"subunitcolor\":\"white\",\"showland\":true,\"showlakes\":true,\"lakecolor\":\"white\"},\"title\":{\"x\":0.05},\"mapbox\":{\"style\":\"light\"}}}},                        {\"responsive\": true}                    ).then(function(){\n",
       "                            \n",
       "var gd = document.getElementById('a9e08e87-9b3a-44ef-9cee-36b109f9c8cf');\n",
       "var x = new MutationObserver(function (mutations, observer) {{\n",
       "        var display = window.getComputedStyle(gd).display;\n",
       "        if (!display || display === 'none') {{\n",
       "            console.log([gd, 'removed!']);\n",
       "            Plotly.purge(gd);\n",
       "            observer.disconnect();\n",
       "        }}\n",
       "}});\n",
       "\n",
       "// Listen for the removal of the full notebook cells\n",
       "var notebookContainer = gd.closest('#notebook-container');\n",
       "if (notebookContainer) {{\n",
       "    x.observe(notebookContainer, {childList: true});\n",
       "}}\n",
       "\n",
       "// Listen for the clearing of the current output cell\n",
       "var outputEl = gd.closest('.output');\n",
       "if (outputEl) {{\n",
       "    x.observe(outputEl, {childList: true});\n",
       "}}\n",
       "\n",
       "                        })                };                });            </script>        </div>"
      ]
     },
     "metadata": {},
     "output_type": "display_data"
    }
   ],
   "execution_count": 31
  },
  {
   "cell_type": "markdown",
   "metadata": {},
   "source": [
    "## Neighborhood informations\n",
    "\n",
    "For a more accurate 3d structure we can also look for the neighborhood informations. The neighborhood informations include the carbon backbone, that is basically whoch aminoacid is connected to which aminoacid and the non-covalent interactions, that are interaction between atoms not directly connected among each other but that cause for the atoms to be closer within each other in the 3d space. "
   ]
  },
  {
   "cell_type": "code",
   "metadata": {
    "ExecuteTime": {
     "end_time": "2024-11-05T16:59:33.363803Z",
     "start_time": "2024-11-05T16:59:33.354211Z"
    }
   },
   "source": [
    "# Initialize lists to store connections\n",
    "backbone_connections = []\n",
    "non_covalent_interactions = []\n",
    "\n",
    "# Non-covalent interactions using NeighborSearch\n",
    "atom_list = [atom for atom in structure.get_atoms()]\n",
    "neighbor_search = NeighborSearch(atom_list)\n",
    "\n",
    "for res in structure.get_residues():\n",
    "    if 'CA' in res:\n",
    "        center = res['CA'].get_coord()  # Use C-alpha as central atom for each residue\n",
    "        neighbors = neighbor_search.search(center, 5.0)  # Find atoms within 5 Å radius\n",
    "\n",
    "        for neighbor in neighbors:\n",
    "            if neighbor.get_parent() != res and neighbor.element != 'H':  # Avoid self and hydrogen atoms\n",
    "                non_covalent_interactions.append((res, neighbor.get_parent()))\n",
    "\n",
    "# Print or analyze the connections\n",
    "print(\"Backbone Connections (Peptide Bonds):\")\n",
    "for res1, res2 in backbone_connections:\n",
    "    print(f\"{res1.get_resname()} {res1.id[1]} - {res2.get_resname()} {res2.id[1]}\")\n",
    "\n",
    "print(\"\\nNon-Covalent Interactions:\")\n",
    "for res1, res2 in non_covalent_interactions:\n",
    "    print(f\"{res1.get_resname()} {res1.id[1]} - {res2.get_resname()} {res2.id[1]}\")\n"
   ],
   "outputs": [
    {
     "name": "stdout",
     "output_type": "stream",
     "text": [
      "Backbone Connections (Peptide Bonds):\n",
      "\n",
      "Non-Covalent Interactions:\n",
      "GLY 1 - VAL 3\n",
      "GLY 1 - PRO 2\n",
      "GLY 1 - PRO 2\n",
      "GLY 1 - PRO 2\n",
      "GLY 1 - PRO 2\n",
      "GLY 1 - PRO 2\n",
      "GLY 1 - PRO 2\n",
      "PRO 2 - VAL 3\n",
      "PRO 2 - VAL 3\n",
      "PRO 2 - GLY 4\n",
      "PRO 2 - VAL 3\n",
      "PRO 2 - GLY 1\n",
      "PRO 2 - GLY 1\n",
      "PRO 2 - VAL 3\n",
      "PRO 2 - GLY 1\n",
      "PRO 2 - VAL 3\n",
      "PRO 2 - GLY 1\n",
      "VAL 3 - GLY 4\n",
      "VAL 3 - GLY 1\n",
      "VAL 3 - GLY 1\n",
      "VAL 3 - PRO 2\n",
      "VAL 3 - PRO 2\n",
      "VAL 3 - PRO 2\n",
      "VAL 3 - PRO 2\n",
      "VAL 3 - GLY 4\n",
      "GLY 4 - VAL 3\n",
      "GLY 4 - VAL 3\n",
      "GLY 4 - LEU 5\n",
      "GLY 4 - LEU 5\n",
      "GLY 4 - LEU 5\n",
      "GLY 4 - LEU 5\n",
      "GLY 4 - VAL 3\n",
      "GLY 4 - VAL 3\n",
      "GLY 4 - VAL 3\n",
      "GLY 4 - PRO 2\n",
      "GLY 4 - PRO 2\n",
      "GLY 4 - LEU 6\n",
      "GLY 4 - LEU 5\n",
      "LEU 5 - GLY 4\n",
      "LEU 5 - LEU 6\n",
      "LEU 5 - LEU 6\n",
      "LEU 5 - GLY 4\n",
      "LEU 5 - LEU 6\n",
      "LEU 5 - LEU 6\n",
      "LEU 5 - LEU 6\n",
      "LEU 5 - GLY 4\n",
      "LEU 5 - GLY 4\n",
      "LEU 5 - SER 7\n",
      "LEU 6 - LEU 5\n",
      "LEU 6 - LEU 5\n",
      "LEU 6 - LEU 5\n",
      "LEU 6 - LEU 5\n",
      "LEU 6 - SER 7\n",
      "LEU 6 - SER 7\n",
      "LEU 6 - SER 7\n",
      "LEU 6 - GLY 4\n",
      "LEU 6 - SER 7\n",
      "LEU 6 - SER 7\n",
      "LEU 6 - SER 7\n",
      "SER 7 - LEU 6\n",
      "SER 7 - LEU 5\n",
      "SER 7 - LEU 5\n",
      "SER 7 - SER 8\n",
      "SER 7 - SER 8\n",
      "SER 7 - SER 8\n",
      "SER 7 - SER 8\n",
      "SER 7 - SER 11\n",
      "SER 7 - LEU 6\n",
      "SER 7 - LEU 6\n",
      "SER 7 - LEU 6\n",
      "SER 7 - LEU 6\n",
      "SER 7 - SER 8\n",
      "SER 7 - SER 11\n",
      "SER 8 - SER 7\n",
      "SER 8 - PRO 9\n",
      "SER 8 - PRO 9\n",
      "SER 8 - PRO 9\n",
      "SER 8 - PRO 9\n",
      "SER 8 - PRO 9\n",
      "SER 8 - PRO 9\n",
      "SER 8 - PRO 9\n",
      "SER 8 - GLY 10\n",
      "SER 8 - SER 11\n",
      "SER 8 - LEU 6\n",
      "SER 8 - LEU 6\n",
      "SER 8 - SER 7\n",
      "SER 8 - SER 7\n",
      "SER 8 - SER 7\n",
      "SER 8 - SER 7\n",
      "SER 8 - SER 11\n",
      "SER 8 - SER 11\n",
      "PRO 9 - SER 8\n",
      "PRO 9 - SER 8\n",
      "PRO 9 - SER 8\n",
      "PRO 9 - SER 8\n",
      "PRO 9 - GLY 10\n",
      "PRO 9 - GLY 10\n",
      "PRO 9 - SER 7\n",
      "PRO 9 - SER 8\n",
      "PRO 9 - SER 11\n",
      "PRO 9 - GLY 10\n",
      "GLY 10 - PRO 9\n",
      "GLY 10 - PRO 9\n",
      "GLY 10 - PRO 9\n",
      "GLY 10 - SER 8\n",
      "GLY 10 - PRO 9\n",
      "GLY 10 - PRO 9\n",
      "GLY 10 - SER 8\n",
      "GLY 10 - SER 11\n",
      "GLY 10 - LEU 12\n",
      "GLY 10 - SER 11\n",
      "GLY 10 - SER 11\n",
      "GLY 10 - SER 11\n",
      "SER 11 - SER 8\n",
      "SER 11 - SER 8\n",
      "SER 11 - GLY 10\n",
      "SER 11 - GLY 10\n",
      "SER 11 - LEU 12\n",
      "SER 11 - LEU 12\n",
      "SER 11 - GLY 10\n",
      "SER 11 - GLY 10\n",
      "SER 11 - LEU 12\n",
      "SER 11 - LEU 12\n",
      "SER 11 - LEU 12\n",
      "LEU 12 - PRO 13\n",
      "LEU 12 - PRO 13\n",
      "LEU 12 - PRO 13\n",
      "LEU 12 - SER 11\n",
      "LEU 12 - GLY 10\n",
      "LEU 12 - GLY 10\n",
      "LEU 12 - SER 11\n",
      "LEU 12 - SER 11\n",
      "LEU 12 - SER 11\n",
      "LEU 12 - SER 11\n",
      "LEU 12 - PRO 13\n",
      "LEU 12 - PRO 13\n",
      "LEU 12 - PRO 13\n",
      "LEU 12 - PRO 13\n",
      "PRO 13 - LEU 12\n",
      "PRO 13 - LEU 12\n",
      "PRO 13 - VAL 15\n",
      "PRO 13 - PRO 14\n",
      "PRO 13 - PRO 14\n",
      "PRO 13 - LEU 12\n",
      "PRO 13 - PRO 14\n",
      "PRO 13 - LEU 12\n",
      "PRO 13 - LEU 12\n",
      "PRO 13 - PRO 14\n",
      "PRO 13 - PRO 14\n",
      "PRO 13 - PRO 14\n",
      "PRO 13 - PRO 14\n",
      "PRO 14 - VAL 15\n",
      "PRO 14 - PRO 13\n",
      "PRO 14 - VAL 15\n",
      "PRO 14 - VAL 15\n",
      "PRO 14 - VAL 15\n",
      "PRO 14 - VAL 15\n",
      "PRO 14 - GLY 16\n",
      "PRO 14 - LEU 12\n",
      "PRO 14 - LEU 12\n",
      "PRO 14 - PRO 13\n",
      "PRO 14 - PRO 13\n",
      "PRO 14 - PRO 13\n",
      "PRO 14 - PRO 13\n",
      "VAL 15 - GLY 16\n",
      "VAL 15 - GLY 16\n",
      "VAL 15 - PRO 13\n",
      "VAL 15 - PRO 14\n",
      "VAL 15 - PRO 14\n",
      "VAL 15 - GLY 16\n",
      "VAL 15 - GLY 16\n",
      "VAL 15 - PRO 14\n",
      "VAL 15 - PRO 13\n",
      "VAL 15 - PRO 14\n",
      "VAL 15 - PRO 14\n",
      "GLY 16 - VAL 15\n",
      "GLY 16 - GLY 17\n",
      "GLY 16 - GLY 17\n",
      "GLY 16 - GLY 17\n",
      "GLY 16 - VAL 15\n",
      "GLY 16 - VAL 15\n",
      "GLY 16 - PRO 14\n",
      "GLY 16 - VAL 15\n",
      "GLY 16 - PRO 14\n",
      "GLY 16 - VAL 15\n",
      "GLY 17 - VAL 15\n",
      "GLY 17 - GLY 16\n",
      "GLY 17 - GLY 16\n",
      "GLY 17 - ALA 18\n",
      "GLY 17 - ALA 18\n",
      "GLY 17 - ALA 18\n",
      "GLY 17 - GLY 16\n",
      "GLY 17 - GLY 16\n",
      "GLY 17 - ALA 18\n",
      "GLY 17 - PRO 19\n",
      "ALA 18 - GLY 17\n",
      "ALA 18 - GLY 17\n",
      "ALA 18 - GLY 17\n",
      "ALA 18 - GLY 17\n",
      "ALA 18 - PRO 19\n",
      "ALA 18 - PRO 19\n",
      "ALA 18 - PRO 19\n",
      "ALA 18 - PRO 19\n",
      "ALA 18 - PRO 19\n",
      "ALA 18 - PRO 19\n",
      "ALA 18 - PRO 19\n",
      "ALA 18 - PRO 19\n",
      "PRO 19 - ALA 18\n",
      "PRO 19 - ALA 18\n",
      "PRO 19 - ALA 18\n",
      "PRO 19 - ALA 18\n",
      "PRO 19 - ALA 18\n"
     ]
    }
   ],
   "execution_count": 27
  },
  {
   "cell_type": "markdown",
   "metadata": {},
   "source": [
    "This new found informations can be included in the 3d structure for a better estimate"
   ]
  },
  {
   "cell_type": "code",
   "metadata": {
    "ExecuteTime": {
     "end_time": "2024-11-05T16:59:37.604605Z",
     "start_time": "2024-11-05T16:59:36.933885Z"
    }
   },
   "source": [
    "  # Import for creating dummy lines in legend\n",
    "\n",
    "# Backbone and interaction extraction\n",
    "backbone_connections = []\n",
    "non_covalent_interactions = []\n",
    "\n",
    "for model in structure:\n",
    "    for chain in model:\n",
    "        residues = list(chain)\n",
    "        for i in range(len(residues) - 1):\n",
    "            res1 = residues[i]\n",
    "            res2 = residues[i + 1]\n",
    "            if 'CA' in res1 and 'CA' in res2:\n",
    "                ca1 = res1['CA'].get_coord()\n",
    "                ca2 = res2['CA'].get_coord()\n",
    "                if np.linalg.norm(ca1 - ca2) < 4.0:  # Peptide bond threshold\n",
    "                    backbone_connections.append((ca1, ca2))\n",
    "\n",
    "# Non-covalent interaction search\n",
    "atom_list = [atom for atom in structure.get_atoms()]\n",
    "neighbor_search = NeighborSearch(atom_list)\n",
    "\n",
    "for res in structure.get_residues():\n",
    "    if 'CA' in res:\n",
    "        center = res['CA'].get_coord()\n",
    "        neighbors = neighbor_search.search(center, 5.0)  # 5 Å radius\n",
    "        for neighbor in neighbors:\n",
    "            if neighbor.get_parent() != res and neighbor.element != 'H':\n",
    "                non_covalent_interactions.append((center, neighbor.get_coord()))\n",
    "\n",
    "# Plotting 3D structure with backbone and interactions\n",
    "fig = plt.figure(figsize=(12, 8))\n",
    "ax = fig.add_subplot(111, projection='3d')\n",
    "\n",
    "# Plot each C-alpha with color and size, but without setting label here\n",
    "for i, row in c_alpha_df.iterrows():\n",
    "    x, y, z = row['X'], row['Y'], row['Z']\n",
    "    aa = row['AA']\n",
    "    mass = (row['Mass'] - c_alpha_df['Mass'].min()) / (c_alpha_df['Mass'].max() - c_alpha_df['Mass'].min()) * 200 + 20\n",
    "    ax.scatter(x, y, z, s=mass, color=color_map.get(aa, 'black'))\n",
    "\n",
    "# Plot backbone connections (darker, thicker lines)\n",
    "for start, end in backbone_connections:\n",
    "    ax.plot([start[0], end[0]], [start[1], end[1]], [start[2], end[2]], \n",
    "            color=\"darkgrey\", linewidth=2, alpha=0.8)\n",
    "\n",
    "# Plot non-covalent interactions (lighter, thinner lines)\n",
    "for start, end in non_covalent_interactions:\n",
    "    ax.plot([start[0], end[0]], [start[1], end[1]], [start[2], end[2]], \n",
    "            color=\"lightcoral\", linestyle=\"--\", linewidth=0.5, alpha=0.6)\n",
    "\n",
    "# Separate legend for amino acids with full names using dummy points\n",
    "for aa, color in color_map.items():\n",
    "    aa_full_name = aa_name_map.get(aa, 'Unknown')\n",
    "    ax.scatter([], [], [], color=color, label=aa_full_name)  # Dummy point for legend\n",
    "\n",
    "# Create dummy lines for backbone and non-covalent interactions in the legend\n",
    "backbone_line = mlines.Line2D([], [], color=\"darkgrey\", linewidth=2, label=\"Backbone\")\n",
    "interaction_line = mlines.Line2D([], [], color=\"lightcoral\", linestyle=\"--\", linewidth=0.5, label=\"Non-Covalent Interaction\")\n",
    "white_space= mlines.Line2D([], [], color=\"white\", linestyle=\"--\", linewidth=0.5, label=\" \")\n",
    "\n",
    "# Add dummy lines to the legend\n",
    "plt.legend(handles=[backbone_line, interaction_line, white_space] + [mlines.Line2D([], [], color=color, marker='o', linestyle='', markersize=10, label=aa_name_map[aa]) for aa, color in color_map.items()],\n",
    "           title=\"Amino Acids & Connections\", loc=\"upper left\", bbox_to_anchor=(1, 1), markerscale=1.2)\n",
    "\n",
    "# Customize plot appearance\n",
    "ax.set_title(\"3D Protein Structure with Backbone and Interactions\")\n",
    "ax.set_xlabel(\"X\")\n",
    "ax.set_ylabel(\"Y\")\n",
    "ax.set_zlabel(\"Z\")\n",
    "plt.show()\n",
    "\n"
   ],
   "outputs": [
    {
     "data": {
      "text/plain": [
       "<Figure size 1200x800 with 1 Axes>"
      ],
      "image/png": "[encoded data removed]"
     },
     "metadata": {},
     "output_type": "display_data"
    }
   ],
   "execution_count": 28
  },
  {
   "cell_type": "markdown",
   "metadata": {},
   "source": [
    "# Preparing the protein for an autoencoder\n",
    "\n",
    "From the previous discussion we will try to add into the autoencoder information about the 3D coordinates of the alpha carboins (central in the aa structure), the aminoacid it refers to, encoded through its moelcular weight, sio that we also have the dimension information on the aminoacid. Additionally we add the neighborhood information so that we also have information on the non-covalent interactions fundamental for the properties.  \n",
    "This all will go into the same matrix with 7 columns: X, Y, Z, MW of the atom, Avg_Neighbor_Dist, Max_Neighbor_Dist, Neighbor_Count"
   ]
  },
  {
   "cell_type": "code",
   "metadata": {
    "ExecuteTime": {
     "end_time": "2024-10-29T05:49:00.206476Z",
     "start_time": "2024-10-29T05:49:00.187028Z"
    }
   },
   "source": [
    "aa_info_dict = aa_info.set_index('Short').to_dict(orient='index')\n",
    "\n",
    "# Step 1: Extract 3D coordinates and amino acid information from c_alpha_df --> the one we calculated before\n",
    "coords = c_alpha_df[['X', 'Y', 'Z']].values\n",
    "aa_letters = c_alpha_df['AA']\n",
    "\n",
    "# Step 2: Use dictionary-based encoding\n",
    "# Retrieve properties for each amino acid\n",
    "encoded_features = []\n",
    "for aa in aa_letters:\n",
    "    if aa in aa_info_dict:\n",
    "        avg_mass = aa_info_dict[aa]['Avg. mass (Da)']\n",
    "        # Include additional properties if available --> we could add in the initial aa info for more props (i.e. polarity, hidrophobicity)\n",
    "        encoded_features.append([avg_mass])\n",
    "    else:\n",
    "        encoded_features.append([0])  # Adjust based on features you have\n",
    "\n",
    "# Convert encoded_features to numpy array\n",
    "encoded_features = np.array(encoded_features)\n",
    "\n",
    "# Step 3: Compute neighborhood information\n",
    "# Define the radius for \"neighborhood\" in Å\n",
    "neighborhood_radius = 5.0\n",
    "\n",
    "# Initialize NeighborSearch\n",
    "atom_list = [atom for atom in structure.get_atoms() if atom.name == 'CA']  # Use only C-alpha atoms\n",
    "neighbor_search = NeighborSearch(atom_list)\n",
    "\n",
    "# Calculate neighborhood information for each C-alpha atom\n",
    "neighborhood_info = []\n",
    "for res in structure.get_residues():\n",
    "    if 'CA' in res:\n",
    "        center = res['CA'].get_coord()\n",
    "        # Find neighbors within the specified radius\n",
    "        neighbors = neighbor_search.search(center, neighborhood_radius)\n",
    "        # Exclude the residue itself and get neighbor distances\n",
    "        distances = [np.linalg.norm(center - neighbor.get_coord()) for neighbor in neighbors if neighbor != res['CA']]\n",
    "        \n",
    "        # Neighborhood features\n",
    "        avg_distance = np.mean(distances) if distances else 0  # Average distance to neighbors\n",
    "        max_distance = np.max(distances) if distances else 0   # Max distance to neighbors\n",
    "        count_neighbors = len(distances)                      # Count of neighbors within radius\n",
    "\n",
    "        neighborhood_info.append([avg_distance, max_distance, count_neighbors])\n",
    "\n",
    "# Step 4: Combine all features into a matrix for autoencoder input\n",
    "autoencoder_input = np.hstack([\n",
    "    coords,                 # 3D coordinates (X, Y, Z)\n",
    "    encoded_features,       # Encoded amino acid properties from dictionary\n",
    "    np.array(neighborhood_info)  # Neighborhood information\n",
    "])\n",
    "\n",
    "# Convert to DataFrame for easy viewing (optional)\n",
    "columns = ['X', 'Y', 'Z', 'Avg_Mass', 'Avg_Neighbor_Dist', 'Max_Neighbor_Dist', 'Neighbor_Count']\n",
    "autoencoder_df = pd.DataFrame(autoencoder_input, columns=columns)\n"
   ],
   "outputs": [],
   "execution_count": 78
  },
  {
   "cell_type": "code",
   "metadata": {
    "ExecuteTime": {
     "end_time": "2024-10-29T05:49:00.265345Z",
     "start_time": "2024-10-29T05:49:00.255392Z"
    }
   },
   "source": [
    "autoencoder_df"
   ],
   "outputs": [
    {
     "data": {
      "text/plain": [
       "             X       Y          Z   Avg_Mass  Avg_Neighbor_Dist  \\\n",
       "0    23.388000 -19.139  -9.239000  149.20784           3.848671   \n",
       "1    24.634001 -16.649  -6.582000  146.18934           3.834370   \n",
       "2    23.024000 -14.147  -4.186000   89.09404           3.768501   \n",
       "3    19.518999 -14.167  -2.949000  165.19184           3.767896   \n",
       "4    20.761999 -13.862   0.649000  119.12034           3.831295   \n",
       "..         ...     ...        ...        ...                ...   \n",
       "205  -0.389000  -7.560   8.314000  117.14784           4.116339   \n",
       "206  -1.093000  -4.358  10.287000  132.11904           3.878291   \n",
       "207  -0.387000  -3.627  13.961000  181.19124           4.169213   \n",
       "208  -2.372000  -0.894  15.827000  181.19124           4.153348   \n",
       "209  -0.804000   1.196  18.641001  165.19184           3.839964   \n",
       "\n",
       "     Max_Neighbor_Dist  Neighbor_Count  \n",
       "0             3.848671             1.0  \n",
       "1             3.848671             2.0  \n",
       "2             3.820068             2.0  \n",
       "3             3.818858             2.0  \n",
       "4             3.843732             2.0  \n",
       "..                 ...             ...  \n",
       "205           4.713722             3.0  \n",
       "206           3.996533             3.0  \n",
       "207           4.836728             3.0  \n",
       "208           4.741887             4.0  \n",
       "209           3.839964             1.0  \n",
       "\n",
       "[210 rows x 7 columns]"
      ],
      "text/html": [
       "<div>\n",
       "<style scoped>\n",
       "    .dataframe tbody tr th:only-of-type {\n",
       "        vertical-align: middle;\n",
       "    }\n",
       "\n",
       "    .dataframe tbody tr th {\n",
       "        vertical-align: top;\n",
       "    }\n",
       "\n",
       "    .dataframe thead th {\n",
       "        text-align: right;\n",
       "    }\n",
       "</style>\n",
       "<table border=\"1\" class=\"dataframe\">\n",
       "  <thead>\n",
       "    <tr style=\"text-align: right;\">\n",
       "      <th></th>\n",
       "      <th>X</th>\n",
       "      <th>Y</th>\n",
       "      <th>Z</th>\n",
       "      <th>Avg_Mass</th>\n",
       "      <th>Avg_Neighbor_Dist</th>\n",
       "      <th>Max_Neighbor_Dist</th>\n",
       "      <th>Neighbor_Count</th>\n",
       "    </tr>\n",
       "  </thead>\n",
       "  <tbody>\n",
       "    <tr>\n",
       "      <th>0</th>\n",
       "      <td>23.388000</td>\n",
       "      <td>-19.139</td>\n",
       "      <td>-9.239000</td>\n",
       "      <td>149.20784</td>\n",
       "      <td>3.848671</td>\n",
       "      <td>3.848671</td>\n",
       "      <td>1.0</td>\n",
       "    </tr>\n",
       "    <tr>\n",
       "      <th>1</th>\n",
       "      <td>24.634001</td>\n",
       "      <td>-16.649</td>\n",
       "      <td>-6.582000</td>\n",
       "      <td>146.18934</td>\n",
       "      <td>3.834370</td>\n",
       "      <td>3.848671</td>\n",
       "      <td>2.0</td>\n",
       "    </tr>\n",
       "    <tr>\n",
       "      <th>2</th>\n",
       "      <td>23.024000</td>\n",
       "      <td>-14.147</td>\n",
       "      <td>-4.186000</td>\n",
       "      <td>89.09404</td>\n",
       "      <td>3.768501</td>\n",
       "      <td>3.820068</td>\n",
       "      <td>2.0</td>\n",
       "    </tr>\n",
       "    <tr>\n",
       "      <th>3</th>\n",
       "      <td>19.518999</td>\n",
       "      <td>-14.167</td>\n",
       "      <td>-2.949000</td>\n",
       "      <td>165.19184</td>\n",
       "      <td>3.767896</td>\n",
       "      <td>3.818858</td>\n",
       "      <td>2.0</td>\n",
       "    </tr>\n",
       "    <tr>\n",
       "      <th>4</th>\n",
       "      <td>20.761999</td>\n",
       "      <td>-13.862</td>\n",
       "      <td>0.649000</td>\n",
       "      <td>119.12034</td>\n",
       "      <td>3.831295</td>\n",
       "      <td>3.843732</td>\n",
       "      <td>2.0</td>\n",
       "    </tr>\n",
       "    <tr>\n",
       "      <th>...</th>\n",
       "      <td>...</td>\n",
       "      <td>...</td>\n",
       "      <td>...</td>\n",
       "      <td>...</td>\n",
       "      <td>...</td>\n",
       "      <td>...</td>\n",
       "      <td>...</td>\n",
       "    </tr>\n",
       "    <tr>\n",
       "      <th>205</th>\n",
       "      <td>-0.389000</td>\n",
       "      <td>-7.560</td>\n",
       "      <td>8.314000</td>\n",
       "      <td>117.14784</td>\n",
       "      <td>4.116339</td>\n",
       "      <td>4.713722</td>\n",
       "      <td>3.0</td>\n",
       "    </tr>\n",
       "    <tr>\n",
       "      <th>206</th>\n",
       "      <td>-1.093000</td>\n",
       "      <td>-4.358</td>\n",
       "      <td>10.287000</td>\n",
       "      <td>132.11904</td>\n",
       "      <td>3.878291</td>\n",
       "      <td>3.996533</td>\n",
       "      <td>3.0</td>\n",
       "    </tr>\n",
       "    <tr>\n",
       "      <th>207</th>\n",
       "      <td>-0.387000</td>\n",
       "      <td>-3.627</td>\n",
       "      <td>13.961000</td>\n",
       "      <td>181.19124</td>\n",
       "      <td>4.169213</td>\n",
       "      <td>4.836728</td>\n",
       "      <td>3.0</td>\n",
       "    </tr>\n",
       "    <tr>\n",
       "      <th>208</th>\n",
       "      <td>-2.372000</td>\n",
       "      <td>-0.894</td>\n",
       "      <td>15.827000</td>\n",
       "      <td>181.19124</td>\n",
       "      <td>4.153348</td>\n",
       "      <td>4.741887</td>\n",
       "      <td>4.0</td>\n",
       "    </tr>\n",
       "    <tr>\n",
       "      <th>209</th>\n",
       "      <td>-0.804000</td>\n",
       "      <td>1.196</td>\n",
       "      <td>18.641001</td>\n",
       "      <td>165.19184</td>\n",
       "      <td>3.839964</td>\n",
       "      <td>3.839964</td>\n",
       "      <td>1.0</td>\n",
       "    </tr>\n",
       "  </tbody>\n",
       "</table>\n",
       "<p>210 rows × 7 columns</p>\n",
       "</div>"
      ]
     },
     "execution_count": 79,
     "metadata": {},
     "output_type": "execute_result"
    }
   ],
   "execution_count": 79
  },
  {
   "cell_type": "code",
   "metadata": {
    "ExecuteTime": {
     "end_time": "2024-10-29T05:49:00.349708Z",
     "start_time": "2024-10-29T05:49:00.346148Z"
    }
   },
   "source": [
    "print(autoencoder_input.shape)"
   ],
   "outputs": [
    {
     "name": "stdout",
     "output_type": "stream",
     "text": [
      "(210, 7)\n"
     ]
    }
   ],
   "execution_count": 80
  },
  {
   "cell_type": "markdown",
   "metadata": {},
   "source": [
    "# Application on more proteins"
   ]
  },
  {
   "cell_type": "code",
   "metadata": {
    "ExecuteTime": {
     "end_time": "2024-10-29T06:01:05.304709Z",
     "start_time": "2024-10-29T05:59:43.050951Z"
    }
   },
   "source": [
    "# Set the path to the protein folder and random seed for reproducibility\n",
    "protein_folder = '/Users/alexchilton/Downloads/archive/train'\n",
    "random.seed(42)\n",
    "\n",
    "# Step 1: Get a list of PDB files and select 15 randomly\n",
    "pdb_files = glob.glob(os.path.join(protein_folder, '*.pdb'))\n",
    "selected_files = random.sample(pdb_files, 15)\n",
    "\n",
    "# List to store each protein's matrix for the autoencoder\n",
    "protein_matrices = []\n",
    "\n",
    "# Function to process each PDB file\n",
    "# Process each selected PDB file\n",
    "for file_path in selected_files:\n",
    "    matrix = protein_parser.process_protein(file_path)\n",
    "    if matrix is not None:\n",
    "        protein_matrices.append(matrix)\n",
    "\n",
    "# Check the shape of each matrix (optional)\n",
    "for i, matrix in enumerate(protein_matrices):\n",
    "    print(f\"Protein {i+1} matrix shape: {matrix.shape}\")\n",
    "\n",
    "# Now `protein_matrices` contains 15 matrices, each for a different protein,\n",
    "# with each row representing a residue and columns representing coordinates, mass, and neighborhood info.\n"
   ],
   "outputs": [
    {
     "name": "stdout",
     "output_type": "stream",
     "text": [
      "Residue Met not in amino acid info dictionary.\n",
      "Residue Lys not in amino acid info dictionary.\n",
      "Residue Ala not in amino acid info dictionary.\n",
      "Residue Phe not in amino acid info dictionary.\n",
      "Residue Thr not in amino acid info dictionary.\n",
      "Residue Lys not in amino acid info dictionary.\n",
      "Residue Leu not in amino acid info dictionary.\n",
      "Residue Ala not in amino acid info dictionary.\n",
      "Residue Leu not in amino acid info dictionary.\n",
      "Residue Phe not in amino acid info dictionary.\n",
      "Residue Val not in amino acid info dictionary.\n",
      "Residue Gly not in amino acid info dictionary.\n",
      "Residue Leu not in amino acid info dictionary.\n",
      "Residue Val not in amino acid info dictionary.\n",
      "Residue Ser not in amino acid info dictionary.\n",
      "Residue Gly not in amino acid info dictionary.\n",
      "Residue Ala not in amino acid info dictionary.\n",
      "Residue Thr not in amino acid info dictionary.\n",
      "Residue Leu not in amino acid info dictionary.\n",
      "Residue Ala not in amino acid info dictionary.\n",
      "Residue Asn not in amino acid info dictionary.\n",
      "Residue Ala not in amino acid info dictionary.\n",
      "Residue Ala not in amino acid info dictionary.\n",
      "Residue Gly not in amino acid info dictionary.\n",
      "Residue Ile not in amino acid info dictionary.\n",
      "Residue Asn not in amino acid info dictionary.\n",
      "Residue Asn not in amino acid info dictionary.\n",
      "Residue Thr not in amino acid info dictionary.\n",
      "Residue Gly not in amino acid info dictionary.\n",
      "Residue Tyr not in amino acid info dictionary.\n",
      "Residue Tyr not in amino acid info dictionary.\n",
      "Residue Ala not in amino acid info dictionary.\n",
      "Residue Gly not in amino acid info dictionary.\n",
      "Residue Ala not in amino acid info dictionary.\n",
      "Residue Lys not in amino acid info dictionary.\n",
      "Residue Met not in amino acid info dictionary.\n",
      "Residue Gly not in amino acid info dictionary.\n",
      "Residue Ile not in amino acid info dictionary.\n",
      "Residue Ser not in amino acid info dictionary.\n",
      "Residue Ala not in amino acid info dictionary.\n",
      "Residue Glu not in amino acid info dictionary.\n",
      "Residue His not in amino acid info dictionary.\n",
      "Residue Leu not in amino acid info dictionary.\n",
      "Residue Phe not in amino acid info dictionary.\n",
      "Residue Asp not in amino acid info dictionary.\n",
      "Residue Gln not in amino acid info dictionary.\n",
      "Residue Lys not in amino acid info dictionary.\n",
      "Residue Asp not in amino acid info dictionary.\n",
      "Residue Val not in amino acid info dictionary.\n",
      "Residue Asn not in amino acid info dictionary.\n",
      "Residue Gly not in amino acid info dictionary.\n",
      "Residue Asn not in amino acid info dictionary.\n",
      "Residue Gly not in amino acid info dictionary.\n",
      "Residue Met not in amino acid info dictionary.\n",
      "Residue Ser not in amino acid info dictionary.\n",
      "Residue Asn not in amino acid info dictionary.\n",
      "Residue Asp not in amino acid info dictionary.\n",
      "Residue Asn not in amino acid info dictionary.\n",
      "Residue Lys not in amino acid info dictionary.\n",
      "Residue Gly not in amino acid info dictionary.\n",
      "Residue Val not in amino acid info dictionary.\n",
      "Residue Gly not in amino acid info dictionary.\n",
      "Residue Asn not in amino acid info dictionary.\n",
      "Residue Ala not in amino acid info dictionary.\n",
      "Residue Gly not in amino acid info dictionary.\n",
      "Residue Leu not in amino acid info dictionary.\n",
      "Residue Val not in amino acid info dictionary.\n",
      "Residue Phe not in amino acid info dictionary.\n",
      "Residue Gly not in amino acid info dictionary.\n",
      "Residue Tyr not in amino acid info dictionary.\n",
      "Residue Asn not in amino acid info dictionary.\n",
      "Residue Phe not in amino acid info dictionary.\n",
      "Residue Glu not in amino acid info dictionary.\n",
      "Residue Asn not in amino acid info dictionary.\n",
      "Residue Gln not in amino acid info dictionary.\n",
      "Residue Phe not in amino acid info dictionary.\n",
      "Residue Ser not in amino acid info dictionary.\n",
      "Residue Leu not in amino acid info dictionary.\n",
      "Residue Pro not in amino acid info dictionary.\n",
      "Residue Val not in amino acid info dictionary.\n",
      "Residue Arg not in amino acid info dictionary.\n",
      "Residue Ala not in amino acid info dictionary.\n",
      "Residue Glu not in amino acid info dictionary.\n",
      "Residue Leu not in amino acid info dictionary.\n",
      "Residue Asp not in amino acid info dictionary.\n",
      "Residue Tyr not in amino acid info dictionary.\n",
      "Residue Thr not in amino acid info dictionary.\n",
      "Residue Phe not in amino acid info dictionary.\n",
      "Residue Arg not in amino acid info dictionary.\n",
      "Residue Ala not in amino acid info dictionary.\n",
      "Residue Asn not in amino acid info dictionary.\n",
      "Residue Ala not in amino acid info dictionary.\n",
      "Residue Thr not in amino acid info dictionary.\n",
      "Residue Ser not in amino acid info dictionary.\n",
      "Residue Ser not in amino acid info dictionary.\n",
      "Residue His not in amino acid info dictionary.\n",
      "Residue Thr not in amino acid info dictionary.\n",
      "Residue Asn not in amino acid info dictionary.\n",
      "Residue Asp not in amino acid info dictionary.\n",
      "Residue Ala not in amino acid info dictionary.\n",
      "Residue Ala not in amino acid info dictionary.\n",
      "Residue Glu not in amino acid info dictionary.\n",
      "Residue Thr not in amino acid info dictionary.\n",
      "Residue Asn not in amino acid info dictionary.\n",
      "Residue Asp not in amino acid info dictionary.\n",
      "Residue Ser not in amino acid info dictionary.\n",
      "Residue Arg not in amino acid info dictionary.\n",
      "Residue Leu not in amino acid info dictionary.\n",
      "Residue Gly not in amino acid info dictionary.\n",
      "Residue Leu not in amino acid info dictionary.\n",
      "Residue Gln not in amino acid info dictionary.\n",
      "Residue Thr not in amino acid info dictionary.\n",
      "Residue Leu not in amino acid info dictionary.\n",
      "Residue Met not in amino acid info dictionary.\n",
      "Residue Val not in amino acid info dictionary.\n",
      "Residue Asn not in amino acid info dictionary.\n",
      "Residue Gly not in amino acid info dictionary.\n",
      "Residue Tyr not in amino acid info dictionary.\n",
      "Residue Tyr not in amino acid info dictionary.\n",
      "Residue Asp not in amino acid info dictionary.\n",
      "Residue Ile not in amino acid info dictionary.\n",
      "Residue Lys not in amino acid info dictionary.\n",
      "Residue Thr not in amino acid info dictionary.\n",
      "Residue Gly not in amino acid info dictionary.\n",
      "Residue Thr not in amino acid info dictionary.\n",
      "Residue Pro not in amino acid info dictionary.\n",
      "Residue Phe not in amino acid info dictionary.\n",
      "Residue Thr not in amino acid info dictionary.\n",
      "Residue Pro not in amino acid info dictionary.\n",
      "Residue Tyr not in amino acid info dictionary.\n",
      "Residue Val not in amino acid info dictionary.\n",
      "Residue Gly not in amino acid info dictionary.\n",
      "Residue Ala not in amino acid info dictionary.\n",
      "Residue Gly not in amino acid info dictionary.\n",
      "Residue Ile not in amino acid info dictionary.\n",
      "Residue Gly not in amino acid info dictionary.\n",
      "Residue Tyr not in amino acid info dictionary.\n",
      "Residue Ala not in amino acid info dictionary.\n",
      "Residue Asn not in amino acid info dictionary.\n",
      "Residue Val not in amino acid info dictionary.\n",
      "Residue Ser not in amino acid info dictionary.\n",
      "Residue Leu not in amino acid info dictionary.\n",
      "Residue Lys not in amino acid info dictionary.\n",
      "Residue Asn not in amino acid info dictionary.\n",
      "Residue Asp not in amino acid info dictionary.\n",
      "Residue Met not in amino acid info dictionary.\n",
      "Residue Asn not in amino acid info dictionary.\n",
      "Residue Gly not in amino acid info dictionary.\n",
      "Residue Asp not in amino acid info dictionary.\n",
      "Residue Asn not in amino acid info dictionary.\n",
      "Residue Val not in amino acid info dictionary.\n",
      "Residue Gln not in amino acid info dictionary.\n",
      "Residue Ser not in amino acid info dictionary.\n",
      "Residue Asn not in amino acid info dictionary.\n",
      "Residue Ser not in amino acid info dictionary.\n",
      "Residue Asn not in amino acid info dictionary.\n",
      "Residue Asn not in amino acid info dictionary.\n",
      "Residue Phe not in amino acid info dictionary.\n",
      "Residue Ala not in amino acid info dictionary.\n",
      "Residue Trp not in amino acid info dictionary.\n",
      "Residue Ser not in amino acid info dictionary.\n",
      "Residue Val not in amino acid info dictionary.\n",
      "Residue Gly not in amino acid info dictionary.\n",
      "Residue Thr not in amino acid info dictionary.\n",
      "Residue Gly not in amino acid info dictionary.\n",
      "Residue Val not in amino acid info dictionary.\n",
      "Residue Ile not in amino acid info dictionary.\n",
      "Residue Tyr not in amino acid info dictionary.\n",
      "Residue Asn not in amino acid info dictionary.\n",
      "Residue Val not in amino acid info dictionary.\n",
      "Residue Asn not in amino acid info dictionary.\n",
      "Residue Glu not in amino acid info dictionary.\n",
      "Residue Arg not in amino acid info dictionary.\n",
      "Residue Leu not in amino acid info dictionary.\n",
      "Residue Asp not in amino acid info dictionary.\n",
      "Residue Leu not in amino acid info dictionary.\n",
      "Residue Asp not in amino acid info dictionary.\n",
      "Residue Leu not in amino acid info dictionary.\n",
      "Residue Gly not in amino acid info dictionary.\n",
      "Residue Tyr not in amino acid info dictionary.\n",
      "Residue Lys not in amino acid info dictionary.\n",
      "Residue Tyr not in amino acid info dictionary.\n",
      "Residue Leu not in amino acid info dictionary.\n",
      "Residue Asp not in amino acid info dictionary.\n",
      "Residue Ala not in amino acid info dictionary.\n",
      "Residue Gly not in amino acid info dictionary.\n",
      "Residue Lys not in amino acid info dictionary.\n",
      "Residue Ala not in amino acid info dictionary.\n",
      "Residue Ser not in amino acid info dictionary.\n",
      "Residue Ala not in amino acid info dictionary.\n",
      "Residue Gly not in amino acid info dictionary.\n",
      "Residue Asn not in amino acid info dictionary.\n",
      "Residue Ser not in amino acid info dictionary.\n",
      "Residue Gln not in amino acid info dictionary.\n",
      "Residue Ala not in amino acid info dictionary.\n",
      "Residue Lys not in amino acid info dictionary.\n",
      "Residue Val not in amino acid info dictionary.\n",
      "Residue Thr not in amino acid info dictionary.\n",
      "Residue Thr not in amino acid info dictionary.\n",
      "Residue His not in amino acid info dictionary.\n",
      "Residue Asp not in amino acid info dictionary.\n",
      "Residue Val not in amino acid info dictionary.\n",
      "Residue Thr not in amino acid info dictionary.\n",
      "Residue Leu not in amino acid info dictionary.\n",
      "Residue Gly not in amino acid info dictionary.\n",
      "Residue Val not in amino acid info dictionary.\n",
      "Residue Asn not in amino acid info dictionary.\n",
      "Residue Tyr not in amino acid info dictionary.\n",
      "Residue Tyr not in amino acid info dictionary.\n",
      "Residue Phe not in amino acid info dictionary.\n"
     ]
    },
    {
     "ename": "KeyboardInterrupt",
     "evalue": "",
     "output_type": "error",
     "traceback": [
      "\u001B[0;31m---------------------------------------------------------------------------\u001B[0m",
      "\u001B[0;31mKeyboardInterrupt\u001B[0m                         Traceback (most recent call last)",
      "Cell \u001B[0;32mIn[84], line 15\u001B[0m\n\u001B[1;32m     12\u001B[0m \u001B[38;5;66;03m# Function to process each PDB file\u001B[39;00m\n\u001B[1;32m     13\u001B[0m \u001B[38;5;66;03m# Process each selected PDB file\u001B[39;00m\n\u001B[1;32m     14\u001B[0m \u001B[38;5;28;01mfor\u001B[39;00m file_path \u001B[38;5;129;01min\u001B[39;00m selected_files:\n\u001B[0;32m---> 15\u001B[0m     matrix \u001B[38;5;241m=\u001B[39m \u001B[43mprotein_parser\u001B[49m\u001B[38;5;241;43m.\u001B[39;49m\u001B[43mprocess_protein\u001B[49m\u001B[43m(\u001B[49m\u001B[43mfile_path\u001B[49m\u001B[43m)\u001B[49m\n\u001B[1;32m     16\u001B[0m     \u001B[38;5;28;01mif\u001B[39;00m matrix \u001B[38;5;129;01mis\u001B[39;00m \u001B[38;5;129;01mnot\u001B[39;00m \u001B[38;5;28;01mNone\u001B[39;00m:\n\u001B[1;32m     17\u001B[0m         protein_matrices\u001B[38;5;241m.\u001B[39mappend(matrix)\n",
      "File \u001B[0;32m~/DataspellProjects/laras_code/untitled/protein_parser.py:67\u001B[0m, in \u001B[0;36mprocess_protein\u001B[0;34m(file_path)\u001B[0m\n\u001B[1;32m     64\u001B[0m                 \u001B[38;5;28mprint\u001B[39m(\u001B[38;5;124mf\u001B[39m\u001B[38;5;124m\"\u001B[39m\u001B[38;5;124mResidue \u001B[39m\u001B[38;5;132;01m{\u001B[39;00mres_name\u001B[38;5;132;01m}\u001B[39;00m\u001B[38;5;124m not in amino acid info dictionary.\u001B[39m\u001B[38;5;124m\"\u001B[39m)\n\u001B[1;32m     66\u001B[0m \u001B[38;5;66;03m# Convert C-alpha information to DataFrame\u001B[39;00m\n\u001B[0;32m---> 67\u001B[0m c_alpha_df \u001B[38;5;241m=\u001B[39m \u001B[43mpd\u001B[49m\u001B[38;5;241;43m.\u001B[39;49m\u001B[43mDataFrame\u001B[49m\u001B[43m(\u001B[49m\u001B[43mc_alpha_matrix\u001B[49m\u001B[43m,\u001B[49m\u001B[43m \u001B[49m\u001B[43mcolumns\u001B[49m\u001B[38;5;241;43m=\u001B[39;49m\u001B[43m[\u001B[49m\u001B[38;5;124;43m'\u001B[39;49m\u001B[38;5;124;43mX\u001B[39;49m\u001B[38;5;124;43m'\u001B[39;49m\u001B[43m,\u001B[49m\u001B[43m \u001B[49m\u001B[38;5;124;43m'\u001B[39;49m\u001B[38;5;124;43mY\u001B[39;49m\u001B[38;5;124;43m'\u001B[39;49m\u001B[43m,\u001B[49m\u001B[43m \u001B[49m\u001B[38;5;124;43m'\u001B[39;49m\u001B[38;5;124;43mZ\u001B[39;49m\u001B[38;5;124;43m'\u001B[39;49m\u001B[43m,\u001B[49m\u001B[43m \u001B[49m\u001B[38;5;124;43m'\u001B[39;49m\u001B[38;5;124;43mAA\u001B[39;49m\u001B[38;5;124;43m'\u001B[39;49m\u001B[43m,\u001B[49m\u001B[43m \u001B[49m\u001B[38;5;124;43m'\u001B[39;49m\u001B[38;5;124;43mMass\u001B[39;49m\u001B[38;5;124;43m'\u001B[39;49m\u001B[43m]\u001B[49m\u001B[43m)\u001B[49m\n\u001B[1;32m     69\u001B[0m \u001B[38;5;66;03m# If no C-alpha atoms are found, skip the file\u001B[39;00m\n\u001B[1;32m     70\u001B[0m \u001B[38;5;28;01mif\u001B[39;00m c_alpha_df\u001B[38;5;241m.\u001B[39mempty:\n",
      "File \u001B[0;32m/opt/anaconda3/envs/untitled/lib/python3.8/site-packages/pandas/core/frame.py:807\u001B[0m, in \u001B[0;36mDataFrame.__init__\u001B[0;34m(self, data, index, columns, dtype, copy)\u001B[0m\n\u001B[1;32m    798\u001B[0m             mgr \u001B[38;5;241m=\u001B[39m ndarray_to_mgr(\n\u001B[1;32m    799\u001B[0m                 data,\n\u001B[1;32m    800\u001B[0m                 index,\n\u001B[0;32m   (...)\u001B[0m\n\u001B[1;32m    804\u001B[0m                 typ\u001B[38;5;241m=\u001B[39mmanager,\n\u001B[1;32m    805\u001B[0m             )\n\u001B[1;32m    806\u001B[0m     \u001B[38;5;28;01melse\u001B[39;00m:\n\u001B[0;32m--> 807\u001B[0m         mgr \u001B[38;5;241m=\u001B[39m \u001B[43mdict_to_mgr\u001B[49m\u001B[43m(\u001B[49m\n\u001B[1;32m    808\u001B[0m \u001B[43m            \u001B[49m\u001B[43m{\u001B[49m\u001B[43m}\u001B[49m\u001B[43m,\u001B[49m\n\u001B[1;32m    809\u001B[0m \u001B[43m            \u001B[49m\u001B[43mindex\u001B[49m\u001B[43m,\u001B[49m\n\u001B[1;32m    810\u001B[0m \u001B[43m            \u001B[49m\u001B[43mcolumns\u001B[49m\u001B[43m \u001B[49m\u001B[38;5;28;43;01mif\u001B[39;49;00m\u001B[43m \u001B[49m\u001B[43mcolumns\u001B[49m\u001B[43m \u001B[49m\u001B[38;5;129;43;01mis\u001B[39;49;00m\u001B[43m \u001B[49m\u001B[38;5;129;43;01mnot\u001B[39;49;00m\u001B[43m \u001B[49m\u001B[38;5;28;43;01mNone\u001B[39;49;00m\u001B[43m \u001B[49m\u001B[38;5;28;43;01melse\u001B[39;49;00m\u001B[43m \u001B[49m\u001B[43mdefault_index\u001B[49m\u001B[43m(\u001B[49m\u001B[38;5;241;43m0\u001B[39;49m\u001B[43m)\u001B[49m\u001B[43m,\u001B[49m\n\u001B[1;32m    811\u001B[0m \u001B[43m            \u001B[49m\u001B[43mdtype\u001B[49m\u001B[38;5;241;43m=\u001B[39;49m\u001B[43mdtype\u001B[49m\u001B[43m,\u001B[49m\n\u001B[1;32m    812\u001B[0m \u001B[43m            \u001B[49m\u001B[43mtyp\u001B[49m\u001B[38;5;241;43m=\u001B[39;49m\u001B[43mmanager\u001B[49m\u001B[43m,\u001B[49m\n\u001B[1;32m    813\u001B[0m \u001B[43m        \u001B[49m\u001B[43m)\u001B[49m\n\u001B[1;32m    814\u001B[0m \u001B[38;5;66;03m# For data is scalar\u001B[39;00m\n\u001B[1;32m    815\u001B[0m \u001B[38;5;28;01melse\u001B[39;00m:\n\u001B[1;32m    816\u001B[0m     \u001B[38;5;28;01mif\u001B[39;00m index \u001B[38;5;129;01mis\u001B[39;00m \u001B[38;5;28;01mNone\u001B[39;00m \u001B[38;5;129;01mor\u001B[39;00m columns \u001B[38;5;129;01mis\u001B[39;00m \u001B[38;5;28;01mNone\u001B[39;00m:\n",
      "File \u001B[0;32m/opt/anaconda3/envs/untitled/lib/python3.8/site-packages/pandas/core/internals/construction.py:431\u001B[0m, in \u001B[0;36mdict_to_mgr\u001B[0;34m(data, index, columns, dtype, typ, copy)\u001B[0m\n\u001B[1;32m    428\u001B[0m \u001B[38;5;28;01mif\u001B[39;00m columns \u001B[38;5;129;01mis\u001B[39;00m \u001B[38;5;129;01mnot\u001B[39;00m \u001B[38;5;28;01mNone\u001B[39;00m:\n\u001B[1;32m    429\u001B[0m     \u001B[38;5;28;01mfrom\u001B[39;00m \u001B[38;5;21;01mpandas\u001B[39;00m\u001B[38;5;21;01m.\u001B[39;00m\u001B[38;5;21;01mcore\u001B[39;00m\u001B[38;5;21;01m.\u001B[39;00m\u001B[38;5;21;01mseries\u001B[39;00m \u001B[38;5;28;01mimport\u001B[39;00m Series\n\u001B[0;32m--> 431\u001B[0m     arrays \u001B[38;5;241m=\u001B[39m \u001B[43mSeries\u001B[49m\u001B[43m(\u001B[49m\u001B[43mdata\u001B[49m\u001B[43m,\u001B[49m\u001B[43m \u001B[49m\u001B[43mindex\u001B[49m\u001B[38;5;241;43m=\u001B[39;49m\u001B[43mcolumns\u001B[49m\u001B[43m,\u001B[49m\u001B[43m \u001B[49m\u001B[43mdtype\u001B[49m\u001B[38;5;241;43m=\u001B[39;49m\u001B[38;5;28;43mobject\u001B[39;49m\u001B[43m)\u001B[49m\n\u001B[1;32m    432\u001B[0m     missing \u001B[38;5;241m=\u001B[39m arrays\u001B[38;5;241m.\u001B[39misna()\n\u001B[1;32m    433\u001B[0m     \u001B[38;5;28;01mif\u001B[39;00m index \u001B[38;5;129;01mis\u001B[39;00m \u001B[38;5;28;01mNone\u001B[39;00m:\n\u001B[1;32m    434\u001B[0m         \u001B[38;5;66;03m# GH10856\u001B[39;00m\n\u001B[1;32m    435\u001B[0m         \u001B[38;5;66;03m# raise ValueError if only scalars in dict\u001B[39;00m\n",
      "File \u001B[0;32m/opt/anaconda3/envs/untitled/lib/python3.8/site-packages/pandas/core/series.py:425\u001B[0m, in \u001B[0;36mSeries.__init__\u001B[0;34m(self, data, index, dtype, name, copy, fastpath)\u001B[0m\n\u001B[1;32m    422\u001B[0m name \u001B[38;5;241m=\u001B[39m ibase\u001B[38;5;241m.\u001B[39mmaybe_extract_name(name, data, \u001B[38;5;28mtype\u001B[39m(\u001B[38;5;28mself\u001B[39m))\n\u001B[1;32m    424\u001B[0m \u001B[38;5;28;01mif\u001B[39;00m index \u001B[38;5;129;01mis\u001B[39;00m \u001B[38;5;129;01mnot\u001B[39;00m \u001B[38;5;28;01mNone\u001B[39;00m:\n\u001B[0;32m--> 425\u001B[0m     index \u001B[38;5;241m=\u001B[39m \u001B[43mensure_index\u001B[49m\u001B[43m(\u001B[49m\u001B[43mindex\u001B[49m\u001B[43m)\u001B[49m\n\u001B[1;32m    427\u001B[0m \u001B[38;5;28;01mif\u001B[39;00m dtype \u001B[38;5;129;01mis\u001B[39;00m \u001B[38;5;129;01mnot\u001B[39;00m \u001B[38;5;28;01mNone\u001B[39;00m:\n\u001B[1;32m    428\u001B[0m     dtype \u001B[38;5;241m=\u001B[39m \u001B[38;5;28mself\u001B[39m\u001B[38;5;241m.\u001B[39m_validate_dtype(dtype)\n",
      "File \u001B[0;32m/opt/anaconda3/envs/untitled/lib/python3.8/site-packages/pandas/core/indexes/base.py:7126\u001B[0m, in \u001B[0;36mensure_index\u001B[0;34m(index_like, copy)\u001B[0m\n\u001B[1;32m   7124\u001B[0m         \u001B[38;5;28;01mreturn\u001B[39;00m MultiIndex\u001B[38;5;241m.\u001B[39mfrom_arrays(index_like)\n\u001B[1;32m   7125\u001B[0m     \u001B[38;5;28;01melse\u001B[39;00m:\n\u001B[0;32m-> 7126\u001B[0m         \u001B[38;5;28;01mreturn\u001B[39;00m \u001B[43mIndex\u001B[49m\u001B[43m(\u001B[49m\u001B[43mindex_like\u001B[49m\u001B[43m,\u001B[49m\u001B[43m \u001B[49m\u001B[43mcopy\u001B[49m\u001B[38;5;241;43m=\u001B[39;49m\u001B[43mcopy\u001B[49m\u001B[43m,\u001B[49m\u001B[43m \u001B[49m\u001B[43mtupleize_cols\u001B[49m\u001B[38;5;241;43m=\u001B[39;49m\u001B[38;5;28;43;01mFalse\u001B[39;49;00m\u001B[43m)\u001B[49m\n\u001B[1;32m   7127\u001B[0m \u001B[38;5;28;01melse\u001B[39;00m:\n\u001B[1;32m   7128\u001B[0m     \u001B[38;5;28;01mreturn\u001B[39;00m Index(index_like, copy\u001B[38;5;241m=\u001B[39mcopy)\n",
      "File \u001B[0;32m/opt/anaconda3/envs/untitled/lib/python3.8/site-packages/pandas/core/indexes/base.py:469\u001B[0m, in \u001B[0;36mIndex.__new__\u001B[0;34m(cls, data, dtype, copy, name, tupleize_cols)\u001B[0m\n\u001B[1;32m    464\u001B[0m _references \u001B[38;5;241m=\u001B[39m \u001B[38;5;28;01mNone\u001B[39;00m\n\u001B[1;32m    466\u001B[0m \u001B[38;5;66;03m# --------------------------------------------------------------------\u001B[39;00m\n\u001B[1;32m    467\u001B[0m \u001B[38;5;66;03m# Constructors\u001B[39;00m\n\u001B[0;32m--> 469\u001B[0m \u001B[38;5;28;01mdef\u001B[39;00m \u001B[38;5;21m__new__\u001B[39m(\n\u001B[1;32m    470\u001B[0m     \u001B[38;5;28mcls\u001B[39m,\n\u001B[1;32m    471\u001B[0m     data\u001B[38;5;241m=\u001B[39m\u001B[38;5;28;01mNone\u001B[39;00m,\n\u001B[1;32m    472\u001B[0m     dtype\u001B[38;5;241m=\u001B[39m\u001B[38;5;28;01mNone\u001B[39;00m,\n\u001B[1;32m    473\u001B[0m     copy: \u001B[38;5;28mbool\u001B[39m \u001B[38;5;241m=\u001B[39m \u001B[38;5;28;01mFalse\u001B[39;00m,\n\u001B[1;32m    474\u001B[0m     name\u001B[38;5;241m=\u001B[39m\u001B[38;5;28;01mNone\u001B[39;00m,\n\u001B[1;32m    475\u001B[0m     tupleize_cols: \u001B[38;5;28mbool\u001B[39m \u001B[38;5;241m=\u001B[39m \u001B[38;5;28;01mTrue\u001B[39;00m,\n\u001B[1;32m    476\u001B[0m ) \u001B[38;5;241m-\u001B[39m\u001B[38;5;241m>\u001B[39m Index:\n\u001B[1;32m    477\u001B[0m     \u001B[38;5;28;01mfrom\u001B[39;00m \u001B[38;5;21;01mpandas\u001B[39;00m\u001B[38;5;21;01m.\u001B[39;00m\u001B[38;5;21;01mcore\u001B[39;00m\u001B[38;5;21;01m.\u001B[39;00m\u001B[38;5;21;01mindexes\u001B[39;00m\u001B[38;5;21;01m.\u001B[39;00m\u001B[38;5;21;01mrange\u001B[39;00m \u001B[38;5;28;01mimport\u001B[39;00m RangeIndex\n\u001B[1;32m    479\u001B[0m     name \u001B[38;5;241m=\u001B[39m maybe_extract_name(name, data, \u001B[38;5;28mcls\u001B[39m)\n",
      "\u001B[0;31mKeyboardInterrupt\u001B[0m: "
     ]
    }
   ],
   "execution_count": 84
  },
  {
   "cell_type": "markdown",
   "metadata": {},
   "source": [
    "## Heatmap on the different proteins"
   ]
  },
  {
   "cell_type": "code",
   "metadata": {
    "ExecuteTime": {
     "end_time": "2024-10-29T05:49:01.698844Z",
     "start_time": "2024-10-29T05:49:01.694020Z"
    }
   },
   "source": [
    "for idx, protein_matrix in enumerate(protein_matrices):\n",
    "    # Check if the matrix has at least 3 columns (X, Y, Z)\n",
    "    if protein_matrix.shape[1] < 3:\n",
    "        print(f\"Protein {idx+1} matrix does not have the required coordinates.\")\n",
    "        continue\n",
    "    \n",
    "    # Extract C-alpha coordinates\n",
    "    coordinates = protein_matrix[:, :3]  # Assuming the first 3 columns are X, Y, Z\n",
    "    num_residues = len(coordinates)\n",
    "\n",
    "    # Calculate pairwise distances\n",
    "    distance_matrix = np.zeros((num_residues, num_residues))\n",
    "    for i in range(num_residues):\n",
    "        for j in range(i, num_residues):\n",
    "            dist = np.linalg.norm(coordinates[i] - coordinates[j])\n",
    "            distance_matrix[i, j] = dist\n",
    "            distance_matrix[j, i] = dist  # Symmetric matrix\n",
    "\n",
    "    # Plotting the heatmap\n",
    "    plt.figure(figsize=(6, 6))\n",
    "    sns.heatmap(distance_matrix, cmap=\"viridis\", square=True)\n",
    "    plt.title(f\"Protein {idx+1} C-alpha Pairwise Distance Heatmap\")\n",
    "    plt.xlabel(\"Residue Index\")\n",
    "    plt.ylabel(\"Residue Index\")\n",
    "    plt.show()\n"
   ],
   "outputs": [],
   "execution_count": 82
  },
  {
   "cell_type": "code",
   "metadata": {
    "ExecuteTime": {
     "end_time": "2024-10-29T05:49:01.776967Z",
     "start_time": "2024-10-29T05:49:01.774985Z"
    }
   },
   "source": [],
   "outputs": [],
   "execution_count": null
  }
 ],
 "metadata": {
  "kaggle": {
   "accelerator": "none",
   "dataSources": [
    {
     "datasetId": 3555818,
     "sourceId": 6194252,
     "sourceType": "datasetVersion"
    }
   ],
   "dockerImageVersionId": 30786,
   "isGpuEnabled": false,
   "isInternetEnabled": true,
   "language": "python",
   "sourceType": "notebook"
  },
  "kernelspec": {
   "display_name": "Python 3",
   "language": "python",
   "name": "python3"
  },
  "language_info": {
   "codemirror_mode": {
    "name": "ipython",
    "version": 3
   },
   "file_extension": ".py",
   "mimetype": "text/x-python",
   "name": "python",
   "nbconvert_exporter": "python",
   "pygments_lexer": "ipython3",
   "version": "3.12.6"
  }
 },
 "nbformat": 4,
 "nbformat_minor": 4
}
